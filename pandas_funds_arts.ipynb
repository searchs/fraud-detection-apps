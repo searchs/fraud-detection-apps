{
 "cells": [
  {
   "cell_type": "code",
   "execution_count": 1,
   "id": "8270aee7-2596-493d-9e0d-0d404014b6c0",
   "metadata": {},
   "outputs": [],
   "source": [
    "# PluralSight Pandas Fundamentals Course"
   ]
  },
  {
   "cell_type": "code",
   "execution_count": 209,
   "id": "69f4913e-1fdb-4237-834e-1058385bf009",
   "metadata": {},
   "outputs": [],
   "source": [
    "try:\n",
    "    import pandas as pd\n",
    "except Exception:\n",
    "    print(\"Looks like no Pandas is present. Install it\")\n",
    "    !pip install pandas\n",
    "    import pandas as pd"
   ]
  },
  {
   "cell_type": "code",
   "execution_count": 210,
   "id": "e32ee495-7a99-453d-bf45-2aa578a5873b",
   "metadata": {},
   "outputs": [],
   "source": [
    "try:\n",
    "    import numpy as np\n",
    "except Exception:\n",
    "    print(\"Looks like no Numpy is present. Install it\")\n",
    "    !pip install numpy\n",
    "    import numpy as np"
   ]
  },
  {
   "cell_type": "code",
   "execution_count": 211,
   "id": "30428978-cf13-4cef-9c95-0fe6d9eef8f7",
   "metadata": {},
   "outputs": [
    {
     "name": "stdout",
     "output_type": "stream",
     "text": [
      "PANDAS VERSION: 1.5.3\n"
     ]
    }
   ],
   "source": [
    "print(f\"PANDAS VERSION: {pd.__version__}\")"
   ]
  },
  {
   "cell_type": "code",
   "execution_count": 212,
   "id": "7ad4530a-c43c-4110-b5c7-a2d08177012f",
   "metadata": {},
   "outputs": [
    {
     "name": "stdout",
     "output_type": "stream",
     "text": [
      "NUMPY VERSION: 1.25.2\n"
     ]
    }
   ],
   "source": [
    "print(f\"NUMPY VERSION: {np.__version__}\")"
   ]
  },
  {
   "cell_type": "code",
   "execution_count": 4,
   "id": "60105861-99ae-45d6-a893-8f7774f8c752",
   "metadata": {},
   "outputs": [],
   "source": [
    "np_arr = np.random.rand(3)"
   ]
  },
  {
   "cell_type": "code",
   "execution_count": 7,
   "id": "d42ced10-1f64-4ad9-9da9-f14aeda87066",
   "metadata": {},
   "outputs": [
    {
     "data": {
      "text/plain": [
       "True"
      ]
     },
     "execution_count": 7,
     "metadata": {},
     "output_type": "execute_result"
    }
   ],
   "source": [
    "np_arr.all()"
   ]
  },
  {
   "cell_type": "code",
   "execution_count": 9,
   "id": "e5e0e5de-1f37-46fb-9d44-724e685ef858",
   "metadata": {},
   "outputs": [
    {
     "data": {
      "text/plain": [
       "array([0.3551186 , 0.60153518, 0.38251357])"
      ]
     },
     "execution_count": 9,
     "metadata": {},
     "output_type": "execute_result"
    }
   ],
   "source": [
    "np_arr"
   ]
  },
  {
   "cell_type": "code",
   "execution_count": 10,
   "id": "4ad0589c-d411-42e0-8a3e-0e59939be330",
   "metadata": {},
   "outputs": [],
   "source": [
    "my_series = pd.Series(np_arr)"
   ]
  },
  {
   "cell_type": "code",
   "execution_count": 12,
   "id": "316701fd-7ce0-441b-8e75-d04a406d8002",
   "metadata": {},
   "outputs": [
    {
     "data": {
      "text/plain": [
       "0    0.355119\n",
       "1    0.601535\n",
       "2    0.382514\n",
       "dtype: float64"
      ]
     },
     "execution_count": 12,
     "metadata": {},
     "output_type": "execute_result"
    }
   ],
   "source": [
    "my_series.head()"
   ]
  },
  {
   "cell_type": "code",
   "execution_count": 13,
   "id": "b0a6a1c8-047e-4fb8-90fc-339befc1f0f5",
   "metadata": {},
   "outputs": [
    {
     "data": {
      "text/plain": [
       "0.35511859715054495"
      ]
     },
     "execution_count": 13,
     "metadata": {},
     "output_type": "execute_result"
    }
   ],
   "source": [
    "my_series[0]"
   ]
  },
  {
   "cell_type": "code",
   "execution_count": 14,
   "id": "9817ddc9-00e6-4f54-8d23-c2d22af9c9ad",
   "metadata": {},
   "outputs": [],
   "source": [
    "my_series = pd.Series(np_arr, index=[\"f\",\"s\",\"t\"])"
   ]
  },
  {
   "cell_type": "code",
   "execution_count": 15,
   "id": "d0331e7c-9a4e-4358-a671-d74235a552a3",
   "metadata": {},
   "outputs": [
    {
     "data": {
      "text/plain": [
       "f    0.355119\n",
       "s    0.601535\n",
       "t    0.382514\n",
       "dtype: float64"
      ]
     },
     "execution_count": 15,
     "metadata": {},
     "output_type": "execute_result"
    }
   ],
   "source": [
    "my_series"
   ]
  },
  {
   "cell_type": "code",
   "execution_count": 16,
   "id": "4abefd8e-2fcc-4d05-95e2-81db56b57419",
   "metadata": {},
   "outputs": [],
   "source": [
    "np_arr_2 = np.random.rand(3,2)"
   ]
  },
  {
   "cell_type": "code",
   "execution_count": 17,
   "id": "c259cd95-14ed-4040-9c85-bab3fd0a6b00",
   "metadata": {},
   "outputs": [
    {
     "data": {
      "text/plain": [
       "array([[0.98214468, 0.76262394],\n",
       "       [0.28261424, 0.63182325],\n",
       "       [0.97473429, 0.98100273]])"
      ]
     },
     "execution_count": 17,
     "metadata": {},
     "output_type": "execute_result"
    }
   ],
   "source": [
    "np_arr_2"
   ]
  },
  {
   "cell_type": "code",
   "execution_count": 18,
   "id": "d141d605-19cc-4038-9da9-9310d2bfcd7c",
   "metadata": {},
   "outputs": [],
   "source": [
    "df2 = pd.DataFrame(np_arr_2)"
   ]
  },
  {
   "cell_type": "code",
   "execution_count": 19,
   "id": "db79bc75-2d2b-46a4-92c1-91163ea0a915",
   "metadata": {},
   "outputs": [
    {
     "data": {
      "text/html": [
       "<div>\n",
       "<style scoped>\n",
       "    .dataframe tbody tr th:only-of-type {\n",
       "        vertical-align: middle;\n",
       "    }\n",
       "\n",
       "    .dataframe tbody tr th {\n",
       "        vertical-align: top;\n",
       "    }\n",
       "\n",
       "    .dataframe thead th {\n",
       "        text-align: right;\n",
       "    }\n",
       "</style>\n",
       "<table border=\"1\" class=\"dataframe\">\n",
       "  <thead>\n",
       "    <tr style=\"text-align: right;\">\n",
       "      <th></th>\n",
       "      <th>0</th>\n",
       "      <th>1</th>\n",
       "    </tr>\n",
       "  </thead>\n",
       "  <tbody>\n",
       "    <tr>\n",
       "      <th>0</th>\n",
       "      <td>0.982145</td>\n",
       "      <td>0.762624</td>\n",
       "    </tr>\n",
       "    <tr>\n",
       "      <th>1</th>\n",
       "      <td>0.282614</td>\n",
       "      <td>0.631823</td>\n",
       "    </tr>\n",
       "    <tr>\n",
       "      <th>2</th>\n",
       "      <td>0.974734</td>\n",
       "      <td>0.981003</td>\n",
       "    </tr>\n",
       "  </tbody>\n",
       "</table>\n",
       "</div>"
      ],
      "text/plain": [
       "          0         1\n",
       "0  0.982145  0.762624\n",
       "1  0.282614  0.631823\n",
       "2  0.974734  0.981003"
      ]
     },
     "execution_count": 19,
     "metadata": {},
     "output_type": "execute_result"
    }
   ],
   "source": [
    "df2"
   ]
  },
  {
   "cell_type": "code",
   "execution_count": 20,
   "id": "db34593b-8389-4106-8641-b73f8c6b9f52",
   "metadata": {},
   "outputs": [
    {
     "data": {
      "text/plain": [
       "RangeIndex(start=0, stop=2, step=1)"
      ]
     },
     "execution_count": 20,
     "metadata": {},
     "output_type": "execute_result"
    }
   ],
   "source": [
    "df2.columns"
   ]
  },
  {
   "cell_type": "code",
   "execution_count": 22,
   "id": "c46e7239-847f-40a3-9ca4-59cf272f3d25",
   "metadata": {},
   "outputs": [],
   "source": [
    "df2.columns = [\"first\", \"second\"]"
   ]
  },
  {
   "cell_type": "code",
   "execution_count": 23,
   "id": "170399b7-0434-46c0-ac86-2da9f0d9a446",
   "metadata": {},
   "outputs": [
    {
     "data": {
      "text/html": [
       "<div>\n",
       "<style scoped>\n",
       "    .dataframe tbody tr th:only-of-type {\n",
       "        vertical-align: middle;\n",
       "    }\n",
       "\n",
       "    .dataframe tbody tr th {\n",
       "        vertical-align: top;\n",
       "    }\n",
       "\n",
       "    .dataframe thead th {\n",
       "        text-align: right;\n",
       "    }\n",
       "</style>\n",
       "<table border=\"1\" class=\"dataframe\">\n",
       "  <thead>\n",
       "    <tr style=\"text-align: right;\">\n",
       "      <th></th>\n",
       "      <th>first</th>\n",
       "      <th>second</th>\n",
       "    </tr>\n",
       "  </thead>\n",
       "  <tbody>\n",
       "    <tr>\n",
       "      <th>0</th>\n",
       "      <td>0.982145</td>\n",
       "      <td>0.762624</td>\n",
       "    </tr>\n",
       "    <tr>\n",
       "      <th>1</th>\n",
       "      <td>0.282614</td>\n",
       "      <td>0.631823</td>\n",
       "    </tr>\n",
       "    <tr>\n",
       "      <th>2</th>\n",
       "      <td>0.974734</td>\n",
       "      <td>0.981003</td>\n",
       "    </tr>\n",
       "  </tbody>\n",
       "</table>\n",
       "</div>"
      ],
      "text/plain": [
       "      first    second\n",
       "0  0.982145  0.762624\n",
       "1  0.282614  0.631823\n",
       "2  0.974734  0.981003"
      ]
     },
     "execution_count": 23,
     "metadata": {},
     "output_type": "execute_result"
    }
   ],
   "source": [
    "df2.head()"
   ]
  },
  {
   "cell_type": "code",
   "execution_count": 26,
   "id": "47a719a6-d0a9-4fcc-b33f-810fc877c5a9",
   "metadata": {},
   "outputs": [],
   "source": [
    "# Download data from Github\n",
    "# !wget https://github.com/tategallery/collection/blob/master/artist_data.csv\n",
    "# !wget https://github.com/tategallery/collection/blob/master/artwork_data.csv"
   ]
  },
  {
   "cell_type": "code",
   "execution_count": 27,
   "id": "a8685a10-7e7f-4e30-8fe8-6f97360f2fde",
   "metadata": {},
   "outputs": [],
   "source": [
    "import os"
   ]
  },
  {
   "cell_type": "code",
   "execution_count": 38,
   "id": "46da96a8-293f-4e09-b351-8d7eeba9a40d",
   "metadata": {},
   "outputs": [
    {
     "name": "stdout",
     "output_type": "stream",
     "text": [
      "total 48576\n",
      "drwxr-xr-x@ 7 screative  staff       224 14 Aug 10:43 \u001b[1m\u001b[36m.\u001b[m\u001b[m\n",
      "drwxr-xr-x@ 3 screative  staff        96 29 May 19:56 \u001b[1m\u001b[36m..\u001b[m\u001b[m\n",
      "drwxr-xr-x@ 4 screative  staff       128 14 Aug 10:25 \u001b[1m\u001b[36m.ipynb_checkpoints\u001b[m\u001b[m\n",
      "-rw-r--r--@ 1 screative  staff    482311 14 Aug 10:43 artist_data.csv\n",
      "-rw-r--r--@ 1 screative  staff  24353266 14 Aug 10:43 artwork_data.csv\n",
      "-rw-r--r--@ 1 screative  staff      5486 14 Aug 10:02 combine_arrs.ipynb\n",
      "-rw-r--r--@ 1 screative  staff     21991 14 Aug 10:43 pandas_funds_arts.ipynb\n"
     ]
    }
   ],
   "source": [
    "!ls -la"
   ]
  },
  {
   "cell_type": "code",
   "execution_count": 120,
   "id": "56c7cd11-6818-4253-ae4f-1be38f48f645",
   "metadata": {},
   "outputs": [],
   "source": [
    "# Read just 5 rows\n",
    "df_artworks = pd.read_csv('artwork_data.csv', nrows=5)"
   ]
  },
  {
   "cell_type": "code",
   "execution_count": 121,
   "id": "ef930120-9454-4b8b-8de4-d642d5351fae",
   "metadata": {},
   "outputs": [
    {
     "data": {
      "text/plain": [
       "Index(['id', 'accession_number', 'artist', 'artistRole', 'artistId', 'title',\n",
       "       'dateText', 'medium', 'creditLine', 'year', 'acquisitionYear',\n",
       "       'dimensions', 'width', 'height', 'depth', 'units', 'inscription',\n",
       "       'thumbnailCopyright', 'thumbnailUrl', 'url'],\n",
       "      dtype='object')"
      ]
     },
     "execution_count": 121,
     "metadata": {},
     "output_type": "execute_result"
    }
   ],
   "source": [
    "df_artworks.columns"
   ]
  },
  {
   "cell_type": "code",
   "execution_count": 122,
   "id": "51305853-cefc-4b8a-8660-74e6ec37ec4a",
   "metadata": {},
   "outputs": [
    {
     "data": {
      "text/html": [
       "<div>\n",
       "<style scoped>\n",
       "    .dataframe tbody tr th:only-of-type {\n",
       "        vertical-align: middle;\n",
       "    }\n",
       "\n",
       "    .dataframe tbody tr th {\n",
       "        vertical-align: top;\n",
       "    }\n",
       "\n",
       "    .dataframe thead th {\n",
       "        text-align: right;\n",
       "    }\n",
       "</style>\n",
       "<table border=\"1\" class=\"dataframe\">\n",
       "  <thead>\n",
       "    <tr style=\"text-align: right;\">\n",
       "      <th></th>\n",
       "      <th>accession_number</th>\n",
       "      <th>artist</th>\n",
       "      <th>artistRole</th>\n",
       "      <th>artistId</th>\n",
       "      <th>title</th>\n",
       "      <th>dateText</th>\n",
       "      <th>medium</th>\n",
       "      <th>creditLine</th>\n",
       "      <th>year</th>\n",
       "      <th>acquisitionYear</th>\n",
       "      <th>dimensions</th>\n",
       "      <th>width</th>\n",
       "      <th>height</th>\n",
       "      <th>depth</th>\n",
       "      <th>units</th>\n",
       "      <th>inscription</th>\n",
       "      <th>thumbnailCopyright</th>\n",
       "      <th>thumbnailUrl</th>\n",
       "      <th>url</th>\n",
       "    </tr>\n",
       "    <tr>\n",
       "      <th>id</th>\n",
       "      <th></th>\n",
       "      <th></th>\n",
       "      <th></th>\n",
       "      <th></th>\n",
       "      <th></th>\n",
       "      <th></th>\n",
       "      <th></th>\n",
       "      <th></th>\n",
       "      <th></th>\n",
       "      <th></th>\n",
       "      <th></th>\n",
       "      <th></th>\n",
       "      <th></th>\n",
       "      <th></th>\n",
       "      <th></th>\n",
       "      <th></th>\n",
       "      <th></th>\n",
       "      <th></th>\n",
       "      <th></th>\n",
       "    </tr>\n",
       "  </thead>\n",
       "  <tbody>\n",
       "    <tr>\n",
       "      <th>1035</th>\n",
       "      <td>A00001</td>\n",
       "      <td>Blake, Robert</td>\n",
       "      <td>artist</td>\n",
       "      <td>38</td>\n",
       "      <td>A Figure Bowing before a Seated Old Man with h...</td>\n",
       "      <td>date not known</td>\n",
       "      <td>Watercolour, ink, chalk and graphite on paper....</td>\n",
       "      <td>Presented by Mrs John Richmond 1922</td>\n",
       "      <td>NaN</td>\n",
       "      <td>1922</td>\n",
       "      <td>support: 394 x 419 mm</td>\n",
       "      <td>394</td>\n",
       "      <td>419</td>\n",
       "      <td>NaN</td>\n",
       "      <td>mm</td>\n",
       "      <td>NaN</td>\n",
       "      <td>NaN</td>\n",
       "      <td>http://www.tate.org.uk/art/images/work/A/A00/A...</td>\n",
       "      <td>http://www.tate.org.uk/art/artworks/blake-a-fi...</td>\n",
       "    </tr>\n",
       "    <tr>\n",
       "      <th>1036</th>\n",
       "      <td>A00002</td>\n",
       "      <td>Blake, Robert</td>\n",
       "      <td>artist</td>\n",
       "      <td>38</td>\n",
       "      <td>Two Drawings of Frightened Figures, Probably f...</td>\n",
       "      <td>date not known</td>\n",
       "      <td>Graphite on paper</td>\n",
       "      <td>Presented by Mrs John Richmond 1922</td>\n",
       "      <td>NaN</td>\n",
       "      <td>1922</td>\n",
       "      <td>support: 311 x 213 mm</td>\n",
       "      <td>311</td>\n",
       "      <td>213</td>\n",
       "      <td>NaN</td>\n",
       "      <td>mm</td>\n",
       "      <td>NaN</td>\n",
       "      <td>NaN</td>\n",
       "      <td>http://www.tate.org.uk/art/images/work/A/A00/A...</td>\n",
       "      <td>http://www.tate.org.uk/art/artworks/blake-two-...</td>\n",
       "    </tr>\n",
       "  </tbody>\n",
       "</table>\n",
       "</div>"
      ],
      "text/plain": [
       "     accession_number         artist artistRole  artistId  \\\n",
       "id                                                          \n",
       "1035           A00001  Blake, Robert     artist        38   \n",
       "1036           A00002  Blake, Robert     artist        38   \n",
       "\n",
       "                                                  title        dateText  \\\n",
       "id                                                                        \n",
       "1035  A Figure Bowing before a Seated Old Man with h...  date not known   \n",
       "1036  Two Drawings of Frightened Figures, Probably f...  date not known   \n",
       "\n",
       "                                                 medium  \\\n",
       "id                                                        \n",
       "1035  Watercolour, ink, chalk and graphite on paper....   \n",
       "1036                                  Graphite on paper   \n",
       "\n",
       "                               creditLine  year  acquisitionYear  \\\n",
       "id                                                                 \n",
       "1035  Presented by Mrs John Richmond 1922   NaN             1922   \n",
       "1036  Presented by Mrs John Richmond 1922   NaN             1922   \n",
       "\n",
       "                 dimensions  width  height  depth units  inscription  \\\n",
       "id                                                                     \n",
       "1035  support: 394 x 419 mm    394     419    NaN    mm          NaN   \n",
       "1036  support: 311 x 213 mm    311     213    NaN    mm          NaN   \n",
       "\n",
       "      thumbnailCopyright                                       thumbnailUrl  \\\n",
       "id                                                                            \n",
       "1035                 NaN  http://www.tate.org.uk/art/images/work/A/A00/A...   \n",
       "1036                 NaN  http://www.tate.org.uk/art/images/work/A/A00/A...   \n",
       "\n",
       "                                                    url  \n",
       "id                                                       \n",
       "1035  http://www.tate.org.uk/art/artworks/blake-a-fi...  \n",
       "1036  http://www.tate.org.uk/art/artworks/blake-two-...  "
      ]
     },
     "execution_count": 122,
     "metadata": {},
     "output_type": "execute_result"
    }
   ],
   "source": [
    "df_artworks = pd.read_csv('artwork_data.csv', nrows=5, index_col='id')\n",
    "df_artworks.head(2)"
   ]
  },
  {
   "cell_type": "code",
   "execution_count": 123,
   "id": "c5904630-1fe4-40ed-9d11-8ef71ce7c047",
   "metadata": {},
   "outputs": [],
   "source": [
    "df_artworks = pd.read_csv('artwork_data.csv', \n",
    "                          index_col='id', \n",
    "                          usecols=['id', 'artist']\n",
    "                         )\n"
   ]
  },
  {
   "cell_type": "code",
   "execution_count": 124,
   "id": "0d2ae560-51c9-4e32-8ef0-912c92bdc444",
   "metadata": {},
   "outputs": [
    {
     "data": {
      "text/html": [
       "<div>\n",
       "<style scoped>\n",
       "    .dataframe tbody tr th:only-of-type {\n",
       "        vertical-align: middle;\n",
       "    }\n",
       "\n",
       "    .dataframe tbody tr th {\n",
       "        vertical-align: top;\n",
       "    }\n",
       "\n",
       "    .dataframe thead th {\n",
       "        text-align: right;\n",
       "    }\n",
       "</style>\n",
       "<table border=\"1\" class=\"dataframe\">\n",
       "  <thead>\n",
       "    <tr style=\"text-align: right;\">\n",
       "      <th></th>\n",
       "      <th>artist</th>\n",
       "    </tr>\n",
       "    <tr>\n",
       "      <th>id</th>\n",
       "      <th></th>\n",
       "    </tr>\n",
       "  </thead>\n",
       "  <tbody>\n",
       "    <tr>\n",
       "      <th>1035</th>\n",
       "      <td>Blake, Robert</td>\n",
       "    </tr>\n",
       "    <tr>\n",
       "      <th>1036</th>\n",
       "      <td>Blake, Robert</td>\n",
       "    </tr>\n",
       "  </tbody>\n",
       "</table>\n",
       "</div>"
      ],
      "text/plain": [
       "             artist\n",
       "id                 \n",
       "1035  Blake, Robert\n",
       "1036  Blake, Robert"
      ]
     },
     "execution_count": 124,
     "metadata": {},
     "output_type": "execute_result"
    }
   ],
   "source": [
    "df_artworks.head(2)"
   ]
  },
  {
   "cell_type": "code",
   "execution_count": 125,
   "id": "bb28882d-72cd-4e43-bfbb-c018cb4a3b9e",
   "metadata": {},
   "outputs": [],
   "source": [
    "COLS_TO_USE = [\n",
    "    'id', 'artist', 'title', 'medium', 'year', 'acquisitionYear', 'height', 'width', 'units'\n",
    "]"
   ]
  },
  {
   "cell_type": "code",
   "execution_count": 126,
   "id": "76f3e809-5b30-4c83-82b6-d2d76d2c2a5e",
   "metadata": {},
   "outputs": [
    {
     "data": {
      "text/html": [
       "<div>\n",
       "<style scoped>\n",
       "    .dataframe tbody tr th:only-of-type {\n",
       "        vertical-align: middle;\n",
       "    }\n",
       "\n",
       "    .dataframe tbody tr th {\n",
       "        vertical-align: top;\n",
       "    }\n",
       "\n",
       "    .dataframe thead th {\n",
       "        text-align: right;\n",
       "    }\n",
       "</style>\n",
       "<table border=\"1\" class=\"dataframe\">\n",
       "  <thead>\n",
       "    <tr style=\"text-align: right;\">\n",
       "      <th></th>\n",
       "      <th>artist</th>\n",
       "      <th>title</th>\n",
       "      <th>medium</th>\n",
       "      <th>year</th>\n",
       "      <th>acquisitionYear</th>\n",
       "      <th>width</th>\n",
       "      <th>height</th>\n",
       "      <th>units</th>\n",
       "    </tr>\n",
       "    <tr>\n",
       "      <th>id</th>\n",
       "      <th></th>\n",
       "      <th></th>\n",
       "      <th></th>\n",
       "      <th></th>\n",
       "      <th></th>\n",
       "      <th></th>\n",
       "      <th></th>\n",
       "      <th></th>\n",
       "    </tr>\n",
       "  </thead>\n",
       "  <tbody>\n",
       "    <tr>\n",
       "      <th>1035</th>\n",
       "      <td>Blake, Robert</td>\n",
       "      <td>A Figure Bowing before a Seated Old Man with h...</td>\n",
       "      <td>Watercolour, ink, chalk and graphite on paper....</td>\n",
       "      <td>NaN</td>\n",
       "      <td>1922.0</td>\n",
       "      <td>394</td>\n",
       "      <td>419</td>\n",
       "      <td>mm</td>\n",
       "    </tr>\n",
       "    <tr>\n",
       "      <th>1036</th>\n",
       "      <td>Blake, Robert</td>\n",
       "      <td>Two Drawings of Frightened Figures, Probably f...</td>\n",
       "      <td>Graphite on paper</td>\n",
       "      <td>NaN</td>\n",
       "      <td>1922.0</td>\n",
       "      <td>311</td>\n",
       "      <td>213</td>\n",
       "      <td>mm</td>\n",
       "    </tr>\n",
       "  </tbody>\n",
       "</table>\n",
       "</div>"
      ],
      "text/plain": [
       "             artist                                              title  \\\n",
       "id                                                                       \n",
       "1035  Blake, Robert  A Figure Bowing before a Seated Old Man with h...   \n",
       "1036  Blake, Robert  Two Drawings of Frightened Figures, Probably f...   \n",
       "\n",
       "                                                 medium year  acquisitionYear  \\\n",
       "id                                                                              \n",
       "1035  Watercolour, ink, chalk and graphite on paper....  NaN           1922.0   \n",
       "1036                                  Graphite on paper  NaN           1922.0   \n",
       "\n",
       "     width height units  \n",
       "id                       \n",
       "1035   394    419    mm  \n",
       "1036   311    213    mm  "
      ]
     },
     "execution_count": 126,
     "metadata": {},
     "output_type": "execute_result"
    }
   ],
   "source": [
    "df_artworks = pd.read_csv('artwork_data.csv', \n",
    "                          index_col='id', \n",
    "                          usecols=COLS_TO_USE,\n",
    "                          low_memory=False\n",
    "                         )\n",
    "df_artworks.head(2)"
   ]
  },
  {
   "cell_type": "code",
   "execution_count": 137,
   "id": "f85d9382-a1ee-4f5f-905a-ade35ca5a6a0",
   "metadata": {},
   "outputs": [],
   "source": [
    "# Save for later - in PICKLE format\n",
    "df_artworks.to_pickle(os.path.join('.', 'df_artworks.pickle'))"
   ]
  },
  {
   "cell_type": "code",
   "execution_count": 138,
   "id": "a353d070-ec24-467b-96ad-c72ed2d03b1f",
   "metadata": {},
   "outputs": [
    {
     "name": "stdout",
     "output_type": "stream",
     "text": [
      "total 58808\n",
      "drwxr-xr-x@  9 screative  staff       288 14 Aug 12:11 \u001b[1m\u001b[36m.\u001b[m\u001b[m\n",
      "drwxr-xr-x@  4 screative  staff       128 14 Aug 11:50 \u001b[1m\u001b[36m..\u001b[m\u001b[m\n",
      "drwxr-xr-x@  4 screative  staff       128 14 Aug 10:25 \u001b[1m\u001b[36m.ipynb_checkpoints\u001b[m\u001b[m\n",
      "-rw-r--r--@  1 screative  staff    482311 14 Aug 10:43 artist_data.csv\n",
      "-rw-r--r--@  1 screative  staff  24353266 14 Aug 10:43 artwork_data.csv\n",
      "drwxr-xr-x@ 12 screative  staff       384 14 Aug 10:53 \u001b[1m\u001b[36mcollection\u001b[m\u001b[m\n",
      "-rw-r--r--@  1 screative  staff      5486 14 Aug 10:02 combine_arrs.ipynb\n",
      "-rw-r--r--@  1 screative  staff   5215886 14 Aug 12:11 df_artworks.pickle\n",
      "-rw-r--r--@  1 screative  staff     42892 14 Aug 11:59 pandas_funds_arts.ipynb\n"
     ]
    }
   ],
   "source": [
    "# !ls -la collection/artworks/\n",
    "# !rm df_artworks.pickle\n",
    "!ls -la"
   ]
  },
  {
   "cell_type": "code",
   "execution_count": 139,
   "id": "4b0c6797-1027-48c0-8a71-01164455b0a7",
   "metadata": {},
   "outputs": [
    {
     "data": {
      "text/html": [
       "<div>\n",
       "<style scoped>\n",
       "    .dataframe tbody tr th:only-of-type {\n",
       "        vertical-align: middle;\n",
       "    }\n",
       "\n",
       "    .dataframe tbody tr th {\n",
       "        vertical-align: top;\n",
       "    }\n",
       "\n",
       "    .dataframe thead th {\n",
       "        text-align: right;\n",
       "    }\n",
       "</style>\n",
       "<table border=\"1\" class=\"dataframe\">\n",
       "  <thead>\n",
       "    <tr style=\"text-align: right;\">\n",
       "      <th></th>\n",
       "      <th>artist</th>\n",
       "      <th>title</th>\n",
       "      <th>medium</th>\n",
       "      <th>year</th>\n",
       "      <th>acquisitionYear</th>\n",
       "      <th>width</th>\n",
       "      <th>height</th>\n",
       "      <th>units</th>\n",
       "    </tr>\n",
       "    <tr>\n",
       "      <th>id</th>\n",
       "      <th></th>\n",
       "      <th></th>\n",
       "      <th></th>\n",
       "      <th></th>\n",
       "      <th></th>\n",
       "      <th></th>\n",
       "      <th></th>\n",
       "      <th></th>\n",
       "    </tr>\n",
       "  </thead>\n",
       "  <tbody>\n",
       "    <tr>\n",
       "      <th>1035</th>\n",
       "      <td>Blake, Robert</td>\n",
       "      <td>A Figure Bowing before a Seated Old Man with h...</td>\n",
       "      <td>Watercolour, ink, chalk and graphite on paper....</td>\n",
       "      <td>NaN</td>\n",
       "      <td>1922.0</td>\n",
       "      <td>394</td>\n",
       "      <td>419</td>\n",
       "      <td>mm</td>\n",
       "    </tr>\n",
       "    <tr>\n",
       "      <th>1036</th>\n",
       "      <td>Blake, Robert</td>\n",
       "      <td>Two Drawings of Frightened Figures, Probably f...</td>\n",
       "      <td>Graphite on paper</td>\n",
       "      <td>NaN</td>\n",
       "      <td>1922.0</td>\n",
       "      <td>311</td>\n",
       "      <td>213</td>\n",
       "      <td>mm</td>\n",
       "    </tr>\n",
       "  </tbody>\n",
       "</table>\n",
       "</div>"
      ],
      "text/plain": [
       "             artist                                              title  \\\n",
       "id                                                                       \n",
       "1035  Blake, Robert  A Figure Bowing before a Seated Old Man with h...   \n",
       "1036  Blake, Robert  Two Drawings of Frightened Figures, Probably f...   \n",
       "\n",
       "                                                 medium year  acquisitionYear  \\\n",
       "id                                                                              \n",
       "1035  Watercolour, ink, chalk and graphite on paper....  NaN           1922.0   \n",
       "1036                                  Graphite on paper  NaN           1922.0   \n",
       "\n",
       "     width height units  \n",
       "id                       \n",
       "1035   394    419    mm  \n",
       "1036   311    213    mm  "
      ]
     },
     "execution_count": 139,
     "metadata": {},
     "output_type": "execute_result"
    }
   ],
   "source": [
    "df_artworks.head(2)"
   ]
  },
  {
   "cell_type": "code",
   "execution_count": 113,
   "id": "db9b92b8-931a-4335-b0cc-29b4d8dbfa47",
   "metadata": {},
   "outputs": [],
   "source": [
    "# FROM JSON\n",
    "import json"
   ]
  },
  {
   "cell_type": "code",
   "execution_count": 95,
   "id": "26ad8de0-cfd8-488f-9a3b-b06c806a1a4a",
   "metadata": {},
   "outputs": [
    {
     "data": {
      "text/html": [
       "<div>\n",
       "<style scoped>\n",
       "    .dataframe tbody tr th:only-of-type {\n",
       "        vertical-align: middle;\n",
       "    }\n",
       "\n",
       "    .dataframe tbody tr th {\n",
       "        vertical-align: top;\n",
       "    }\n",
       "\n",
       "    .dataframe thead th {\n",
       "        text-align: right;\n",
       "    }\n",
       "</style>\n",
       "<table border=\"1\" class=\"dataframe\">\n",
       "  <thead>\n",
       "    <tr style=\"text-align: right;\">\n",
       "      <th></th>\n",
       "      <th>Coffee</th>\n",
       "      <th>Price</th>\n",
       "    </tr>\n",
       "  </thead>\n",
       "  <tbody>\n",
       "    <tr>\n",
       "      <th>0</th>\n",
       "      <td>Espresso</td>\n",
       "      <td>5$</td>\n",
       "    </tr>\n",
       "    <tr>\n",
       "      <th>1</th>\n",
       "      <td>Flat White</td>\n",
       "      <td>10$</td>\n",
       "    </tr>\n",
       "  </tbody>\n",
       "</table>\n",
       "</div>"
      ],
      "text/plain": [
       "       Coffee Price\n",
       "0    Espresso    5$\n",
       "1  Flat White   10$"
      ]
     },
     "execution_count": 95,
     "metadata": {},
     "output_type": "execute_result"
    }
   ],
   "source": [
    "# Example of from_records \n",
    "records = [(\"Espresso\",\"5$\"),\n",
    "          (\"Flat White\", \"10$\")]\n",
    "pd.DataFrame.from_records(records, columns=[\"Coffee\", \"Price\"])\n"
   ]
  },
  {
   "cell_type": "code",
   "execution_count": 58,
   "id": "f8c628a2-eac1-4b6e-86c5-b98962da79c4",
   "metadata": {},
   "outputs": [],
   "source": [
    "KEYS_TO_USE = ['id', 'all_artists', 'title', 'medium', 'acquisitionYear', 'height', 'width']"
   ]
  },
  {
   "cell_type": "code",
   "execution_count": 61,
   "id": "9191cfde-0d8b-4b0c-8f0a-ec7fa6408a80",
   "metadata": {},
   "outputs": [],
   "source": [
    "\n",
    "def get_record_from_file(file_path, keys_to_use):\n",
    "\n",
    "    with open(file_path) as artwork_file:\n",
    "        content = json.load(artwork_file)\n",
    "\n",
    "    record = []\n",
    "    for field in keys_to_use:\n",
    "        record.append(content[field])\n",
    "    return tuple(record)"
   ]
  },
  {
   "cell_type": "code",
   "execution_count": 62,
   "id": "71671e0d-3779-4ccc-94ce-5db013b961cb",
   "metadata": {},
   "outputs": [],
   "source": [
    "def read_artworks_from_json(keys_to_use):\n",
    "    JSON_ROOT = os.path.join('collection', 'artworks')\n",
    "    artworks = []\n",
    "    for root, _, files in os.walk(JSON_ROOT):\n",
    "        for f in files:\n",
    "            if f.endswith('json'):\n",
    "                record = get_record_from_file(\n",
    "                    os.path.join(root,f), \n",
    "                    keys_to_use\n",
    "                )\n",
    "                artworks.append(record)\n",
    "                break\n",
    "    df = pd.DataFrame.from_records(artworks,\n",
    "                                   columns=keys_to_use,\n",
    "                                   index=\"id\")\n",
    "    return df\n",
    "    \n",
    "    \n",
    "    \n",
    "        \n",
    "    "
   ]
  },
  {
   "cell_type": "code",
   "execution_count": 72,
   "id": "49589761-8333-4232-88e3-27cbcafe26c1",
   "metadata": {},
   "outputs": [],
   "source": [
    "df_json =  read_artworks_from_json(KEYS_TO_USE)"
   ]
  },
  {
   "cell_type": "code",
   "execution_count": 73,
   "id": "068ac884-b312-417f-84c2-81540f341fb4",
   "metadata": {},
   "outputs": [
    {
     "data": {
      "text/html": [
       "<div>\n",
       "<style scoped>\n",
       "    .dataframe tbody tr th:only-of-type {\n",
       "        vertical-align: middle;\n",
       "    }\n",
       "\n",
       "    .dataframe tbody tr th {\n",
       "        vertical-align: top;\n",
       "    }\n",
       "\n",
       "    .dataframe thead th {\n",
       "        text-align: right;\n",
       "    }\n",
       "</style>\n",
       "<table border=\"1\" class=\"dataframe\">\n",
       "  <thead>\n",
       "    <tr style=\"text-align: right;\">\n",
       "      <th></th>\n",
       "      <th>all_artists</th>\n",
       "      <th>title</th>\n",
       "      <th>medium</th>\n",
       "      <th>acquisitionYear</th>\n",
       "      <th>height</th>\n",
       "      <th>width</th>\n",
       "    </tr>\n",
       "    <tr>\n",
       "      <th>id</th>\n",
       "      <th></th>\n",
       "      <th></th>\n",
       "      <th></th>\n",
       "      <th></th>\n",
       "      <th></th>\n",
       "      <th></th>\n",
       "    </tr>\n",
       "  </thead>\n",
       "  <tbody>\n",
       "    <tr>\n",
       "      <th>6620</th>\n",
       "      <td>William Hogarth</td>\n",
       "      <td>A Scene from ‘The Beggar’s Opera’ VI</td>\n",
       "      <td>Oil paint on canvas</td>\n",
       "      <td>1909</td>\n",
       "      <td>762</td>\n",
       "      <td>572</td>\n",
       "    </tr>\n",
       "    <tr>\n",
       "      <th>10413</th>\n",
       "      <td>William James Müller</td>\n",
       "      <td>Study of Pines, Rheinwald</td>\n",
       "      <td>Watercolour on paper</td>\n",
       "      <td>1908</td>\n",
       "      <td>410</td>\n",
       "      <td>269</td>\n",
       "    </tr>\n",
       "    <tr>\n",
       "      <th>496</th>\n",
       "      <td>Sir Lawrence Alma-Tadema</td>\n",
       "      <td>A Silent Greeting</td>\n",
       "      <td>Oil paint on wood</td>\n",
       "      <td>1894</td>\n",
       "      <td>229</td>\n",
       "      <td>305</td>\n",
       "    </tr>\n",
       "  </tbody>\n",
       "</table>\n",
       "</div>"
      ],
      "text/plain": [
       "                    all_artists                                 title  \\\n",
       "id                                                                      \n",
       "6620            William Hogarth  A Scene from ‘The Beggar’s Opera’ VI   \n",
       "10413      William James Müller             Study of Pines, Rheinwald   \n",
       "496    Sir Lawrence Alma-Tadema                     A Silent Greeting   \n",
       "\n",
       "                     medium  acquisitionYear height width  \n",
       "id                                                         \n",
       "6620    Oil paint on canvas             1909    762   572  \n",
       "10413  Watercolour on paper             1908    410   269  \n",
       "496       Oil paint on wood             1894    229   305  "
      ]
     },
     "execution_count": 73,
     "metadata": {},
     "output_type": "execute_result"
    }
   ],
   "source": [
    "df_json.head(3)"
   ]
  },
  {
   "cell_type": "code",
   "execution_count": 76,
   "id": "24b04b14-51b0-4953-980c-e6d59b30e2cc",
   "metadata": {},
   "outputs": [
    {
     "data": {
      "text/html": [
       "<div>\n",
       "<style scoped>\n",
       "    .dataframe tbody tr th:only-of-type {\n",
       "        vertical-align: middle;\n",
       "    }\n",
       "\n",
       "    .dataframe tbody tr th {\n",
       "        vertical-align: top;\n",
       "    }\n",
       "\n",
       "    .dataframe thead th {\n",
       "        text-align: right;\n",
       "    }\n",
       "</style>\n",
       "<table border=\"1\" class=\"dataframe\">\n",
       "  <thead>\n",
       "    <tr style=\"text-align: right;\">\n",
       "      <th></th>\n",
       "      <th>all_artists</th>\n",
       "      <th>title</th>\n",
       "    </tr>\n",
       "    <tr>\n",
       "      <th>id</th>\n",
       "      <th></th>\n",
       "      <th></th>\n",
       "    </tr>\n",
       "  </thead>\n",
       "  <tbody>\n",
       "    <tr>\n",
       "      <th>6620</th>\n",
       "      <td>William Hogarth</td>\n",
       "      <td>A Scene from ‘The Beggar’s Opera’ VI</td>\n",
       "    </tr>\n",
       "    <tr>\n",
       "      <th>10413</th>\n",
       "      <td>William James Müller</td>\n",
       "      <td>Study of Pines, Rheinwald</td>\n",
       "    </tr>\n",
       "    <tr>\n",
       "      <th>496</th>\n",
       "      <td>Sir Lawrence Alma-Tadema</td>\n",
       "      <td>A Silent Greeting</td>\n",
       "    </tr>\n",
       "    <tr>\n",
       "      <th>15803</th>\n",
       "      <td>Frederick Walker</td>\n",
       "      <td>The Vagrants</td>\n",
       "    </tr>\n",
       "    <tr>\n",
       "      <th>1810</th>\n",
       "      <td>Sir Edward Coley Burne-Jones, Bt</td>\n",
       "      <td>Head and Hand</td>\n",
       "    </tr>\n",
       "    <tr>\n",
       "      <th>...</th>\n",
       "      <td>...</td>\n",
       "      <td>...</td>\n",
       "    </tr>\n",
       "    <tr>\n",
       "      <th>80497</th>\n",
       "      <td>James Rosenquist</td>\n",
       "      <td>Sun Sets on the Time Zone</td>\n",
       "    </tr>\n",
       "    <tr>\n",
       "      <th>19078</th>\n",
       "      <td>Hamish Fulton</td>\n",
       "      <td>Seven Winds. Scotland 1985</td>\n",
       "    </tr>\n",
       "    <tr>\n",
       "      <th>83640</th>\n",
       "      <td>Thomas Schütte</td>\n",
       "      <td>[no title]</td>\n",
       "    </tr>\n",
       "    <tr>\n",
       "      <th>21713</th>\n",
       "      <td>Philip Guston</td>\n",
       "      <td>Untitled</td>\n",
       "    </tr>\n",
       "    <tr>\n",
       "      <th>21706</th>\n",
       "      <td>Philip Guston</td>\n",
       "      <td>Untitled</td>\n",
       "    </tr>\n",
       "  </tbody>\n",
       "</table>\n",
       "<p>738 rows × 2 columns</p>\n",
       "</div>"
      ],
      "text/plain": [
       "                            all_artists                                 title\n",
       "id                                                                           \n",
       "6620                    William Hogarth  A Scene from ‘The Beggar’s Opera’ VI\n",
       "10413              William James Müller             Study of Pines, Rheinwald\n",
       "496            Sir Lawrence Alma-Tadema                     A Silent Greeting\n",
       "15803                  Frederick Walker                          The Vagrants\n",
       "1810   Sir Edward Coley Burne-Jones, Bt                         Head and Hand\n",
       "...                                 ...                                   ...\n",
       "80497                  James Rosenquist             Sun Sets on the Time Zone\n",
       "19078                     Hamish Fulton            Seven Winds. Scotland 1985\n",
       "83640                    Thomas Schütte                            [no title]\n",
       "21713                     Philip Guston                              Untitled\n",
       "21706                     Philip Guston                              Untitled\n",
       "\n",
       "[738 rows x 2 columns]"
      ]
     },
     "execution_count": 76,
     "metadata": {},
     "output_type": "execute_result"
    }
   ],
   "source": [
    "# Single-column selection\n",
    "\n",
    "# df_json.columns\n",
    "df_json[['all_artists', 'title']]"
   ]
  },
  {
   "cell_type": "code",
   "execution_count": 140,
   "id": "826779a0-da58-44b1-904c-401f7f9060f6",
   "metadata": {},
   "outputs": [],
   "source": [
    "df_pk = pd.read_pickle('df_artworks.pickle')"
   ]
  },
  {
   "cell_type": "code",
   "execution_count": 141,
   "id": "0adb31b4-4a02-49a3-a897-086b5a3874aa",
   "metadata": {},
   "outputs": [
    {
     "data": {
      "text/plain": [
       "id\n",
       "1035           Blake, Robert\n",
       "1036           Blake, Robert\n",
       "1037           Blake, Robert\n",
       "1038           Blake, Robert\n",
       "1039          Blake, William\n",
       "                 ...        \n",
       "122960    P-Orridge, Genesis\n",
       "122961    P-Orridge, Genesis\n",
       "121181          Hatoum, Mona\n",
       "112306         Creed, Martin\n",
       "127035     Brunias, Agostino\n",
       "Name: artist, Length: 69201, dtype: object"
      ]
     },
     "execution_count": 141,
     "metadata": {},
     "output_type": "execute_result"
    }
   ],
   "source": [
    "df_pk.artist"
   ]
  },
  {
   "cell_type": "code",
   "execution_count": 142,
   "id": "95c7de22-610c-48fc-9541-0aae8fdc50ff",
   "metadata": {},
   "outputs": [],
   "source": [
    "artists = df_pk['artist']"
   ]
  },
  {
   "cell_type": "code",
   "execution_count": 143,
   "id": "758e9924-7f7b-43fc-b5f9-e9c733ce65a3",
   "metadata": {},
   "outputs": [],
   "source": [
    "uniq_artists = pd.unique(artists)"
   ]
  },
  {
   "cell_type": "code",
   "execution_count": 144,
   "id": "85cdd750-3c33-45d0-81e6-9ba154b66242",
   "metadata": {},
   "outputs": [
    {
     "data": {
      "text/plain": [
       "3336"
      ]
     },
     "execution_count": 144,
     "metadata": {},
     "output_type": "execute_result"
    }
   ],
   "source": [
    "len(uniq_artists)"
   ]
  },
  {
   "cell_type": "code",
   "execution_count": 107,
   "id": "6005921c-8455-4262-8c44-b4b16e3a115a",
   "metadata": {},
   "outputs": [
    {
     "data": {
      "text/plain": [
       "array(['Blake, Robert', 'Blake, William'], dtype=object)"
      ]
     },
     "execution_count": 107,
     "metadata": {},
     "output_type": "execute_result"
    }
   ],
   "source": [
    "uniq_artists"
   ]
  },
  {
   "cell_type": "code",
   "execution_count": 145,
   "id": "1d352b73-9d97-4382-8522-ea234fca4cbc",
   "metadata": {},
   "outputs": [
    {
     "data": {
      "text/plain": [
       "False    69151\n",
       "True        50\n",
       "Name: artist, dtype: int64"
      ]
     },
     "execution_count": 145,
     "metadata": {},
     "output_type": "execute_result"
    }
   ],
   "source": [
    "s = df_artworks['artist'] == 'Bacon, Francis'\n",
    "s.value_counts()"
   ]
  },
  {
   "cell_type": "code",
   "execution_count": 146,
   "id": "bf4c1878-5352-4c64-a98e-38b0c178b975",
   "metadata": {},
   "outputs": [
    {
     "data": {
      "text/plain": [
       "50"
      ]
     },
     "execution_count": 146,
     "metadata": {},
     "output_type": "execute_result"
    }
   ],
   "source": [
    "# Alternatively\n",
    "artist_counts = df_artworks['artist'].value_counts()\n",
    "artist_counts['Bacon, Francis']"
   ]
  },
  {
   "cell_type": "code",
   "execution_count": 155,
   "id": "a3fb212b-ecce-4858-96d1-6fae4a5814cf",
   "metadata": {},
   "outputs": [
    {
     "data": {
      "text/html": [
       "<div>\n",
       "<style scoped>\n",
       "    .dataframe tbody tr th:only-of-type {\n",
       "        vertical-align: middle;\n",
       "    }\n",
       "\n",
       "    .dataframe tbody tr th {\n",
       "        vertical-align: top;\n",
       "    }\n",
       "\n",
       "    .dataframe thead th {\n",
       "        text-align: right;\n",
       "    }\n",
       "</style>\n",
       "<table border=\"1\" class=\"dataframe\">\n",
       "  <thead>\n",
       "    <tr style=\"text-align: right;\">\n",
       "      <th></th>\n",
       "      <th>artist</th>\n",
       "      <th>title</th>\n",
       "      <th>medium</th>\n",
       "      <th>year</th>\n",
       "      <th>acquisitionYear</th>\n",
       "      <th>width</th>\n",
       "      <th>height</th>\n",
       "      <th>units</th>\n",
       "    </tr>\n",
       "    <tr>\n",
       "      <th>id</th>\n",
       "      <th></th>\n",
       "      <th></th>\n",
       "      <th></th>\n",
       "      <th></th>\n",
       "      <th></th>\n",
       "      <th></th>\n",
       "      <th></th>\n",
       "      <th></th>\n",
       "    </tr>\n",
       "  </thead>\n",
       "  <tbody>\n",
       "    <tr>\n",
       "      <th>672</th>\n",
       "      <td>Bacon, Francis</td>\n",
       "      <td>Figure in a Landscape</td>\n",
       "      <td>Oil paint on canvas</td>\n",
       "      <td>1945</td>\n",
       "      <td>1950.0</td>\n",
       "      <td>1448</td>\n",
       "      <td>1283</td>\n",
       "      <td>mm</td>\n",
       "    </tr>\n",
       "    <tr>\n",
       "      <th>673</th>\n",
       "      <td>Bacon, Francis</td>\n",
       "      <td>Study of a Dog</td>\n",
       "      <td>Oil paint on canvas</td>\n",
       "      <td>1952</td>\n",
       "      <td>1952.0</td>\n",
       "      <td>1981</td>\n",
       "      <td>1372</td>\n",
       "      <td>mm</td>\n",
       "    </tr>\n",
       "    <tr>\n",
       "      <th>674</th>\n",
       "      <td>Bacon, Francis</td>\n",
       "      <td>Three Studies for Figures at the Base of a Cru...</td>\n",
       "      <td>Oil paint on 3 boards</td>\n",
       "      <td>1944</td>\n",
       "      <td>1953.0</td>\n",
       "      <td>NaN</td>\n",
       "      <td>NaN</td>\n",
       "      <td>NaN</td>\n",
       "    </tr>\n",
       "    <tr>\n",
       "      <th>677</th>\n",
       "      <td>Bacon, Francis</td>\n",
       "      <td>Study for a Portrait of Van Gogh IV</td>\n",
       "      <td>Oil paint on canvas</td>\n",
       "      <td>1957</td>\n",
       "      <td>1958.0</td>\n",
       "      <td>1524</td>\n",
       "      <td>1168</td>\n",
       "      <td>mm</td>\n",
       "    </tr>\n",
       "    <tr>\n",
       "      <th>678</th>\n",
       "      <td>Bacon, Francis</td>\n",
       "      <td>Reclining Woman</td>\n",
       "      <td>Oil paint on canvas</td>\n",
       "      <td>1961</td>\n",
       "      <td>1961.0</td>\n",
       "      <td>1988</td>\n",
       "      <td>1416</td>\n",
       "      <td>mm</td>\n",
       "    </tr>\n",
       "    <tr>\n",
       "      <th>679</th>\n",
       "      <td>Bacon, Francis</td>\n",
       "      <td>Seated Figure</td>\n",
       "      <td>Oil paint on canvas</td>\n",
       "      <td>1961</td>\n",
       "      <td>1961.0</td>\n",
       "      <td>1651</td>\n",
       "      <td>1422</td>\n",
       "      <td>mm</td>\n",
       "    </tr>\n",
       "    <tr>\n",
       "      <th>680</th>\n",
       "      <td>Bacon, Francis</td>\n",
       "      <td>Study for Portrait on Folding Bed</td>\n",
       "      <td>Oil paint on canvas</td>\n",
       "      <td>1963</td>\n",
       "      <td>1963.0</td>\n",
       "      <td>1981</td>\n",
       "      <td>1473</td>\n",
       "      <td>mm</td>\n",
       "    </tr>\n",
       "    <tr>\n",
       "      <th>681</th>\n",
       "      <td>Bacon, Francis</td>\n",
       "      <td>Portrait of Isabel Rawsthorne</td>\n",
       "      <td>Oil paint on canvas</td>\n",
       "      <td>1966</td>\n",
       "      <td>1966.0</td>\n",
       "      <td>813</td>\n",
       "      <td>686</td>\n",
       "      <td>mm</td>\n",
       "    </tr>\n",
       "    <tr>\n",
       "      <th>682</th>\n",
       "      <td>Bacon, Francis</td>\n",
       "      <td>Three Figures and Portrait</td>\n",
       "      <td>Oil paint and pastel on canvas</td>\n",
       "      <td>1975</td>\n",
       "      <td>1977.0</td>\n",
       "      <td>1981</td>\n",
       "      <td>1473</td>\n",
       "      <td>mm</td>\n",
       "    </tr>\n",
       "    <tr>\n",
       "      <th>683</th>\n",
       "      <td>Bacon, Francis</td>\n",
       "      <td>Study for Portrait II (after the Life Mask of ...</td>\n",
       "      <td>Oil paint on canvas</td>\n",
       "      <td>1955</td>\n",
       "      <td>1979.0</td>\n",
       "      <td>610</td>\n",
       "      <td>508</td>\n",
       "      <td>mm</td>\n",
       "    </tr>\n",
       "    <tr>\n",
       "      <th>684</th>\n",
       "      <td>Bacon, Francis</td>\n",
       "      <td>Triptych - August 1972</td>\n",
       "      <td>Oil paint on 3 canvases</td>\n",
       "      <td>1972</td>\n",
       "      <td>1980.0</td>\n",
       "      <td>NaN</td>\n",
       "      <td>NaN</td>\n",
       "      <td>NaN</td>\n",
       "    </tr>\n",
       "    <tr>\n",
       "      <th>19509</th>\n",
       "      <td>Bacon, Francis</td>\n",
       "      <td>Second Version of Triptych 1944</td>\n",
       "      <td>Oil paint and acrylic paint on 3 canvases</td>\n",
       "      <td>1988</td>\n",
       "      <td>1991.0</td>\n",
       "      <td>NaN</td>\n",
       "      <td>NaN</td>\n",
       "      <td>NaN</td>\n",
       "    </tr>\n",
       "    <tr>\n",
       "      <th>26004</th>\n",
       "      <td>Bacon, Francis</td>\n",
       "      <td>Figure in a Landscape</td>\n",
       "      <td>Oil paint on paper</td>\n",
       "      <td>1952</td>\n",
       "      <td>1998.0</td>\n",
       "      <td>339</td>\n",
       "      <td>263</td>\n",
       "      <td>mm</td>\n",
       "    </tr>\n",
       "    <tr>\n",
       "      <th>26003</th>\n",
       "      <td>Bacon, Francis</td>\n",
       "      <td>Turning Figure</td>\n",
       "      <td>Graphite and oil paint on paper</td>\n",
       "      <td>1959</td>\n",
       "      <td>1998.0</td>\n",
       "      <td>339</td>\n",
       "      <td>263</td>\n",
       "      <td>mm</td>\n",
       "    </tr>\n",
       "    <tr>\n",
       "      <th>26001</th>\n",
       "      <td>Bacon, Francis</td>\n",
       "      <td>Reclining Figure, No. 1</td>\n",
       "      <td>Oil paint and ink on paper</td>\n",
       "      <td>1961</td>\n",
       "      <td>1998.0</td>\n",
       "      <td>238</td>\n",
       "      <td>156</td>\n",
       "      <td>mm</td>\n",
       "    </tr>\n",
       "    <tr>\n",
       "      <th>26002</th>\n",
       "      <td>Bacon, Francis</td>\n",
       "      <td>Reclining Figure, No. 2</td>\n",
       "      <td>Oil paint and ink on paper</td>\n",
       "      <td>1961</td>\n",
       "      <td>1998.0</td>\n",
       "      <td>222</td>\n",
       "      <td>150</td>\n",
       "      <td>mm</td>\n",
       "    </tr>\n",
       "    <tr>\n",
       "      <th>26025</th>\n",
       "      <td>Bacon, Francis</td>\n",
       "      <td>Two Owls, No. 1</td>\n",
       "      <td>Graphite and oil paint on paper</td>\n",
       "      <td>1957</td>\n",
       "      <td>1998.0</td>\n",
       "      <td>270</td>\n",
       "      <td>340</td>\n",
       "      <td>mm</td>\n",
       "    </tr>\n",
       "    <tr>\n",
       "      <th>26060</th>\n",
       "      <td>Bacon, Francis</td>\n",
       "      <td>Figure in a Framework</td>\n",
       "      <td>Graphite and oil paint on paper</td>\n",
       "      <td>1957</td>\n",
       "      <td>1998.0</td>\n",
       "      <td>340</td>\n",
       "      <td>270</td>\n",
       "      <td>mm</td>\n",
       "    </tr>\n",
       "    <tr>\n",
       "      <th>26059</th>\n",
       "      <td>Bacon, Francis</td>\n",
       "      <td>Collapsed Figure</td>\n",
       "      <td>Oil paint on paper</td>\n",
       "      <td>1957</td>\n",
       "      <td>1998.0</td>\n",
       "      <td>340</td>\n",
       "      <td>270</td>\n",
       "      <td>mm</td>\n",
       "    </tr>\n",
       "    <tr>\n",
       "      <th>26026</th>\n",
       "      <td>Bacon, Francis</td>\n",
       "      <td>Figure Bending Forwards</td>\n",
       "      <td>Oil paint on paper</td>\n",
       "      <td>1957</td>\n",
       "      <td>1998.0</td>\n",
       "      <td>340</td>\n",
       "      <td>270</td>\n",
       "      <td>mm</td>\n",
       "    </tr>\n",
       "    <tr>\n",
       "      <th>26058</th>\n",
       "      <td>Bacon, Francis</td>\n",
       "      <td>Two Owls, No. 2</td>\n",
       "      <td>Oil paint on paper</td>\n",
       "      <td>1957</td>\n",
       "      <td>1998.0</td>\n",
       "      <td>340</td>\n",
       "      <td>270</td>\n",
       "      <td>mm</td>\n",
       "    </tr>\n",
       "    <tr>\n",
       "      <th>26057</th>\n",
       "      <td>Bacon, Francis</td>\n",
       "      <td>Falling Figure</td>\n",
       "      <td>Graphite and oil paint on paper</td>\n",
       "      <td>1957</td>\n",
       "      <td>1998.0</td>\n",
       "      <td>340</td>\n",
       "      <td>270</td>\n",
       "      <td>mm</td>\n",
       "    </tr>\n",
       "    <tr>\n",
       "      <th>26055</th>\n",
       "      <td>Bacon, Francis</td>\n",
       "      <td>Figure with Left Arm Raised, No. 1</td>\n",
       "      <td>Oil paint on paper</td>\n",
       "      <td>1957</td>\n",
       "      <td>1998.0</td>\n",
       "      <td>340</td>\n",
       "      <td>270</td>\n",
       "      <td>mm</td>\n",
       "    </tr>\n",
       "    <tr>\n",
       "      <th>26056</th>\n",
       "      <td>Bacon, Francis</td>\n",
       "      <td>Figure with Left Arm Raised, No. 2</td>\n",
       "      <td>Oil paint on paper</td>\n",
       "      <td>1957</td>\n",
       "      <td>1998.0</td>\n",
       "      <td>340</td>\n",
       "      <td>270</td>\n",
       "      <td>mm</td>\n",
       "    </tr>\n",
       "    <tr>\n",
       "      <th>26054</th>\n",
       "      <td>Bacon, Francis</td>\n",
       "      <td>Figure with Arms Swung Out</td>\n",
       "      <td>Oil paint on paper</td>\n",
       "      <td>1957</td>\n",
       "      <td>1998.0</td>\n",
       "      <td>340</td>\n",
       "      <td>265</td>\n",
       "      <td>mm</td>\n",
       "    </tr>\n",
       "    <tr>\n",
       "      <th>26053</th>\n",
       "      <td>Bacon, Francis</td>\n",
       "      <td>Seated Figure</td>\n",
       "      <td>Graphite on paper</td>\n",
       "      <td>1957</td>\n",
       "      <td>1998.0</td>\n",
       "      <td>340</td>\n",
       "      <td>270</td>\n",
       "      <td>mm</td>\n",
       "    </tr>\n",
       "    <tr>\n",
       "      <th>26052</th>\n",
       "      <td>Bacon, Francis</td>\n",
       "      <td>Figure Lying Flat</td>\n",
       "      <td>Graphite and oil paint on paper</td>\n",
       "      <td>1957</td>\n",
       "      <td>1998.0</td>\n",
       "      <td>340</td>\n",
       "      <td>270</td>\n",
       "      <td>mm</td>\n",
       "    </tr>\n",
       "    <tr>\n",
       "      <th>26051</th>\n",
       "      <td>Bacon, Francis</td>\n",
       "      <td>Figure in Grey Interior</td>\n",
       "      <td>Graphite and oil paint on paper</td>\n",
       "      <td>1957</td>\n",
       "      <td>1998.0</td>\n",
       "      <td>340</td>\n",
       "      <td>270</td>\n",
       "      <td>mm</td>\n",
       "    </tr>\n",
       "    <tr>\n",
       "      <th>26050</th>\n",
       "      <td>Bacon, Francis</td>\n",
       "      <td>Standing Figure</td>\n",
       "      <td>Ink on paper</td>\n",
       "      <td>1957</td>\n",
       "      <td>1998.0</td>\n",
       "      <td>340</td>\n",
       "      <td>270</td>\n",
       "      <td>mm</td>\n",
       "    </tr>\n",
       "    <tr>\n",
       "      <th>26049</th>\n",
       "      <td>Bacon, Francis</td>\n",
       "      <td>Figure with Foot in Hand</td>\n",
       "      <td>Oil paint and ink on paper</td>\n",
       "      <td>1957</td>\n",
       "      <td>1998.0</td>\n",
       "      <td>270</td>\n",
       "      <td>340</td>\n",
       "      <td>mm</td>\n",
       "    </tr>\n",
       "    <tr>\n",
       "      <th>26048</th>\n",
       "      <td>Bacon, Francis</td>\n",
       "      <td>Fallen Figure</td>\n",
       "      <td>Oil paint on paper</td>\n",
       "      <td>1957</td>\n",
       "      <td>1998.0</td>\n",
       "      <td>340</td>\n",
       "      <td>270</td>\n",
       "      <td>mm</td>\n",
       "    </tr>\n",
       "    <tr>\n",
       "      <th>26047</th>\n",
       "      <td>Bacon, Francis</td>\n",
       "      <td>Fallen Figure with Arms Up</td>\n",
       "      <td>Oil paint on paper</td>\n",
       "      <td>1957</td>\n",
       "      <td>1998.0</td>\n",
       "      <td>340</td>\n",
       "      <td>270</td>\n",
       "      <td>mm</td>\n",
       "    </tr>\n",
       "    <tr>\n",
       "      <th>26046</th>\n",
       "      <td>Bacon, Francis</td>\n",
       "      <td>Bending Figure, No. 1</td>\n",
       "      <td>Oil paint on paper</td>\n",
       "      <td>1957</td>\n",
       "      <td>1998.0</td>\n",
       "      <td>340</td>\n",
       "      <td>270</td>\n",
       "      <td>mm</td>\n",
       "    </tr>\n",
       "    <tr>\n",
       "      <th>26045</th>\n",
       "      <td>Bacon, Francis</td>\n",
       "      <td>Figure Crawling</td>\n",
       "      <td>Oil paint on paper</td>\n",
       "      <td>1957</td>\n",
       "      <td>1998.0</td>\n",
       "      <td>340</td>\n",
       "      <td>270</td>\n",
       "      <td>mm</td>\n",
       "    </tr>\n",
       "    <tr>\n",
       "      <th>26044</th>\n",
       "      <td>Bacon, Francis</td>\n",
       "      <td>Head</td>\n",
       "      <td>Oil paint on paper</td>\n",
       "      <td>1957</td>\n",
       "      <td>1998.0</td>\n",
       "      <td>340</td>\n",
       "      <td>270</td>\n",
       "      <td>mm</td>\n",
       "    </tr>\n",
       "    <tr>\n",
       "      <th>26043</th>\n",
       "      <td>Bacon, Francis</td>\n",
       "      <td>Figure Lying, No. 1</td>\n",
       "      <td>Oil paint on paper</td>\n",
       "      <td>1957</td>\n",
       "      <td>1998.0</td>\n",
       "      <td>340</td>\n",
       "      <td>270</td>\n",
       "      <td>mm</td>\n",
       "    </tr>\n",
       "    <tr>\n",
       "      <th>26042</th>\n",
       "      <td>Bacon, Francis</td>\n",
       "      <td>Figure Lying, No. 2</td>\n",
       "      <td>Oil paint on paper</td>\n",
       "      <td>1957</td>\n",
       "      <td>1998.0</td>\n",
       "      <td>340</td>\n",
       "      <td>270</td>\n",
       "      <td>mm</td>\n",
       "    </tr>\n",
       "    <tr>\n",
       "      <th>26041</th>\n",
       "      <td>Bacon, Francis</td>\n",
       "      <td>Blue Crawling Figure, No. 1</td>\n",
       "      <td>Oil paint on paper</td>\n",
       "      <td>1957</td>\n",
       "      <td>1998.0</td>\n",
       "      <td>340</td>\n",
       "      <td>270</td>\n",
       "      <td>mm</td>\n",
       "    </tr>\n",
       "    <tr>\n",
       "      <th>26040</th>\n",
       "      <td>Bacon, Francis</td>\n",
       "      <td>Blue Crawling Figure, No. 2</td>\n",
       "      <td>Oil paint on paper</td>\n",
       "      <td>1957</td>\n",
       "      <td>1998.0</td>\n",
       "      <td>340</td>\n",
       "      <td>270</td>\n",
       "      <td>mm</td>\n",
       "    </tr>\n",
       "    <tr>\n",
       "      <th>26039</th>\n",
       "      <td>Bacon, Francis</td>\n",
       "      <td>Pink Crawling Figure</td>\n",
       "      <td>Oil paint and ink on paper</td>\n",
       "      <td>1957</td>\n",
       "      <td>1998.0</td>\n",
       "      <td>340</td>\n",
       "      <td>270</td>\n",
       "      <td>mm</td>\n",
       "    </tr>\n",
       "    <tr>\n",
       "      <th>26038</th>\n",
       "      <td>Bacon, Francis</td>\n",
       "      <td>Bending Figure, No. 2</td>\n",
       "      <td>Ink and oil paint on paper</td>\n",
       "      <td>1957</td>\n",
       "      <td>1998.0</td>\n",
       "      <td>340</td>\n",
       "      <td>270</td>\n",
       "      <td>mm</td>\n",
       "    </tr>\n",
       "    <tr>\n",
       "      <th>26037</th>\n",
       "      <td>Bacon, Francis</td>\n",
       "      <td>Composition</td>\n",
       "      <td>Oil paint on paper</td>\n",
       "      <td>1957</td>\n",
       "      <td>1998.0</td>\n",
       "      <td>340</td>\n",
       "      <td>270</td>\n",
       "      <td>mm</td>\n",
       "    </tr>\n",
       "    <tr>\n",
       "      <th>26036</th>\n",
       "      <td>Bacon, Francis</td>\n",
       "      <td>Man on a Bed</td>\n",
       "      <td>Graphite on paper</td>\n",
       "      <td>1957</td>\n",
       "      <td>1998.0</td>\n",
       "      <td>254</td>\n",
       "      <td>190</td>\n",
       "      <td>mm</td>\n",
       "    </tr>\n",
       "    <tr>\n",
       "      <th>26035</th>\n",
       "      <td>Bacon, Francis</td>\n",
       "      <td>Man on a Sofa</td>\n",
       "      <td>Oil paint on paper</td>\n",
       "      <td>1957</td>\n",
       "      <td>1998.0</td>\n",
       "      <td>254</td>\n",
       "      <td>190</td>\n",
       "      <td>mm</td>\n",
       "    </tr>\n",
       "    <tr>\n",
       "      <th>26034</th>\n",
       "      <td>Bacon, Francis</td>\n",
       "      <td>Nude Reading</td>\n",
       "      <td>Graphite and oil paint on paper</td>\n",
       "      <td>1957</td>\n",
       "      <td>1998.0</td>\n",
       "      <td>254</td>\n",
       "      <td>190</td>\n",
       "      <td>mm</td>\n",
       "    </tr>\n",
       "    <tr>\n",
       "      <th>26033</th>\n",
       "      <td>Bacon, Francis</td>\n",
       "      <td>Cross-legged Figure with Arms Raised, No. 1</td>\n",
       "      <td>Graphite on paper</td>\n",
       "      <td>1957</td>\n",
       "      <td>1998.0</td>\n",
       "      <td>254</td>\n",
       "      <td>190</td>\n",
       "      <td>mm</td>\n",
       "    </tr>\n",
       "    <tr>\n",
       "      <th>26032</th>\n",
       "      <td>Bacon, Francis</td>\n",
       "      <td>Cross-legged Figure with Arms Raised, No. 2</td>\n",
       "      <td>Oil paint on paper</td>\n",
       "      <td>1957</td>\n",
       "      <td>1998.0</td>\n",
       "      <td>254</td>\n",
       "      <td>190</td>\n",
       "      <td>mm</td>\n",
       "    </tr>\n",
       "    <tr>\n",
       "      <th>26031</th>\n",
       "      <td>Bacon, Francis</td>\n",
       "      <td>Seated Woman</td>\n",
       "      <td>Graphite on paper</td>\n",
       "      <td>1957</td>\n",
       "      <td>1998.0</td>\n",
       "      <td>254</td>\n",
       "      <td>190</td>\n",
       "      <td>mm</td>\n",
       "    </tr>\n",
       "    <tr>\n",
       "      <th>21897</th>\n",
       "      <td>Bacon, Francis</td>\n",
       "      <td>Figures in a Garden</td>\n",
       "      <td>Oil paint on canvas</td>\n",
       "      <td>1936</td>\n",
       "      <td>2008.0</td>\n",
       "      <td>740</td>\n",
       "      <td>940</td>\n",
       "      <td>mm</td>\n",
       "    </tr>\n",
       "    <tr>\n",
       "      <th>111</th>\n",
       "      <td>Bacon, Francis</td>\n",
       "      <td>Study for a Portrait</td>\n",
       "      <td>Oil paint and sand on canvas</td>\n",
       "      <td>1952</td>\n",
       "      <td>2008.0</td>\n",
       "      <td>661</td>\n",
       "      <td>561</td>\n",
       "      <td>mm</td>\n",
       "    </tr>\n",
       "  </tbody>\n",
       "</table>\n",
       "</div>"
      ],
      "text/plain": [
       "               artist                                              title  \\\n",
       "id                                                                         \n",
       "672    Bacon, Francis                              Figure in a Landscape   \n",
       "673    Bacon, Francis                                     Study of a Dog   \n",
       "674    Bacon, Francis  Three Studies for Figures at the Base of a Cru...   \n",
       "677    Bacon, Francis                Study for a Portrait of Van Gogh IV   \n",
       "678    Bacon, Francis                                    Reclining Woman   \n",
       "679    Bacon, Francis                                      Seated Figure   \n",
       "680    Bacon, Francis                  Study for Portrait on Folding Bed   \n",
       "681    Bacon, Francis                      Portrait of Isabel Rawsthorne   \n",
       "682    Bacon, Francis                         Three Figures and Portrait   \n",
       "683    Bacon, Francis  Study for Portrait II (after the Life Mask of ...   \n",
       "684    Bacon, Francis                             Triptych - August 1972   \n",
       "19509  Bacon, Francis                    Second Version of Triptych 1944   \n",
       "26004  Bacon, Francis                              Figure in a Landscape   \n",
       "26003  Bacon, Francis                                     Turning Figure   \n",
       "26001  Bacon, Francis                            Reclining Figure, No. 1   \n",
       "26002  Bacon, Francis                            Reclining Figure, No. 2   \n",
       "26025  Bacon, Francis                                    Two Owls, No. 1   \n",
       "26060  Bacon, Francis                              Figure in a Framework   \n",
       "26059  Bacon, Francis                                   Collapsed Figure   \n",
       "26026  Bacon, Francis                            Figure Bending Forwards   \n",
       "26058  Bacon, Francis                                    Two Owls, No. 2   \n",
       "26057  Bacon, Francis                                     Falling Figure   \n",
       "26055  Bacon, Francis                 Figure with Left Arm Raised, No. 1   \n",
       "26056  Bacon, Francis                 Figure with Left Arm Raised, No. 2   \n",
       "26054  Bacon, Francis                         Figure with Arms Swung Out   \n",
       "26053  Bacon, Francis                                      Seated Figure   \n",
       "26052  Bacon, Francis                                  Figure Lying Flat   \n",
       "26051  Bacon, Francis                            Figure in Grey Interior   \n",
       "26050  Bacon, Francis                                    Standing Figure   \n",
       "26049  Bacon, Francis                           Figure with Foot in Hand   \n",
       "26048  Bacon, Francis                                      Fallen Figure   \n",
       "26047  Bacon, Francis                         Fallen Figure with Arms Up   \n",
       "26046  Bacon, Francis                              Bending Figure, No. 1   \n",
       "26045  Bacon, Francis                                    Figure Crawling   \n",
       "26044  Bacon, Francis                                               Head   \n",
       "26043  Bacon, Francis                                Figure Lying, No. 1   \n",
       "26042  Bacon, Francis                                Figure Lying, No. 2   \n",
       "26041  Bacon, Francis                        Blue Crawling Figure, No. 1   \n",
       "26040  Bacon, Francis                        Blue Crawling Figure, No. 2   \n",
       "26039  Bacon, Francis                               Pink Crawling Figure   \n",
       "26038  Bacon, Francis                              Bending Figure, No. 2   \n",
       "26037  Bacon, Francis                                        Composition   \n",
       "26036  Bacon, Francis                                       Man on a Bed   \n",
       "26035  Bacon, Francis                                      Man on a Sofa   \n",
       "26034  Bacon, Francis                                       Nude Reading   \n",
       "26033  Bacon, Francis        Cross-legged Figure with Arms Raised, No. 1   \n",
       "26032  Bacon, Francis        Cross-legged Figure with Arms Raised, No. 2   \n",
       "26031  Bacon, Francis                                       Seated Woman   \n",
       "21897  Bacon, Francis                                Figures in a Garden   \n",
       "111    Bacon, Francis                               Study for a Portrait   \n",
       "\n",
       "                                          medium  year  acquisitionYear width  \\\n",
       "id                                                                              \n",
       "672                          Oil paint on canvas  1945           1950.0  1448   \n",
       "673                          Oil paint on canvas  1952           1952.0  1981   \n",
       "674                        Oil paint on 3 boards  1944           1953.0   NaN   \n",
       "677                          Oil paint on canvas  1957           1958.0  1524   \n",
       "678                          Oil paint on canvas  1961           1961.0  1988   \n",
       "679                          Oil paint on canvas  1961           1961.0  1651   \n",
       "680                          Oil paint on canvas  1963           1963.0  1981   \n",
       "681                          Oil paint on canvas  1966           1966.0   813   \n",
       "682               Oil paint and pastel on canvas  1975           1977.0  1981   \n",
       "683                          Oil paint on canvas  1955           1979.0   610   \n",
       "684                      Oil paint on 3 canvases  1972           1980.0   NaN   \n",
       "19509  Oil paint and acrylic paint on 3 canvases  1988           1991.0   NaN   \n",
       "26004                         Oil paint on paper  1952           1998.0   339   \n",
       "26003            Graphite and oil paint on paper  1959           1998.0   339   \n",
       "26001                 Oil paint and ink on paper  1961           1998.0   238   \n",
       "26002                 Oil paint and ink on paper  1961           1998.0   222   \n",
       "26025            Graphite and oil paint on paper  1957           1998.0   270   \n",
       "26060            Graphite and oil paint on paper  1957           1998.0   340   \n",
       "26059                         Oil paint on paper  1957           1998.0   340   \n",
       "26026                         Oil paint on paper  1957           1998.0   340   \n",
       "26058                         Oil paint on paper  1957           1998.0   340   \n",
       "26057            Graphite and oil paint on paper  1957           1998.0   340   \n",
       "26055                         Oil paint on paper  1957           1998.0   340   \n",
       "26056                         Oil paint on paper  1957           1998.0   340   \n",
       "26054                         Oil paint on paper  1957           1998.0   340   \n",
       "26053                          Graphite on paper  1957           1998.0   340   \n",
       "26052            Graphite and oil paint on paper  1957           1998.0   340   \n",
       "26051            Graphite and oil paint on paper  1957           1998.0   340   \n",
       "26050                               Ink on paper  1957           1998.0   340   \n",
       "26049                 Oil paint and ink on paper  1957           1998.0   270   \n",
       "26048                         Oil paint on paper  1957           1998.0   340   \n",
       "26047                         Oil paint on paper  1957           1998.0   340   \n",
       "26046                         Oil paint on paper  1957           1998.0   340   \n",
       "26045                         Oil paint on paper  1957           1998.0   340   \n",
       "26044                         Oil paint on paper  1957           1998.0   340   \n",
       "26043                         Oil paint on paper  1957           1998.0   340   \n",
       "26042                         Oil paint on paper  1957           1998.0   340   \n",
       "26041                         Oil paint on paper  1957           1998.0   340   \n",
       "26040                         Oil paint on paper  1957           1998.0   340   \n",
       "26039                 Oil paint and ink on paper  1957           1998.0   340   \n",
       "26038                 Ink and oil paint on paper  1957           1998.0   340   \n",
       "26037                         Oil paint on paper  1957           1998.0   340   \n",
       "26036                          Graphite on paper  1957           1998.0   254   \n",
       "26035                         Oil paint on paper  1957           1998.0   254   \n",
       "26034            Graphite and oil paint on paper  1957           1998.0   254   \n",
       "26033                          Graphite on paper  1957           1998.0   254   \n",
       "26032                         Oil paint on paper  1957           1998.0   254   \n",
       "26031                          Graphite on paper  1957           1998.0   254   \n",
       "21897                        Oil paint on canvas  1936           2008.0   740   \n",
       "111                 Oil paint and sand on canvas  1952           2008.0   661   \n",
       "\n",
       "      height units  \n",
       "id                  \n",
       "672     1283    mm  \n",
       "673     1372    mm  \n",
       "674      NaN   NaN  \n",
       "677     1168    mm  \n",
       "678     1416    mm  \n",
       "679     1422    mm  \n",
       "680     1473    mm  \n",
       "681      686    mm  \n",
       "682     1473    mm  \n",
       "683      508    mm  \n",
       "684      NaN   NaN  \n",
       "19509    NaN   NaN  \n",
       "26004    263    mm  \n",
       "26003    263    mm  \n",
       "26001    156    mm  \n",
       "26002    150    mm  \n",
       "26025    340    mm  \n",
       "26060    270    mm  \n",
       "26059    270    mm  \n",
       "26026    270    mm  \n",
       "26058    270    mm  \n",
       "26057    270    mm  \n",
       "26055    270    mm  \n",
       "26056    270    mm  \n",
       "26054    265    mm  \n",
       "26053    270    mm  \n",
       "26052    270    mm  \n",
       "26051    270    mm  \n",
       "26050    270    mm  \n",
       "26049    340    mm  \n",
       "26048    270    mm  \n",
       "26047    270    mm  \n",
       "26046    270    mm  \n",
       "26045    270    mm  \n",
       "26044    270    mm  \n",
       "26043    270    mm  \n",
       "26042    270    mm  \n",
       "26041    270    mm  \n",
       "26040    270    mm  \n",
       "26039    270    mm  \n",
       "26038    270    mm  \n",
       "26037    270    mm  \n",
       "26036    190    mm  \n",
       "26035    190    mm  \n",
       "26034    190    mm  \n",
       "26033    190    mm  \n",
       "26032    190    mm  \n",
       "26031    190    mm  \n",
       "21897    940    mm  \n",
       "111      561    mm  "
      ]
     },
     "execution_count": 155,
     "metadata": {},
     "output_type": "execute_result"
    }
   ],
   "source": [
    "# Using loc and iloc: loc is by LABELS while iloc is by POSITIONS\n",
    "\"\"\"Using df.loc => df.loc[row_indexer e.g. 1035, column_indexer e.g. 'artist' ] \n",
    "OR df.loc[boolean_expression e.g.df['artist'] ==  \"Bacon, Francis\", col_indexer e.g. :] \n",
    "\"\"\"\n",
    "df_artworks.loc[df_artworks['artist'] == 'Bacon, Francis', :]"
   ]
  },
  {
   "cell_type": "code",
   "execution_count": 151,
   "id": "0efeecdf-56cc-4c65-956c-069b14e463cb",
   "metadata": {},
   "outputs": [
    {
     "data": {
      "text/html": [
       "<div>\n",
       "<style scoped>\n",
       "    .dataframe tbody tr th:only-of-type {\n",
       "        vertical-align: middle;\n",
       "    }\n",
       "\n",
       "    .dataframe tbody tr th {\n",
       "        vertical-align: top;\n",
       "    }\n",
       "\n",
       "    .dataframe thead th {\n",
       "        text-align: right;\n",
       "    }\n",
       "</style>\n",
       "<table border=\"1\" class=\"dataframe\">\n",
       "  <thead>\n",
       "    <tr style=\"text-align: right;\">\n",
       "      <th></th>\n",
       "      <th>artist</th>\n",
       "      <th>title</th>\n",
       "      <th>acquisitionYear</th>\n",
       "    </tr>\n",
       "    <tr>\n",
       "      <th>id</th>\n",
       "      <th></th>\n",
       "      <th></th>\n",
       "      <th></th>\n",
       "    </tr>\n",
       "  </thead>\n",
       "  <tbody>\n",
       "    <tr>\n",
       "      <th>1737</th>\n",
       "      <td>Burne-Jones, Sir Edward Coley, Bt</td>\n",
       "      <td>Head of a Girl</td>\n",
       "      <td>1927.0</td>\n",
       "    </tr>\n",
       "    <tr>\n",
       "      <th>1738</th>\n",
       "      <td>Burne-Jones, Sir Edward Coley, Bt</td>\n",
       "      <td>Figure Study</td>\n",
       "      <td>1927.0</td>\n",
       "    </tr>\n",
       "    <tr>\n",
       "      <th>1739</th>\n",
       "      <td>Burne-Jones, Sir Edward Coley, Bt</td>\n",
       "      <td>Study of the Head of a Female Attendant for ‘T...</td>\n",
       "      <td>1927.0</td>\n",
       "    </tr>\n",
       "    <tr>\n",
       "      <th>20231</th>\n",
       "      <td>Burne-Jones, Sir Edward Coley, Bt</td>\n",
       "      <td>Study of Iseult for ‘The Marriage of Sir Trist...</td>\n",
       "      <td>1927.0</td>\n",
       "    </tr>\n",
       "    <tr>\n",
       "      <th>1740</th>\n",
       "      <td>Burne-Jones, Sir Edward Coley, Bt</td>\n",
       "      <td>Composition Study for ‘Clerk Saunders’</td>\n",
       "      <td>1927.0</td>\n",
       "    </tr>\n",
       "    <tr>\n",
       "      <th>...</th>\n",
       "      <td>...</td>\n",
       "      <td>...</td>\n",
       "      <td>...</td>\n",
       "    </tr>\n",
       "    <tr>\n",
       "      <th>7329</th>\n",
       "      <td>Jones, George</td>\n",
       "      <td>[title not known]</td>\n",
       "      <td>1888.0</td>\n",
       "    </tr>\n",
       "    <tr>\n",
       "      <th>7330</th>\n",
       "      <td>Jones, George</td>\n",
       "      <td>[title not known]</td>\n",
       "      <td>1888.0</td>\n",
       "    </tr>\n",
       "    <tr>\n",
       "      <th>7331</th>\n",
       "      <td>Jones, George</td>\n",
       "      <td>[title not known]</td>\n",
       "      <td>1888.0</td>\n",
       "    </tr>\n",
       "    <tr>\n",
       "      <th>7332</th>\n",
       "      <td>Jones, George</td>\n",
       "      <td>[title not known]</td>\n",
       "      <td>1888.0</td>\n",
       "    </tr>\n",
       "    <tr>\n",
       "      <th>7333</th>\n",
       "      <td>Jones, George</td>\n",
       "      <td>[title not known]</td>\n",
       "      <td>1888.0</td>\n",
       "    </tr>\n",
       "  </tbody>\n",
       "</table>\n",
       "<p>200 rows × 3 columns</p>\n",
       "</div>"
      ],
      "text/plain": [
       "                                  artist  \\\n",
       "id                                         \n",
       "1737   Burne-Jones, Sir Edward Coley, Bt   \n",
       "1738   Burne-Jones, Sir Edward Coley, Bt   \n",
       "1739   Burne-Jones, Sir Edward Coley, Bt   \n",
       "20231  Burne-Jones, Sir Edward Coley, Bt   \n",
       "1740   Burne-Jones, Sir Edward Coley, Bt   \n",
       "...                                  ...   \n",
       "7329                       Jones, George   \n",
       "7330                       Jones, George   \n",
       "7331                       Jones, George   \n",
       "7332                       Jones, George   \n",
       "7333                       Jones, George   \n",
       "\n",
       "                                                   title  acquisitionYear  \n",
       "id                                                                         \n",
       "1737                                      Head of a Girl           1927.0  \n",
       "1738                                        Figure Study           1927.0  \n",
       "1739   Study of the Head of a Female Attendant for ‘T...           1927.0  \n",
       "20231  Study of Iseult for ‘The Marriage of Sir Trist...           1927.0  \n",
       "1740              Composition Study for ‘Clerk Saunders’           1927.0  \n",
       "...                                                  ...              ...  \n",
       "7329                                   [title not known]           1888.0  \n",
       "7330                                   [title not known]           1888.0  \n",
       "7331                                   [title not known]           1888.0  \n",
       "7332                                   [title not known]           1888.0  \n",
       "7333                                   [title not known]           1888.0  \n",
       "\n",
       "[200 rows x 3 columns]"
      ]
     },
     "execution_count": 151,
     "metadata": {},
     "output_type": "execute_result"
    }
   ],
   "source": [
    "# Using df.iloc => df.iloc[row_indexer e.g. 20:120], [column_indexer e.g. [0,1,4]]\n",
    "df_artworks.iloc[100:300, [0,1,4]]"
   ]
  },
  {
   "cell_type": "code",
   "execution_count": 156,
   "id": "d53a736a-8875-4b14-b5cc-1403bdb40194",
   "metadata": {},
   "outputs": [
    {
     "data": {
      "text/plain": [
       "'Blake, Robert'"
      ]
     },
     "execution_count": 156,
     "metadata": {},
     "output_type": "execute_result"
    }
   ],
   "source": [
    "# Examples\n",
    "df_artworks.loc[1035, 'artist']"
   ]
  },
  {
   "cell_type": "code",
   "execution_count": 158,
   "id": "f8442329-17fb-4a81-8eb6-c6e6cb10716c",
   "metadata": {},
   "outputs": [
    {
     "data": {
      "text/plain": [
       "'Blake, Robert'"
      ]
     },
     "execution_count": 158,
     "metadata": {},
     "output_type": "execute_result"
    }
   ],
   "source": [
    "\n",
    "df_artworks.iloc[0,0]"
   ]
  },
  {
   "cell_type": "code",
   "execution_count": 159,
   "id": "307a8070-fe28-4d34-b1f6-a38df1d53ca1",
   "metadata": {},
   "outputs": [
    {
     "data": {
      "text/plain": [
       "artist                                                 Blake, Robert\n",
       "title              A Figure Bowing before a Seated Old Man with h...\n",
       "medium             Watercolour, ink, chalk and graphite on paper....\n",
       "year                                                             NaN\n",
       "acquisitionYear                                               1922.0\n",
       "width                                                            394\n",
       "height                                                           419\n",
       "units                                                             mm\n",
       "Name: 1035, dtype: object"
      ]
     },
     "execution_count": 159,
     "metadata": {},
     "output_type": "execute_result"
    }
   ],
   "source": [
    "df_artworks.iloc[0,:]"
   ]
  },
  {
   "cell_type": "code",
   "execution_count": 160,
   "id": "4c6724f4-8446-414c-a588-f8844ebf3feb",
   "metadata": {},
   "outputs": [
    {
     "data": {
      "text/html": [
       "<div>\n",
       "<style scoped>\n",
       "    .dataframe tbody tr th:only-of-type {\n",
       "        vertical-align: middle;\n",
       "    }\n",
       "\n",
       "    .dataframe tbody tr th {\n",
       "        vertical-align: top;\n",
       "    }\n",
       "\n",
       "    .dataframe thead th {\n",
       "        text-align: right;\n",
       "    }\n",
       "</style>\n",
       "<table border=\"1\" class=\"dataframe\">\n",
       "  <thead>\n",
       "    <tr style=\"text-align: right;\">\n",
       "      <th></th>\n",
       "      <th>artist</th>\n",
       "      <th>title</th>\n",
       "    </tr>\n",
       "    <tr>\n",
       "      <th>id</th>\n",
       "      <th></th>\n",
       "      <th></th>\n",
       "    </tr>\n",
       "  </thead>\n",
       "  <tbody>\n",
       "    <tr>\n",
       "      <th>1035</th>\n",
       "      <td>Blake, Robert</td>\n",
       "      <td>A Figure Bowing before a Seated Old Man with h...</td>\n",
       "    </tr>\n",
       "    <tr>\n",
       "      <th>1036</th>\n",
       "      <td>Blake, Robert</td>\n",
       "      <td>Two Drawings of Frightened Figures, Probably f...</td>\n",
       "    </tr>\n",
       "  </tbody>\n",
       "</table>\n",
       "</div>"
      ],
      "text/plain": [
       "             artist                                              title\n",
       "id                                                                    \n",
       "1035  Blake, Robert  A Figure Bowing before a Seated Old Man with h...\n",
       "1036  Blake, Robert  Two Drawings of Frightened Figures, Probably f..."
      ]
     },
     "execution_count": 160,
     "metadata": {},
     "output_type": "execute_result"
    }
   ],
   "source": [
    "df_artworks.iloc[0:2, 0:2]"
   ]
  },
  {
   "cell_type": "code",
   "execution_count": 162,
   "id": "10593d37-a00f-4cb6-af6a-03bd36a33ff8",
   "metadata": {},
   "outputs": [],
   "source": [
    "# Expect error due to BAD data\n",
    "# df_artworks['height'] * df_artworks['width']"
   ]
  },
  {
   "cell_type": "code",
   "execution_count": 163,
   "id": "8dbccac9-8427-499d-ab8b-8b4ed3c9a9e9",
   "metadata": {},
   "outputs": [
    {
     "data": {
      "text/plain": [
       "id\n",
       "20822            (1):\n",
       "105337    (diameter):\n",
       "98671         (each):\n",
       "76420         (each):\n",
       "91391        (image):\n",
       "Name: width, dtype: object"
      ]
     },
     "execution_count": 163,
     "metadata": {},
     "output_type": "execute_result"
    }
   ],
   "source": [
    "df_artworks['width'].sort_values().head()"
   ]
  },
  {
   "cell_type": "code",
   "execution_count": 164,
   "id": "ee811e89-5d30-49ac-860c-16d1824e9a9d",
   "metadata": {},
   "outputs": [
    {
     "data": {
      "text/plain": [
       "id\n",
       "121283    NaN\n",
       "117863    NaN\n",
       "120549    NaN\n",
       "122900    NaN\n",
       "112306    NaN\n",
       "Name: width, dtype: object"
      ]
     },
     "execution_count": 164,
     "metadata": {},
     "output_type": "execute_result"
    }
   ],
   "source": [
    "df_artworks['width'].sort_values().tail()"
   ]
  },
  {
   "cell_type": "code",
   "execution_count": 166,
   "id": "2b1204ce-32ad-4d35-85e4-ec92fc46fbb3",
   "metadata": {},
   "outputs": [],
   "source": [
    "#  Expect errors\n",
    "# pd.to_numeric(df_artworks['width'])"
   ]
  },
  {
   "cell_type": "code",
   "execution_count": 167,
   "id": "b3f52348-7b90-444d-b3b6-c60a839017f1",
   "metadata": {},
   "outputs": [
    {
     "data": {
      "text/plain": [
       "id\n",
       "1035      394.0\n",
       "1036      311.0\n",
       "1037      343.0\n",
       "1038      318.0\n",
       "1039      243.0\n",
       "          ...  \n",
       "122960    305.0\n",
       "122961    305.0\n",
       "121181     45.0\n",
       "112306      NaN\n",
       "127035    508.0\n",
       "Name: width, Length: 69201, dtype: float64"
      ]
     },
     "execution_count": 167,
     "metadata": {},
     "output_type": "execute_result"
    }
   ],
   "source": [
    "# Force NaNs\n",
    "pd.to_numeric(df_artworks['width'], errors='coerce')"
   ]
  },
  {
   "cell_type": "code",
   "execution_count": 168,
   "id": "29bee7b6-abc2-4e23-969b-b8c090216d1c",
   "metadata": {},
   "outputs": [
    {
     "name": "stderr",
     "output_type": "stream",
     "text": [
      "/var/folders/19/hfphn2591ns6h03wq78nx0_m0000gn/T/ipykernel_77770/1373082685.py:1: DeprecationWarning: In a future version, `df.iloc[:, i] = newvals` will attempt to set the values inplace instead of always setting a new array. To retain the old behavior, use either `df[df.columns[i]] = newvals` or, if columns are non-unique, `df.isetitem(i, newvals)`\n",
      "  df_artworks.loc[:,'width'] = pd.to_numeric(df_artworks['width'], errors='coerce')\n"
     ]
    }
   ],
   "source": [
    "df_artworks.loc[:,'width'] = pd.to_numeric(df_artworks['width'], errors='coerce')"
   ]
  },
  {
   "cell_type": "code",
   "execution_count": 169,
   "id": "726cf8ca-3435-412e-862a-baa7713dce47",
   "metadata": {},
   "outputs": [
    {
     "data": {
      "text/plain": [
       "id\n",
       "1035       419.0\n",
       "1036       213.0\n",
       "1037       467.0\n",
       "1038       394.0\n",
       "1039       335.0\n",
       "           ...  \n",
       "122960     305.0\n",
       "122961     305.0\n",
       "121181    2410.0\n",
       "112306       NaN\n",
       "127035     660.0\n",
       "Name: height, Length: 69201, dtype: float64"
      ]
     },
     "execution_count": 169,
     "metadata": {},
     "output_type": "execute_result"
    }
   ],
   "source": [
    "pd.to_numeric(df_artworks['height'], errors='coerce')"
   ]
  },
  {
   "cell_type": "code",
   "execution_count": 170,
   "id": "2d476691-8492-4552-ab69-5e99644ff1ad",
   "metadata": {},
   "outputs": [
    {
     "name": "stderr",
     "output_type": "stream",
     "text": [
      "/var/folders/19/hfphn2591ns6h03wq78nx0_m0000gn/T/ipykernel_77770/1373936971.py:1: DeprecationWarning: In a future version, `df.iloc[:, i] = newvals` will attempt to set the values inplace instead of always setting a new array. To retain the old behavior, use either `df[df.columns[i]] = newvals` or, if columns are non-unique, `df.isetitem(i, newvals)`\n",
      "  df_artworks.loc[:,'height'] = pd.to_numeric(df_artworks['height'], errors='coerce')\n"
     ]
    }
   ],
   "source": [
    "df_artworks.loc[:,'height'] = pd.to_numeric(df_artworks['height'], errors='coerce')"
   ]
  },
  {
   "cell_type": "code",
   "execution_count": 171,
   "id": "929f692b-cadb-4f1d-9ff5-91e4356ec997",
   "metadata": {},
   "outputs": [
    {
     "data": {
      "text/plain": [
       "id\n",
       "1035      165086.0\n",
       "1036       66243.0\n",
       "1037      160181.0\n",
       "1038      125292.0\n",
       "1039       81405.0\n",
       "            ...   \n",
       "122960     93025.0\n",
       "122961     93025.0\n",
       "121181    108450.0\n",
       "112306         NaN\n",
       "127035    335280.0\n",
       "Length: 69201, dtype: float64"
      ]
     },
     "execution_count": 171,
     "metadata": {},
     "output_type": "execute_result"
    }
   ],
   "source": [
    "df_artworks['height'] * df_artworks['width']"
   ]
  },
  {
   "cell_type": "code",
   "execution_count": 172,
   "id": "5ca01cba-561f-4550-befd-b3d7445e77d3",
   "metadata": {},
   "outputs": [
    {
     "data": {
      "text/plain": [
       "mm    65860\n",
       "Name: units, dtype: int64"
      ]
     },
     "execution_count": 172,
     "metadata": {},
     "output_type": "execute_result"
    }
   ],
   "source": [
    "df_artworks['units'].value_counts()"
   ]
  },
  {
   "cell_type": "code",
   "execution_count": 173,
   "id": "1ca59fe1-8aff-42d1-9808-8febbd83d066",
   "metadata": {},
   "outputs": [],
   "source": [
    "# Assign - Create new COLUMNS with size\n",
    "area = df_artworks['height'] * df_artworks['width']\n",
    "df_artworks = df_artworks.assign(area=area)"
   ]
  },
  {
   "cell_type": "code",
   "execution_count": 174,
   "id": "9559d14c-340c-445e-a412-c5f9efb8e0cf",
   "metadata": {},
   "outputs": [
    {
     "data": {
      "text/plain": [
       "132462000.0"
      ]
     },
     "execution_count": 174,
     "metadata": {},
     "output_type": "execute_result"
    }
   ],
   "source": [
    "df_artworks['area'].max()"
   ]
  },
  {
   "cell_type": "code",
   "execution_count": 175,
   "id": "95f1ac78-fc61-463f-a13e-4775b19d8185",
   "metadata": {},
   "outputs": [
    {
     "data": {
      "text/plain": [
       "98367"
      ]
     },
     "execution_count": 175,
     "metadata": {},
     "output_type": "execute_result"
    }
   ],
   "source": [
    "df_artworks['area'].idxmax()"
   ]
  },
  {
   "cell_type": "code",
   "execution_count": 176,
   "id": "94189c93-5928-410a-b15e-7bf7cbb811bd",
   "metadata": {},
   "outputs": [
    {
     "data": {
      "text/plain": [
       "artist                               Therrien, Robert\n",
       "title                No Title (Table and Four Chairs)\n",
       "medium             Aluminium, steel, wood and plastic\n",
       "year                                             2003\n",
       "acquisitionYear                                2008.0\n",
       "width                                          8920.0\n",
       "height                                        14850.0\n",
       "units                                              mm\n",
       "area                                      132462000.0\n",
       "Name: 98367, dtype: object"
      ]
     },
     "execution_count": 176,
     "metadata": {},
     "output_type": "execute_result"
    }
   ],
   "source": [
    "df_artworks.loc[df_artworks['area'].idxmax(), :]"
   ]
  },
  {
   "cell_type": "code",
   "execution_count": 177,
   "id": "23b94f0e-f02c-4130-a339-46344f010a19",
   "metadata": {},
   "outputs": [],
   "source": [
    "# Operations e.g. AGGREATIONS IN PANDAS via  APIS\n",
    "# Sample data\n",
    "df_small = df_artworks.iloc[49980:50019, :].copy()"
   ]
  },
  {
   "cell_type": "code",
   "execution_count": 178,
   "id": "808b4388-e392-4cd2-a7ce-f762a9b8e8f5",
   "metadata": {},
   "outputs": [],
   "source": [
    "grouped = df_small.groupby('artist')"
   ]
  },
  {
   "cell_type": "code",
   "execution_count": 179,
   "id": "58ac431c-8555-414b-b581-0aa975ea3c83",
   "metadata": {},
   "outputs": [
    {
     "data": {
      "text/plain": [
       "pandas.core.groupby.generic.DataFrameGroupBy"
      ]
     },
     "execution_count": 179,
     "metadata": {},
     "output_type": "execute_result"
    }
   ],
   "source": [
    "type(grouped)"
   ]
  },
  {
   "cell_type": "code",
   "execution_count": 180,
   "id": "1442e1ce-d2d0-4111-b064-d04b6de4d07f",
   "metadata": {},
   "outputs": [
    {
     "name": "stdout",
     "output_type": "stream",
     "text": [
      "Frost, Sir Terry\n",
      "                artist            title               medium  year  \\\n",
      "id                                                                   \n",
      "4704  Frost, Sir Terry        Blue Moon  Lithograph on paper  1952   \n",
      "4705  Frost, Sir Terry      Boat Shapes     Linocut on paper  1952   \n",
      "4706  Frost, Sir Terry      Boat Shapes     Linocut on paper  1954   \n",
      "4707  Frost, Sir Terry      Boat Shapes     Linocut on paper  1954   \n",
      "4708  Frost, Sir Terry            Leeds    Drypoint on paper  1956   \n",
      "4709  Frost, Sir Terry  Camping, Anduze     Etching on paper  1979   \n",
      "4710  Frost, Sir Terry     Umea, Sweden     Etching on paper  1979   \n",
      "4711  Frost, Sir Terry    Self-Portrait     Etching on paper  1980   \n",
      "\n",
      "      acquisitionYear  width  height units     area  \n",
      "id                                                   \n",
      "4704           1983.0  355.0   273.0    mm  96915.0  \n",
      "4705           1983.0  132.0   143.0    mm  18876.0  \n",
      "4706           1983.0  131.0   155.0    mm  20305.0  \n",
      "4707           1983.0  193.0   267.0    mm  51531.0  \n",
      "4708           1983.0  125.0   167.0    mm  20875.0  \n",
      "4709           1983.0  257.0   209.0    mm  53713.0  \n",
      "4710           1983.0    NaN     NaN   NaN      NaN  \n",
      "4711           1983.0  277.0   200.0    mm  55400.0  \n"
     ]
    }
   ],
   "source": [
    "for name, group_df in grouped:\n",
    "    print(name)\n",
    "    print(group_df)\n",
    "    break"
   ]
  },
  {
   "cell_type": "code",
   "execution_count": 181,
   "id": "8cdf61e3-f02c-4772-a70a-9692f01c2fdf",
   "metadata": {},
   "outputs": [
    {
     "name": "stdout",
     "output_type": "stream",
     "text": [
      "\tFrost, Sir Terry:1983.0\n",
      "\tPhillips, Esq Tom:1983.0\n",
      "\tWols:1983.0\n"
     ]
    }
   ],
   "source": [
    "# Find min_year of acquisition\n",
    "for name, group_df in grouped:\n",
    "    min_year = group_df['acquisitionYear'].min()\n",
    "    print(f\"\\t{name}:{min_year}\")"
   ]
  },
  {
   "cell_type": "code",
   "execution_count": 182,
   "id": "3764a762-fb74-4a55-baf8-6c1ee8dfa466",
   "metadata": {},
   "outputs": [
    {
     "data": {
      "text/html": [
       "<div>\n",
       "<style scoped>\n",
       "    .dataframe tbody tr th:only-of-type {\n",
       "        vertical-align: middle;\n",
       "    }\n",
       "\n",
       "    .dataframe tbody tr th {\n",
       "        vertical-align: top;\n",
       "    }\n",
       "\n",
       "    .dataframe thead th {\n",
       "        text-align: right;\n",
       "    }\n",
       "</style>\n",
       "<table border=\"1\" class=\"dataframe\">\n",
       "  <thead>\n",
       "    <tr style=\"text-align: right;\">\n",
       "      <th></th>\n",
       "      <th>artist</th>\n",
       "      <th>title</th>\n",
       "      <th>medium</th>\n",
       "      <th>year</th>\n",
       "      <th>acquisitionYear</th>\n",
       "      <th>width</th>\n",
       "      <th>height</th>\n",
       "      <th>units</th>\n",
       "      <th>area</th>\n",
       "    </tr>\n",
       "    <tr>\n",
       "      <th>id</th>\n",
       "      <th></th>\n",
       "      <th></th>\n",
       "      <th></th>\n",
       "      <th></th>\n",
       "      <th></th>\n",
       "      <th></th>\n",
       "      <th></th>\n",
       "      <th></th>\n",
       "      <th></th>\n",
       "    </tr>\n",
       "  </thead>\n",
       "  <tbody>\n",
       "    <tr>\n",
       "      <th>16412</th>\n",
       "      <td>Wols</td>\n",
       "      <td>[no title]</td>\n",
       "      <td>Etching on paper</td>\n",
       "      <td>1937</td>\n",
       "      <td>1983.0</td>\n",
       "      <td>130.0</td>\n",
       "      <td>80.0</td>\n",
       "      <td>mm</td>\n",
       "      <td>10400.0</td>\n",
       "    </tr>\n",
       "    <tr>\n",
       "      <th>16413</th>\n",
       "      <td>Wols</td>\n",
       "      <td>[no title]</td>\n",
       "      <td>Etching and drypoint on paper</td>\n",
       "      <td>1937</td>\n",
       "      <td>1983.0</td>\n",
       "      <td>187.0</td>\n",
       "      <td>102.0</td>\n",
       "      <td>mm</td>\n",
       "      <td>19074.0</td>\n",
       "    </tr>\n",
       "    <tr>\n",
       "      <th>16414</th>\n",
       "      <td>Wols</td>\n",
       "      <td>[no title]</td>\n",
       "      <td>Etching and drypoint on paper</td>\n",
       "      <td>1937</td>\n",
       "      <td>1983.0</td>\n",
       "      <td>248.0</td>\n",
       "      <td>168.0</td>\n",
       "      <td>mm</td>\n",
       "      <td>41664.0</td>\n",
       "    </tr>\n",
       "    <tr>\n",
       "      <th>16415</th>\n",
       "      <td>Wols</td>\n",
       "      <td>[no title]</td>\n",
       "      <td>Etching and drypoint on paper</td>\n",
       "      <td>1937</td>\n",
       "      <td>1983.0</td>\n",
       "      <td>149.0</td>\n",
       "      <td>102.0</td>\n",
       "      <td>mm</td>\n",
       "      <td>15198.0</td>\n",
       "    </tr>\n",
       "    <tr>\n",
       "      <th>16416</th>\n",
       "      <td>Wols</td>\n",
       "      <td>[no title]</td>\n",
       "      <td>Etching and drypoint on paper</td>\n",
       "      <td>1937</td>\n",
       "      <td>1983.0</td>\n",
       "      <td>203.0</td>\n",
       "      <td>120.0</td>\n",
       "      <td>mm</td>\n",
       "      <td>24360.0</td>\n",
       "    </tr>\n",
       "    <tr>\n",
       "      <th>4704</th>\n",
       "      <td>Frost, Sir Terry</td>\n",
       "      <td>Blue Moon</td>\n",
       "      <td>Lithograph on paper</td>\n",
       "      <td>1952</td>\n",
       "      <td>1983.0</td>\n",
       "      <td>355.0</td>\n",
       "      <td>273.0</td>\n",
       "      <td>mm</td>\n",
       "      <td>96915.0</td>\n",
       "    </tr>\n",
       "    <tr>\n",
       "      <th>4705</th>\n",
       "      <td>Frost, Sir Terry</td>\n",
       "      <td>Boat Shapes</td>\n",
       "      <td>Linocut on paper</td>\n",
       "      <td>1952</td>\n",
       "      <td>1983.0</td>\n",
       "      <td>132.0</td>\n",
       "      <td>143.0</td>\n",
       "      <td>mm</td>\n",
       "      <td>18876.0</td>\n",
       "    </tr>\n",
       "    <tr>\n",
       "      <th>4706</th>\n",
       "      <td>Frost, Sir Terry</td>\n",
       "      <td>Boat Shapes</td>\n",
       "      <td>Linocut on paper</td>\n",
       "      <td>1954</td>\n",
       "      <td>1983.0</td>\n",
       "      <td>131.0</td>\n",
       "      <td>155.0</td>\n",
       "      <td>mm</td>\n",
       "      <td>20305.0</td>\n",
       "    </tr>\n",
       "    <tr>\n",
       "      <th>4707</th>\n",
       "      <td>Frost, Sir Terry</td>\n",
       "      <td>Boat Shapes</td>\n",
       "      <td>Linocut on paper</td>\n",
       "      <td>1954</td>\n",
       "      <td>1983.0</td>\n",
       "      <td>193.0</td>\n",
       "      <td>267.0</td>\n",
       "      <td>mm</td>\n",
       "      <td>51531.0</td>\n",
       "    </tr>\n",
       "    <tr>\n",
       "      <th>4708</th>\n",
       "      <td>Frost, Sir Terry</td>\n",
       "      <td>Leeds</td>\n",
       "      <td>Drypoint on paper</td>\n",
       "      <td>1956</td>\n",
       "      <td>1983.0</td>\n",
       "      <td>125.0</td>\n",
       "      <td>167.0</td>\n",
       "      <td>mm</td>\n",
       "      <td>20875.0</td>\n",
       "    </tr>\n",
       "    <tr>\n",
       "      <th>11838</th>\n",
       "      <td>Phillips, Esq Tom</td>\n",
       "      <td>[colophon]</td>\n",
       "      <td>Etching on paper</td>\n",
       "      <td>1979</td>\n",
       "      <td>1983.0</td>\n",
       "      <td>292.0</td>\n",
       "      <td>204.0</td>\n",
       "      <td>mm</td>\n",
       "      <td>59568.0</td>\n",
       "    </tr>\n",
       "  </tbody>\n",
       "</table>\n",
       "</div>"
      ],
      "text/plain": [
       "                  artist        title                         medium  year  \\\n",
       "id                                                                           \n",
       "16412               Wols   [no title]               Etching on paper  1937   \n",
       "16413               Wols   [no title]  Etching and drypoint on paper  1937   \n",
       "16414               Wols   [no title]  Etching and drypoint on paper  1937   \n",
       "16415               Wols   [no title]  Etching and drypoint on paper  1937   \n",
       "16416               Wols   [no title]  Etching and drypoint on paper  1937   \n",
       "4704    Frost, Sir Terry    Blue Moon            Lithograph on paper  1952   \n",
       "4705    Frost, Sir Terry  Boat Shapes               Linocut on paper  1952   \n",
       "4706    Frost, Sir Terry  Boat Shapes               Linocut on paper  1954   \n",
       "4707    Frost, Sir Terry  Boat Shapes               Linocut on paper  1954   \n",
       "4708    Frost, Sir Terry        Leeds              Drypoint on paper  1956   \n",
       "11838  Phillips, Esq Tom   [colophon]               Etching on paper  1979   \n",
       "\n",
       "       acquisitionYear  width  height units     area  \n",
       "id                                                    \n",
       "16412           1983.0  130.0    80.0    mm  10400.0  \n",
       "16413           1983.0  187.0   102.0    mm  19074.0  \n",
       "16414           1983.0  248.0   168.0    mm  41664.0  \n",
       "16415           1983.0  149.0   102.0    mm  15198.0  \n",
       "16416           1983.0  203.0   120.0    mm  24360.0  \n",
       "4704            1983.0  355.0   273.0    mm  96915.0  \n",
       "4705            1983.0  132.0   143.0    mm  18876.0  \n",
       "4706            1983.0  131.0   155.0    mm  20305.0  \n",
       "4707            1983.0  193.0   267.0    mm  51531.0  \n",
       "4708            1983.0  125.0   167.0    mm  20875.0  \n",
       "11838           1983.0  292.0   204.0    mm  59568.0  "
      ]
     },
     "execution_count": 182,
     "metadata": {},
     "output_type": "execute_result"
    }
   ],
   "source": [
    "grouped.head()"
   ]
  },
  {
   "cell_type": "code",
   "execution_count": 183,
   "id": "5dd7a9d2-0b0d-4243-8e87-d9813f74c337",
   "metadata": {},
   "outputs": [
    {
     "data": {
      "text/html": [
       "<div>\n",
       "<style scoped>\n",
       "    .dataframe tbody tr th:only-of-type {\n",
       "        vertical-align: middle;\n",
       "    }\n",
       "\n",
       "    .dataframe tbody tr th {\n",
       "        vertical-align: top;\n",
       "    }\n",
       "\n",
       "    .dataframe thead tr th {\n",
       "        text-align: left;\n",
       "    }\n",
       "\n",
       "    .dataframe thead tr:last-of-type th {\n",
       "        text-align: right;\n",
       "    }\n",
       "</style>\n",
       "<table border=\"1\" class=\"dataframe\">\n",
       "  <thead>\n",
       "    <tr>\n",
       "      <th></th>\n",
       "      <th colspan=\"8\" halign=\"left\">acquisitionYear</th>\n",
       "      <th colspan=\"2\" halign=\"left\">width</th>\n",
       "      <th>...</th>\n",
       "      <th colspan=\"2\" halign=\"left\">height</th>\n",
       "      <th colspan=\"8\" halign=\"left\">area</th>\n",
       "    </tr>\n",
       "    <tr>\n",
       "      <th></th>\n",
       "      <th>count</th>\n",
       "      <th>mean</th>\n",
       "      <th>std</th>\n",
       "      <th>min</th>\n",
       "      <th>25%</th>\n",
       "      <th>50%</th>\n",
       "      <th>75%</th>\n",
       "      <th>max</th>\n",
       "      <th>count</th>\n",
       "      <th>mean</th>\n",
       "      <th>...</th>\n",
       "      <th>75%</th>\n",
       "      <th>max</th>\n",
       "      <th>count</th>\n",
       "      <th>mean</th>\n",
       "      <th>std</th>\n",
       "      <th>min</th>\n",
       "      <th>25%</th>\n",
       "      <th>50%</th>\n",
       "      <th>75%</th>\n",
       "      <th>max</th>\n",
       "    </tr>\n",
       "    <tr>\n",
       "      <th>artist</th>\n",
       "      <th></th>\n",
       "      <th></th>\n",
       "      <th></th>\n",
       "      <th></th>\n",
       "      <th></th>\n",
       "      <th></th>\n",
       "      <th></th>\n",
       "      <th></th>\n",
       "      <th></th>\n",
       "      <th></th>\n",
       "      <th></th>\n",
       "      <th></th>\n",
       "      <th></th>\n",
       "      <th></th>\n",
       "      <th></th>\n",
       "      <th></th>\n",
       "      <th></th>\n",
       "      <th></th>\n",
       "      <th></th>\n",
       "      <th></th>\n",
       "      <th></th>\n",
       "    </tr>\n",
       "  </thead>\n",
       "  <tbody>\n",
       "    <tr>\n",
       "      <th>Frost, Sir Terry</th>\n",
       "      <td>8.0</td>\n",
       "      <td>1983.0</td>\n",
       "      <td>0.0</td>\n",
       "      <td>1983.0</td>\n",
       "      <td>1983.0</td>\n",
       "      <td>1983.0</td>\n",
       "      <td>1983.0</td>\n",
       "      <td>1983.0</td>\n",
       "      <td>7.0</td>\n",
       "      <td>210.000000</td>\n",
       "      <td>...</td>\n",
       "      <td>238.0</td>\n",
       "      <td>273.0</td>\n",
       "      <td>7.0</td>\n",
       "      <td>45373.571429</td>\n",
       "      <td>28270.251419</td>\n",
       "      <td>18876.0</td>\n",
       "      <td>20590.0</td>\n",
       "      <td>51531.0</td>\n",
       "      <td>54556.5</td>\n",
       "      <td>96915.0</td>\n",
       "    </tr>\n",
       "    <tr>\n",
       "      <th>Phillips, Esq Tom</th>\n",
       "      <td>1.0</td>\n",
       "      <td>1983.0</td>\n",
       "      <td>NaN</td>\n",
       "      <td>1983.0</td>\n",
       "      <td>1983.0</td>\n",
       "      <td>1983.0</td>\n",
       "      <td>1983.0</td>\n",
       "      <td>1983.0</td>\n",
       "      <td>1.0</td>\n",
       "      <td>292.000000</td>\n",
       "      <td>...</td>\n",
       "      <td>204.0</td>\n",
       "      <td>204.0</td>\n",
       "      <td>1.0</td>\n",
       "      <td>59568.000000</td>\n",
       "      <td>NaN</td>\n",
       "      <td>59568.0</td>\n",
       "      <td>59568.0</td>\n",
       "      <td>59568.0</td>\n",
       "      <td>59568.0</td>\n",
       "      <td>59568.0</td>\n",
       "    </tr>\n",
       "    <tr>\n",
       "      <th>Wols</th>\n",
       "      <td>30.0</td>\n",
       "      <td>1983.0</td>\n",
       "      <td>0.0</td>\n",
       "      <td>1983.0</td>\n",
       "      <td>1983.0</td>\n",
       "      <td>1983.0</td>\n",
       "      <td>1983.0</td>\n",
       "      <td>1983.0</td>\n",
       "      <td>30.0</td>\n",
       "      <td>142.733333</td>\n",
       "      <td>...</td>\n",
       "      <td>102.0</td>\n",
       "      <td>248.0</td>\n",
       "      <td>30.0</td>\n",
       "      <td>16533.366667</td>\n",
       "      <td>14424.084695</td>\n",
       "      <td>5880.0</td>\n",
       "      <td>10565.0</td>\n",
       "      <td>12152.0</td>\n",
       "      <td>14513.5</td>\n",
       "      <td>80352.0</td>\n",
       "    </tr>\n",
       "  </tbody>\n",
       "</table>\n",
       "<p>3 rows × 32 columns</p>\n",
       "</div>"
      ],
      "text/plain": [
       "                  acquisitionYear                                       \\\n",
       "                            count    mean  std     min     25%     50%   \n",
       "artist                                                                   \n",
       "Frost, Sir Terry              8.0  1983.0  0.0  1983.0  1983.0  1983.0   \n",
       "Phillips, Esq Tom             1.0  1983.0  NaN  1983.0  1983.0  1983.0   \n",
       "Wols                         30.0  1983.0  0.0  1983.0  1983.0  1983.0   \n",
       "\n",
       "                                  width              ... height         area  \\\n",
       "                      75%     max count        mean  ...    75%    max count   \n",
       "artist                                               ...                       \n",
       "Frost, Sir Terry   1983.0  1983.0   7.0  210.000000  ...  238.0  273.0   7.0   \n",
       "Phillips, Esq Tom  1983.0  1983.0   1.0  292.000000  ...  204.0  204.0   1.0   \n",
       "Wols               1983.0  1983.0  30.0  142.733333  ...  102.0  248.0  30.0   \n",
       "\n",
       "                                                                          \\\n",
       "                           mean           std      min      25%      50%   \n",
       "artist                                                                     \n",
       "Frost, Sir Terry   45373.571429  28270.251419  18876.0  20590.0  51531.0   \n",
       "Phillips, Esq Tom  59568.000000           NaN  59568.0  59568.0  59568.0   \n",
       "Wols               16533.366667  14424.084695   5880.0  10565.0  12152.0   \n",
       "\n",
       "                                     \n",
       "                       75%      max  \n",
       "artist                               \n",
       "Frost, Sir Terry   54556.5  96915.0  \n",
       "Phillips, Esq Tom  59568.0  59568.0  \n",
       "Wols               14513.5  80352.0  \n",
       "\n",
       "[3 rows x 32 columns]"
      ]
     },
     "execution_count": 183,
     "metadata": {},
     "output_type": "execute_result"
    }
   ],
   "source": [
    "grouped.describe()"
   ]
  },
  {
   "cell_type": "code",
   "execution_count": 185,
   "id": "cc548ce5-06e6-42da-ac19-5add8e96a978",
   "metadata": {},
   "outputs": [],
   "source": [
    "def fill_values(series):\n",
    "    values_counted = series.value_counts()\n",
    "    if values_counted.empty:\n",
    "        return series\n",
    "    most_freq = values_counted.index[0]\n",
    "    new_medium = series.fillna(most_freq)\n",
    "    return new_medium"
   ]
  },
  {
   "cell_type": "code",
   "execution_count": 186,
   "id": "ceceb00f-41d8-44ab-829d-87dd6fed4084",
   "metadata": {},
   "outputs": [],
   "source": [
    "def transform_df(source_df):\n",
    "    group_dfs = []\n",
    "    for name, group_df in source_df.groupby('artist'):\n",
    "        filled_df = group_df.copy()\n",
    "        filled_df.loc[:, 'medium'] = fill_values(group_df['medium'])\n",
    "        group_dfs.append(filled_df)\n",
    "\n",
    "    new_df = pd.concat(group_dfs)\n",
    "    return new_df\n",
    "    "
   ]
  },
  {
   "cell_type": "code",
   "execution_count": 187,
   "id": "2563160f-f018-48ed-9dd6-c347ca6e1436",
   "metadata": {},
   "outputs": [],
   "source": [
    "filled_df = transform_df(df_small)"
   ]
  },
  {
   "cell_type": "code",
   "execution_count": 188,
   "id": "932d3100-0a3c-42e3-89be-25df211697bf",
   "metadata": {},
   "outputs": [
    {
     "data": {
      "text/html": [
       "<div>\n",
       "<style scoped>\n",
       "    .dataframe tbody tr th:only-of-type {\n",
       "        vertical-align: middle;\n",
       "    }\n",
       "\n",
       "    .dataframe tbody tr th {\n",
       "        vertical-align: top;\n",
       "    }\n",
       "\n",
       "    .dataframe thead th {\n",
       "        text-align: right;\n",
       "    }\n",
       "</style>\n",
       "<table border=\"1\" class=\"dataframe\">\n",
       "  <thead>\n",
       "    <tr style=\"text-align: right;\">\n",
       "      <th></th>\n",
       "      <th>artist</th>\n",
       "      <th>title</th>\n",
       "      <th>medium</th>\n",
       "      <th>year</th>\n",
       "      <th>acquisitionYear</th>\n",
       "      <th>width</th>\n",
       "      <th>height</th>\n",
       "      <th>units</th>\n",
       "      <th>area</th>\n",
       "    </tr>\n",
       "    <tr>\n",
       "      <th>id</th>\n",
       "      <th></th>\n",
       "      <th></th>\n",
       "      <th></th>\n",
       "      <th></th>\n",
       "      <th></th>\n",
       "      <th></th>\n",
       "      <th></th>\n",
       "      <th></th>\n",
       "      <th></th>\n",
       "    </tr>\n",
       "  </thead>\n",
       "  <tbody>\n",
       "    <tr>\n",
       "      <th>4704</th>\n",
       "      <td>Frost, Sir Terry</td>\n",
       "      <td>Blue Moon</td>\n",
       "      <td>Lithograph on paper</td>\n",
       "      <td>1952</td>\n",
       "      <td>1983.0</td>\n",
       "      <td>355.0</td>\n",
       "      <td>273.0</td>\n",
       "      <td>mm</td>\n",
       "      <td>96915.0</td>\n",
       "    </tr>\n",
       "    <tr>\n",
       "      <th>4705</th>\n",
       "      <td>Frost, Sir Terry</td>\n",
       "      <td>Boat Shapes</td>\n",
       "      <td>Linocut on paper</td>\n",
       "      <td>1952</td>\n",
       "      <td>1983.0</td>\n",
       "      <td>132.0</td>\n",
       "      <td>143.0</td>\n",
       "      <td>mm</td>\n",
       "      <td>18876.0</td>\n",
       "    </tr>\n",
       "    <tr>\n",
       "      <th>4706</th>\n",
       "      <td>Frost, Sir Terry</td>\n",
       "      <td>Boat Shapes</td>\n",
       "      <td>Linocut on paper</td>\n",
       "      <td>1954</td>\n",
       "      <td>1983.0</td>\n",
       "      <td>131.0</td>\n",
       "      <td>155.0</td>\n",
       "      <td>mm</td>\n",
       "      <td>20305.0</td>\n",
       "    </tr>\n",
       "    <tr>\n",
       "      <th>4707</th>\n",
       "      <td>Frost, Sir Terry</td>\n",
       "      <td>Boat Shapes</td>\n",
       "      <td>Linocut on paper</td>\n",
       "      <td>1954</td>\n",
       "      <td>1983.0</td>\n",
       "      <td>193.0</td>\n",
       "      <td>267.0</td>\n",
       "      <td>mm</td>\n",
       "      <td>51531.0</td>\n",
       "    </tr>\n",
       "    <tr>\n",
       "      <th>4708</th>\n",
       "      <td>Frost, Sir Terry</td>\n",
       "      <td>Leeds</td>\n",
       "      <td>Drypoint on paper</td>\n",
       "      <td>1956</td>\n",
       "      <td>1983.0</td>\n",
       "      <td>125.0</td>\n",
       "      <td>167.0</td>\n",
       "      <td>mm</td>\n",
       "      <td>20875.0</td>\n",
       "    </tr>\n",
       "    <tr>\n",
       "      <th>4709</th>\n",
       "      <td>Frost, Sir Terry</td>\n",
       "      <td>Camping, Anduze</td>\n",
       "      <td>Etching on paper</td>\n",
       "      <td>1979</td>\n",
       "      <td>1983.0</td>\n",
       "      <td>257.0</td>\n",
       "      <td>209.0</td>\n",
       "      <td>mm</td>\n",
       "      <td>53713.0</td>\n",
       "    </tr>\n",
       "    <tr>\n",
       "      <th>4710</th>\n",
       "      <td>Frost, Sir Terry</td>\n",
       "      <td>Umea, Sweden</td>\n",
       "      <td>Etching on paper</td>\n",
       "      <td>1979</td>\n",
       "      <td>1983.0</td>\n",
       "      <td>NaN</td>\n",
       "      <td>NaN</td>\n",
       "      <td>NaN</td>\n",
       "      <td>NaN</td>\n",
       "    </tr>\n",
       "  </tbody>\n",
       "</table>\n",
       "</div>"
      ],
      "text/plain": [
       "                artist            title               medium  year  \\\n",
       "id                                                                   \n",
       "4704  Frost, Sir Terry        Blue Moon  Lithograph on paper  1952   \n",
       "4705  Frost, Sir Terry      Boat Shapes     Linocut on paper  1952   \n",
       "4706  Frost, Sir Terry      Boat Shapes     Linocut on paper  1954   \n",
       "4707  Frost, Sir Terry      Boat Shapes     Linocut on paper  1954   \n",
       "4708  Frost, Sir Terry            Leeds    Drypoint on paper  1956   \n",
       "4709  Frost, Sir Terry  Camping, Anduze     Etching on paper  1979   \n",
       "4710  Frost, Sir Terry     Umea, Sweden     Etching on paper  1979   \n",
       "\n",
       "      acquisitionYear  width  height units     area  \n",
       "id                                                   \n",
       "4704           1983.0  355.0   273.0    mm  96915.0  \n",
       "4705           1983.0  132.0   143.0    mm  18876.0  \n",
       "4706           1983.0  131.0   155.0    mm  20305.0  \n",
       "4707           1983.0  193.0   267.0    mm  51531.0  \n",
       "4708           1983.0  125.0   167.0    mm  20875.0  \n",
       "4709           1983.0  257.0   209.0    mm  53713.0  \n",
       "4710           1983.0    NaN     NaN   NaN      NaN  "
      ]
     },
     "execution_count": 188,
     "metadata": {},
     "output_type": "execute_result"
    }
   ],
   "source": [
    "filled_df.head(7)"
   ]
  },
  {
   "cell_type": "code",
   "execution_count": 189,
   "id": "3b3e8a35-e1d9-4065-aee9-e69a9f344fe6",
   "metadata": {},
   "outputs": [],
   "source": [
    "# BUILTIN METHODS\n",
    "grouped_medium = df_small.groupby('artist')['medium']"
   ]
  },
  {
   "cell_type": "code",
   "execution_count": 191,
   "id": "9db0cda2-005c-4e7e-a486-1363a6f22626",
   "metadata": {},
   "outputs": [],
   "source": [
    "df_small.loc[:,'medium'] = grouped_medium.transform(fill_values)"
   ]
  },
  {
   "cell_type": "code",
   "execution_count": 192,
   "id": "50cd81f3-a42e-46c6-a770-549c9fc67a21",
   "metadata": {},
   "outputs": [
    {
     "data": {
      "text/html": [
       "<div>\n",
       "<style scoped>\n",
       "    .dataframe tbody tr th:only-of-type {\n",
       "        vertical-align: middle;\n",
       "    }\n",
       "\n",
       "    .dataframe tbody tr th {\n",
       "        vertical-align: top;\n",
       "    }\n",
       "\n",
       "    .dataframe thead th {\n",
       "        text-align: right;\n",
       "    }\n",
       "</style>\n",
       "<table border=\"1\" class=\"dataframe\">\n",
       "  <thead>\n",
       "    <tr style=\"text-align: right;\">\n",
       "      <th></th>\n",
       "      <th>artist</th>\n",
       "      <th>title</th>\n",
       "      <th>medium</th>\n",
       "      <th>year</th>\n",
       "      <th>acquisitionYear</th>\n",
       "      <th>width</th>\n",
       "      <th>height</th>\n",
       "      <th>units</th>\n",
       "      <th>area</th>\n",
       "    </tr>\n",
       "    <tr>\n",
       "      <th>id</th>\n",
       "      <th></th>\n",
       "      <th></th>\n",
       "      <th></th>\n",
       "      <th></th>\n",
       "      <th></th>\n",
       "      <th></th>\n",
       "      <th></th>\n",
       "      <th></th>\n",
       "      <th></th>\n",
       "    </tr>\n",
       "  </thead>\n",
       "  <tbody>\n",
       "    <tr>\n",
       "      <th>16412</th>\n",
       "      <td>Wols</td>\n",
       "      <td>[no title]</td>\n",
       "      <td>Etching on paper</td>\n",
       "      <td>1937</td>\n",
       "      <td>1983.0</td>\n",
       "      <td>130.0</td>\n",
       "      <td>80.0</td>\n",
       "      <td>mm</td>\n",
       "      <td>10400.0</td>\n",
       "    </tr>\n",
       "    <tr>\n",
       "      <th>16413</th>\n",
       "      <td>Wols</td>\n",
       "      <td>[no title]</td>\n",
       "      <td>Etching and drypoint on paper</td>\n",
       "      <td>1937</td>\n",
       "      <td>1983.0</td>\n",
       "      <td>187.0</td>\n",
       "      <td>102.0</td>\n",
       "      <td>mm</td>\n",
       "      <td>19074.0</td>\n",
       "    </tr>\n",
       "    <tr>\n",
       "      <th>16414</th>\n",
       "      <td>Wols</td>\n",
       "      <td>[no title]</td>\n",
       "      <td>Etching and drypoint on paper</td>\n",
       "      <td>1937</td>\n",
       "      <td>1983.0</td>\n",
       "      <td>248.0</td>\n",
       "      <td>168.0</td>\n",
       "      <td>mm</td>\n",
       "      <td>41664.0</td>\n",
       "    </tr>\n",
       "    <tr>\n",
       "      <th>16415</th>\n",
       "      <td>Wols</td>\n",
       "      <td>[no title]</td>\n",
       "      <td>Etching and drypoint on paper</td>\n",
       "      <td>1937</td>\n",
       "      <td>1983.0</td>\n",
       "      <td>149.0</td>\n",
       "      <td>102.0</td>\n",
       "      <td>mm</td>\n",
       "      <td>15198.0</td>\n",
       "    </tr>\n",
       "    <tr>\n",
       "      <th>16416</th>\n",
       "      <td>Wols</td>\n",
       "      <td>[no title]</td>\n",
       "      <td>Etching and drypoint on paper</td>\n",
       "      <td>1937</td>\n",
       "      <td>1983.0</td>\n",
       "      <td>203.0</td>\n",
       "      <td>120.0</td>\n",
       "      <td>mm</td>\n",
       "      <td>24360.0</td>\n",
       "    </tr>\n",
       "    <tr>\n",
       "      <th>16417</th>\n",
       "      <td>Wols</td>\n",
       "      <td>[no title]</td>\n",
       "      <td>Etching on paper</td>\n",
       "      <td>1937</td>\n",
       "      <td>1983.0</td>\n",
       "      <td>130.0</td>\n",
       "      <td>79.0</td>\n",
       "      <td>mm</td>\n",
       "      <td>10270.0</td>\n",
       "    </tr>\n",
       "    <tr>\n",
       "      <th>16418</th>\n",
       "      <td>Wols</td>\n",
       "      <td>[no title]</td>\n",
       "      <td>Etching and drypoint on paper</td>\n",
       "      <td>1937</td>\n",
       "      <td>1983.0</td>\n",
       "      <td>124.0</td>\n",
       "      <td>98.0</td>\n",
       "      <td>mm</td>\n",
       "      <td>12152.0</td>\n",
       "    </tr>\n",
       "  </tbody>\n",
       "</table>\n",
       "</div>"
      ],
      "text/plain": [
       "      artist       title                         medium  year  \\\n",
       "id                                                              \n",
       "16412   Wols  [no title]               Etching on paper  1937   \n",
       "16413   Wols  [no title]  Etching and drypoint on paper  1937   \n",
       "16414   Wols  [no title]  Etching and drypoint on paper  1937   \n",
       "16415   Wols  [no title]  Etching and drypoint on paper  1937   \n",
       "16416   Wols  [no title]  Etching and drypoint on paper  1937   \n",
       "16417   Wols  [no title]               Etching on paper  1937   \n",
       "16418   Wols  [no title]  Etching and drypoint on paper  1937   \n",
       "\n",
       "       acquisitionYear  width  height units     area  \n",
       "id                                                    \n",
       "16412           1983.0  130.0    80.0    mm  10400.0  \n",
       "16413           1983.0  187.0   102.0    mm  19074.0  \n",
       "16414           1983.0  248.0   168.0    mm  41664.0  \n",
       "16415           1983.0  149.0   102.0    mm  15198.0  \n",
       "16416           1983.0  203.0   120.0    mm  24360.0  \n",
       "16417           1983.0  130.0    79.0    mm  10270.0  \n",
       "16418           1983.0  124.0    98.0    mm  12152.0  "
      ]
     },
     "execution_count": 192,
     "metadata": {},
     "output_type": "execute_result"
    }
   ],
   "source": [
    "df_small.head(7)"
   ]
  },
  {
   "cell_type": "code",
   "execution_count": 194,
   "id": "54c25be2-9f93-46f0-84e3-68c48819bf4a",
   "metadata": {},
   "outputs": [],
   "source": [
    "# USign Builtin to get min acq year\n",
    "grouped_acq_year = df_small.groupby('artist')['acquisitionYear']"
   ]
  },
  {
   "cell_type": "code",
   "execution_count": 195,
   "id": "2a365f48-3bad-4f68-a967-b291f1abf019",
   "metadata": {},
   "outputs": [],
   "source": [
    "min_acq_years = grouped_acq_year.agg(np.min)"
   ]
  },
  {
   "cell_type": "code",
   "execution_count": 196,
   "id": "fd2f05a8-e266-490e-b445-cabde6c7204c",
   "metadata": {},
   "outputs": [
    {
     "data": {
      "text/plain": [
       "artist\n",
       "Frost, Sir Terry     1983.0\n",
       "Phillips, Esq Tom    1983.0\n",
       "Wols                 1983.0\n",
       "Name: acquisitionYear, dtype: float64"
      ]
     },
     "execution_count": 196,
     "metadata": {},
     "output_type": "execute_result"
    }
   ],
   "source": [
    "min_acq_years.head(10)"
   ]
  },
  {
   "cell_type": "code",
   "execution_count": 197,
   "id": "4bf0172d-9f22-47d1-9839-62419ce4ce83",
   "metadata": {},
   "outputs": [
    {
     "data": {
      "text/plain": [
       "artist\n",
       "Frost, Sir Terry     1983.0\n",
       "Phillips, Esq Tom    1983.0\n",
       "Wols                 1983.0\n",
       "Name: acquisitionYear, dtype: float64"
      ]
     },
     "execution_count": 197,
     "metadata": {},
     "output_type": "execute_result"
    }
   ],
   "source": [
    "min_2_acq_years = grouped_acq_year.min()\n",
    "min_2_acq_years.head()"
   ]
  },
  {
   "cell_type": "code",
   "execution_count": 200,
   "id": "ca19e2b5-b0c5-4a31-b927-b8267f1caac2",
   "metadata": {},
   "outputs": [],
   "source": [
    "grouped_titles = df_artworks.groupby('title')\n",
    "condition = lambda x: len(x.index) > 1"
   ]
  },
  {
   "cell_type": "code",
   "execution_count": 201,
   "id": "af8968b4-42ef-4afa-a7e4-cd40a50a301c",
   "metadata": {},
   "outputs": [],
   "source": [
    "filtered_df = grouped_titles.filter(condition)"
   ]
  },
  {
   "cell_type": "code",
   "execution_count": 204,
   "id": "3e5e469d-e37e-4c26-8637-f091b05fb936",
   "metadata": {},
   "outputs": [
    {
     "data": {
      "text/plain": [
       "12884"
      ]
     },
     "execution_count": 204,
     "metadata": {},
     "output_type": "execute_result"
    }
   ],
   "source": [
    "len(filtered_df.value_counts())"
   ]
  },
  {
   "cell_type": "code",
   "execution_count": 205,
   "id": "b290b9ea-ca1d-43e8-830e-d558b674aa97",
   "metadata": {},
   "outputs": [
    {
     "data": {
      "text/plain": [
       "69201"
      ]
     },
     "execution_count": 205,
     "metadata": {},
     "output_type": "execute_result"
    }
   ],
   "source": [
    "len(df_artworks)"
   ]
  },
  {
   "cell_type": "code",
   "execution_count": 206,
   "id": "30b4ecf6-f38c-432c-afaa-fa07e5f641ad",
   "metadata": {},
   "outputs": [],
   "source": [
    "# Working with DATABASES\n",
    "import sqlite3"
   ]
  },
  {
   "cell_type": "code",
   "execution_count": 207,
   "id": "b2ba4ee8-e175-48cc-b92d-003e78362347",
   "metadata": {},
   "outputs": [],
   "source": [
    "with sqlite3.connect(\"artworks.db\") as conn:\n",
    "    df_small.to_sql('Tate', conn)\n",
    "    "
   ]
  },
  {
   "cell_type": "code",
   "execution_count": 208,
   "id": "289e85ab-45e1-44dd-91b5-f2a7020103ef",
   "metadata": {},
   "outputs": [
    {
     "data": {
      "text/plain": [
       "'1.5.3'"
      ]
     },
     "execution_count": 208,
     "metadata": {},
     "output_type": "execute_result"
    }
   ],
   "source": []
  },
  {
   "cell_type": "code",
   "execution_count": null,
   "id": "22e6ff03-ca6e-4e25-9e2e-e06b4ccdfa21",
   "metadata": {},
   "outputs": [],
   "source": []
  }
 ],
 "metadata": {
  "kernelspec": {
   "display_name": "Python 3 (ipykernel)",
   "language": "python",
   "name": "python3"
  },
  "language_info": {
   "codemirror_mode": {
    "name": "ipython",
    "version": 3
   },
   "file_extension": ".py",
   "mimetype": "text/x-python",
   "name": "python",
   "nbconvert_exporter": "python",
   "pygments_lexer": "ipython3",
   "version": "3.11.4"
  }
 },
 "nbformat": 4,
 "nbformat_minor": 5
}
