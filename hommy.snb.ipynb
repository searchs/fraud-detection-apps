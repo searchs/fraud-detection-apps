{
  "metadata" : {
    "id" : "073019f1-194e-4abf-9090-53c911cdef1f",
    "name" : "hommy",
    "user_save_timestamp" : "1970-01-01T01:00:00.000Z",
    "auto_save_timestamp" : "1970-01-01T01:00:00.000Z",
    "language_info" : {
      "name" : "scala",
      "file_extension" : "scala",
      "codemirror_mode" : "text/x-scala"
    },
    "trusted" : true,
    "sparkNotebook" : null,
    "customLocalRepo" : null,
    "customRepos" : null,
    "customDeps" : null,
    "customImports" : null,
    "customArgs" : null,
    "customSparkConf" : null,
    "customVars" : null
  },
  "cells" : [ {
    "metadata" : {
      "id" : "289F16D9C18D49FB89E7D351802EF62B"
    },
    "cell_type" : "markdown",
    "source" : "## Ramping Up Sparks"
  }, {
    "metadata" : {
      "trusted" : true,
      "input_collapsed" : false,
      "collapsed" : false,
      "id" : "B2ED4B57129E418D82554127CF29124B"
    },
    "cell_type" : "code",
    "source" : [ "import org.apache.spark.sql.SparkSession\n", "import org.apache.spark.sql.functions._\n", "\n", "import spark.implicits._" ],
    "outputs" : [ {
      "name" : "stdout",
      "output_type" : "stream",
      "text" : "import org.apache.spark.sql.SparkSession\nimport org.apache.spark.sql.functions._\nimport spark.implicits._\n"
    }, {
      "metadata" : { },
      "data" : {
        "text/html" : ""
      },
      "output_type" : "execute_result",
      "execution_count" : 3,
      "time" : "Took: 2.134s, at 2018-06-21 14:55"
    } ]
  }, {
    "metadata" : {
      "trusted" : true,
      "input_collapsed" : false,
      "collapsed" : false,
      "id" : "60235332FD59434BAD4AD490F0AFCA9F"
    },
    "cell_type" : "code",
    "source" : [ "val spark = SparkSession.builder().appName(\"houseprices\").getOrCreate()" ],
    "outputs" : [ {
      "name" : "stdout",
      "output_type" : "stream",
      "text" : "spark: org.apache.spark.sql.SparkSession = org.apache.spark.sql.SparkSession@7abd985\n"
    }, {
      "metadata" : { },
      "data" : {
        "text/html" : ""
      },
      "output_type" : "execute_result",
      "execution_count" : 3,
      "time" : "Took: 3.051s, at 2018-06-21 14:07"
    } ]
  }, {
    "metadata" : {
      "trusted" : true,
      "input_collapsed" : false,
      "collapsed" : false,
      "id" : "262C740BB2E64C7581026105902DF95A"
    },
    "cell_type" : "code",
    "source" : [ "val df = spark.read.option(\"header\", true).option(\"inferSchema\", true).csv(\"data/train.csv\")" ],
    "outputs" : [ {
      "name" : "stdout",
      "output_type" : "stream",
      "text" : "df: org.apache.spark.sql.DataFrame = [Id: int, MSSubClass: int ... 79 more fields]\n"
    }, {
      "metadata" : { },
      "data" : {
        "text/html" : ""
      },
      "output_type" : "execute_result",
      "execution_count" : 4,
      "time" : "Took: 1.821s, at 2018-06-21 14:21"
    } ]
  }, {
    "metadata" : {
      "trusted" : true,
      "input_collapsed" : false,
      "collapsed" : false,
      "presentation" : {
        "tabs_state" : "{\n  \"tab_id\": \"#tab7304893-0\"\n}",
        "pivot_chart_state" : "{\n  \"hiddenAttributes\": [],\n  \"menuLimit\": 200,\n  \"cols\": [],\n  \"rows\": [],\n  \"vals\": [],\n  \"exclusions\": {},\n  \"inclusions\": {},\n  \"unusedAttrsVertical\": 85,\n  \"autoSortUnusedAttrs\": false,\n  \"inclusionsInfo\": {},\n  \"aggregatorName\": \"Count\",\n  \"rendererName\": \"Table\"\n}"
      },
      "id" : "A08B7810656B4BC79572638AA9280C4A"
    },
    "cell_type" : "code",
    "source" : [ "df.head(3)" ],
    "outputs" : [ {
      "name" : "stdout",
      "output_type" : "stream",
      "text" : "res71: Array[org.apache.spark.sql.Row] = Array([1,60,RL,65,8450,Pave,NA,Reg,Lvl,AllPub,Inside,Gtl,CollgCr,Norm,Norm,1Fam,2Story,7,5,2003,2003,Gable,CompShg,VinylSd,VinylSd,BrkFace,196,Gd,TA,PConc,Gd,TA,No,GLQ,706,Unf,0,150,856,GasA,Ex,Y,SBrkr,856,854,0,1710,1,0,2,1,3,1,Gd,8,Typ,0,NA,Attchd,2003,RFn,2,548,TA,TA,Y,0,61,0,0,0,0,NA,NA,NA,0,2,2008,WD,Normal,208500], [2,20,RL,80,9600,Pave,NA,Reg,Lvl,AllPub,FR2,Gtl,Veenker,Feedr,Norm,1Fam,1Story,6,8,1976,1976,Gable,CompShg,MetalSd,MetalSd,None,0,TA,TA,CBlock,Gd,TA,Gd,ALQ,978,Unf,0,284,1262,GasA,Ex,Y,SBrkr,1262,0,0,1262,0,1,2,0,3,1,TA,6,Typ,1,TA,Attchd,1976,RFn,2,460,TA,TA,Y,298,0,0,0,0,0,NA,NA,NA,0,5,2007,WD,Normal,181500], [3,60,RL,68,11250,Pave,NA,IR1,Lvl,AllPub,Inside,Gtl,CollgCr,Norm,Norm,1Fam,2Story,7,5,2001,2002,Gable,CompShg,VinylSd,Vin..."
    }, {
      "metadata" : { },
      "data" : {
        "text/html" : "<div>\n      <script data-this=\"{&quot;dataId&quot;:&quot;anon3349824c7086531f44127db17e04f2d4&quot;,&quot;dataInit&quot;:[],&quot;genId&quot;:&quot;7304893&quot;}\" type=\"text/x-scoped-javascript\">/*<![CDATA[*/req(['../javascripts/notebook/playground','../javascripts/notebook/magic/tabs'], \n      function(playground, _magictabs) {\n        // data ==> data-this (in observable.js's scopedEval) ==> this in JS => { dataId, dataInit, ... }\n        // this ==> scope (in observable.js's scopedEval) ==> this.parentElement ==> div.container below (toHtml)\n\n        playground.call(data,\n                        this\n                        ,\n                        {\n    \"f\": _magictabs,\n    \"o\": {}\n  }\n  \n                        \n                        \n                      );\n      }\n    );/*]]>*/</script>\n    <div>\n      <div>\n        <ul class=\"nav nav-tabs\" id=\"ul7304893\"><li>\n              <a href=\"#tab7304893-0\"><i class=\"fa fa-table\"/></a>\n            </li><li>\n              <a href=\"#tab7304893-1\"><i class=\"fa fa-cubes\"/></a>\n            </li></ul>\n\n        <div class=\"tab-content\" id=\"tab7304893\"><div class=\"tab-pane\" id=\"tab7304893-0\">\n            <div>\n      <script data-this=\"{&quot;dataId&quot;:&quot;anon9a261a924b5a7f4243d2e02a10ef0d40&quot;,&quot;dataInit&quot;:[{&quot;PoolArea&quot;:0,&quot;Id&quot;:1,&quot;LotConfig&quot;:&quot;Inside&quot;,&quot;BsmtExposure&quot;:&quot;No&quot;,&quot;MoSold&quot;:2,&quot;EnclosedPorch&quot;:0,&quot;2ndFlrSF&quot;:854,&quot;LotShape&quot;:&quot;Reg&quot;,&quot;FullBath&quot;:2,&quot;BsmtQual&quot;:&quot;Gd&quot;,&quot;Exterior2nd&quot;:&quot;VinylSd&quot;,&quot;RoofStyle&quot;:&quot;Gable&quot;,&quot;LandContour&quot;:&quot;Lvl&quot;,&quot;Condition1&quot;:&quot;Norm&quot;,&quot;ExterQual&quot;:&quot;Gd&quot;,&quot;LowQualFinSF&quot;:0,&quot;HalfBath&quot;:1,&quot;FireplaceQu&quot;:&quot;NA&quot;,&quot;ScreenPorch&quot;:0,&quot;GarageArea&quot;:548,&quot;Fence&quot;:&quot;NA&quot;,&quot;KitchenQual&quot;:&quot;Gd&quot;,&quot;BsmtFinType2&quot;:&quot;Unf&quot;,&quot;MasVnrArea&quot;:&quot;196&quot;,&quot;Electrical&quot;:&quot;SBrkr&quot;,&quot;GarageQual&quot;:&quot;TA&quot;,&quot;YearRemodAdd&quot;:2003,&quot;BedroomAbvGr&quot;:3,&quot;GrLivArea&quot;:1710,&quot;BsmtCond&quot;:&quot;TA&quot;,&quot;MSZoning&quot;:&quot;RL&quot;,&quot;LotArea&quot;:8450,&quot;LotFrontage&quot;:&quot;65&quot;,&quot;PoolQC&quot;:&quot;NA&quot;,&quot;BsmtUnfSF&quot;:150,&quot;GarageCars&quot;:2,&quot;Exterior1st&quot;:&quot;VinylSd&quot;,&quot;OpenPorchSF&quot;:61,&quot;RoofMatl&quot;:&quot;CompShg&quot;,&quot;Condition2&quot;:&quot;Norm&quot;,&quot;Alley&quot;:&quot;NA&quot;,&quot;YearBuilt&quot;:2003,&quot;GarageType&quot;:&quot;Attchd&quot;,&quot;Heating&quot;:&quot;GasA&quot;,&quot;LandSlope&quot;:&quot;Gtl&quot;,&quot;SalePrice&quot;:208500,&quot;HouseStyle&quot;:&quot;2Story&quot;,&quot;HeatingQC&quot;:&quot;Ex&quot;,&quot;Street&quot;:&quot;Pave&quot;,&quot;PavedDrive&quot;:&quot;Y&quot;,&quot;GarageYrBlt&quot;:&quot;2003&quot;,&quot;YrSold&quot;:2008,&quot;KitchenAbvGr&quot;:1,&quot;1stFlrSF&quot;:856,&quot;SaleCondition&quot;:&quot;Normal&quot;,&quot;SaleType&quot;:&quot;WD&quot;,&quot;TotRmsAbvGrd&quot;:8,&quot;MiscVal&quot;:0,&quot;BsmtFinSF2&quot;:0,&quot;Utilities&quot;:&quot;AllPub&quot;,&quot;BsmtHalfBath&quot;:0,&quot;OverallQual&quot;:7,&quot;Foundation&quot;:&quot;PConc&quot;,&quot;MSSubClass&quot;:60,&quot;Neighborhood&quot;:&quot;CollgCr&quot;,&quot;Functional&quot;:&quot;Typ&quot;,&quot;WoodDeckSF&quot;:0,&quot;BsmtFinType1&quot;:&quot;GLQ&quot;,&quot;OverallCond&quot;:5,&quot;BldgType&quot;:&quot;1Fam&quot;,&quot;TotalBsmtSF&quot;:856,&quot;Fireplaces&quot;:0,&quot;CentralAir&quot;:&quot;Y&quot;,&quot;MasVnrType&quot;:&quot;BrkFace&quot;,&quot;GarageCond&quot;:&quot;TA&quot;,&quot;ExterCond&quot;:&quot;TA&quot;,&quot;BsmtFullBath&quot;:1,&quot;GarageFinish&quot;:&quot;RFn&quot;,&quot;BsmtFinSF1&quot;:706,&quot;3SsnPorch&quot;:0,&quot;MiscFeature&quot;:&quot;NA&quot;},{&quot;PoolArea&quot;:0,&quot;Id&quot;:2,&quot;LotConfig&quot;:&quot;FR2&quot;,&quot;BsmtExposure&quot;:&quot;Gd&quot;,&quot;MoSold&quot;:5,&quot;EnclosedPorch&quot;:0,&quot;2ndFlrSF&quot;:0,&quot;LotShape&quot;:&quot;Reg&quot;,&quot;FullBath&quot;:2,&quot;BsmtQual&quot;:&quot;Gd&quot;,&quot;Exterior2nd&quot;:&quot;MetalSd&quot;,&quot;RoofStyle&quot;:&quot;Gable&quot;,&quot;LandContour&quot;:&quot;Lvl&quot;,&quot;Condition1&quot;:&quot;Feedr&quot;,&quot;ExterQual&quot;:&quot;TA&quot;,&quot;LowQualFinSF&quot;:0,&quot;HalfBath&quot;:0,&quot;FireplaceQu&quot;:&quot;TA&quot;,&quot;ScreenPorch&quot;:0,&quot;GarageArea&quot;:460,&quot;Fence&quot;:&quot;NA&quot;,&quot;KitchenQual&quot;:&quot;TA&quot;,&quot;BsmtFinType2&quot;:&quot;Unf&quot;,&quot;MasVnrArea&quot;:&quot;0&quot;,&quot;Electrical&quot;:&quot;SBrkr&quot;,&quot;GarageQual&quot;:&quot;TA&quot;,&quot;YearRemodAdd&quot;:1976,&quot;BedroomAbvGr&quot;:3,&quot;GrLivArea&quot;:1262,&quot;BsmtCond&quot;:&quot;TA&quot;,&quot;MSZoning&quot;:&quot;RL&quot;,&quot;LotArea&quot;:9600,&quot;LotFrontage&quot;:&quot;80&quot;,&quot;PoolQC&quot;:&quot;NA&quot;,&quot;BsmtUnfSF&quot;:284,&quot;GarageCars&quot;:2,&quot;Exterior1st&quot;:&quot;MetalSd&quot;,&quot;OpenPorchSF&quot;:0,&quot;RoofMatl&quot;:&quot;CompShg&quot;,&quot;Condition2&quot;:&quot;Norm&quot;,&quot;Alley&quot;:&quot;NA&quot;,&quot;YearBuilt&quot;:1976,&quot;GarageType&quot;:&quot;Attchd&quot;,&quot;Heating&quot;:&quot;GasA&quot;,&quot;LandSlope&quot;:&quot;Gtl&quot;,&quot;SalePrice&quot;:181500,&quot;HouseStyle&quot;:&quot;1Story&quot;,&quot;HeatingQC&quot;:&quot;Ex&quot;,&quot;Street&quot;:&quot;Pave&quot;,&quot;PavedDrive&quot;:&quot;Y&quot;,&quot;GarageYrBlt&quot;:&quot;1976&quot;,&quot;YrSold&quot;:2007,&quot;KitchenAbvGr&quot;:1,&quot;1stFlrSF&quot;:1262,&quot;SaleCondition&quot;:&quot;Normal&quot;,&quot;SaleType&quot;:&quot;WD&quot;,&quot;TotRmsAbvGrd&quot;:6,&quot;MiscVal&quot;:0,&quot;BsmtFinSF2&quot;:0,&quot;Utilities&quot;:&quot;AllPub&quot;,&quot;BsmtHalfBath&quot;:1,&quot;OverallQual&quot;:6,&quot;Foundation&quot;:&quot;CBlock&quot;,&quot;MSSubClass&quot;:20,&quot;Neighborhood&quot;:&quot;Veenker&quot;,&quot;Functional&quot;:&quot;Typ&quot;,&quot;WoodDeckSF&quot;:298,&quot;BsmtFinType1&quot;:&quot;ALQ&quot;,&quot;OverallCond&quot;:8,&quot;BldgType&quot;:&quot;1Fam&quot;,&quot;TotalBsmtSF&quot;:1262,&quot;Fireplaces&quot;:1,&quot;CentralAir&quot;:&quot;Y&quot;,&quot;MasVnrType&quot;:&quot;None&quot;,&quot;GarageCond&quot;:&quot;TA&quot;,&quot;ExterCond&quot;:&quot;TA&quot;,&quot;BsmtFullBath&quot;:0,&quot;GarageFinish&quot;:&quot;RFn&quot;,&quot;BsmtFinSF1&quot;:978,&quot;3SsnPorch&quot;:0,&quot;MiscFeature&quot;:&quot;NA&quot;},{&quot;PoolArea&quot;:0,&quot;Id&quot;:3,&quot;LotConfig&quot;:&quot;Inside&quot;,&quot;BsmtExposure&quot;:&quot;Mn&quot;,&quot;MoSold&quot;:9,&quot;EnclosedPorch&quot;:0,&quot;2ndFlrSF&quot;:866,&quot;LotShape&quot;:&quot;IR1&quot;,&quot;FullBath&quot;:2,&quot;BsmtQual&quot;:&quot;Gd&quot;,&quot;Exterior2nd&quot;:&quot;VinylSd&quot;,&quot;RoofStyle&quot;:&quot;Gable&quot;,&quot;LandContour&quot;:&quot;Lvl&quot;,&quot;Condition1&quot;:&quot;Norm&quot;,&quot;ExterQual&quot;:&quot;Gd&quot;,&quot;LowQualFinSF&quot;:0,&quot;HalfBath&quot;:1,&quot;FireplaceQu&quot;:&quot;TA&quot;,&quot;ScreenPorch&quot;:0,&quot;GarageArea&quot;:608,&quot;Fence&quot;:&quot;NA&quot;,&quot;KitchenQual&quot;:&quot;Gd&quot;,&quot;BsmtFinType2&quot;:&quot;Unf&quot;,&quot;MasVnrArea&quot;:&quot;162&quot;,&quot;Electrical&quot;:&quot;SBrkr&quot;,&quot;GarageQual&quot;:&quot;TA&quot;,&quot;YearRemodAdd&quot;:2002,&quot;BedroomAbvGr&quot;:3,&quot;GrLivArea&quot;:1786,&quot;BsmtCond&quot;:&quot;TA&quot;,&quot;MSZoning&quot;:&quot;RL&quot;,&quot;LotArea&quot;:11250,&quot;LotFrontage&quot;:&quot;68&quot;,&quot;PoolQC&quot;:&quot;NA&quot;,&quot;BsmtUnfSF&quot;:434,&quot;GarageCars&quot;:2,&quot;Exterior1st&quot;:&quot;VinylSd&quot;,&quot;OpenPorchSF&quot;:42,&quot;RoofMatl&quot;:&quot;CompShg&quot;,&quot;Condition2&quot;:&quot;Norm&quot;,&quot;Alley&quot;:&quot;NA&quot;,&quot;YearBuilt&quot;:2001,&quot;GarageType&quot;:&quot;Attchd&quot;,&quot;Heating&quot;:&quot;GasA&quot;,&quot;LandSlope&quot;:&quot;Gtl&quot;,&quot;SalePrice&quot;:223500,&quot;HouseStyle&quot;:&quot;2Story&quot;,&quot;HeatingQC&quot;:&quot;Ex&quot;,&quot;Street&quot;:&quot;Pave&quot;,&quot;PavedDrive&quot;:&quot;Y&quot;,&quot;GarageYrBlt&quot;:&quot;2001&quot;,&quot;YrSold&quot;:2008,&quot;KitchenAbvGr&quot;:1,&quot;1stFlrSF&quot;:920,&quot;SaleCondition&quot;:&quot;Normal&quot;,&quot;SaleType&quot;:&quot;WD&quot;,&quot;TotRmsAbvGrd&quot;:6,&quot;MiscVal&quot;:0,&quot;BsmtFinSF2&quot;:0,&quot;Utilities&quot;:&quot;AllPub&quot;,&quot;BsmtHalfBath&quot;:0,&quot;OverallQual&quot;:7,&quot;Foundation&quot;:&quot;PConc&quot;,&quot;MSSubClass&quot;:60,&quot;Neighborhood&quot;:&quot;CollgCr&quot;,&quot;Functional&quot;:&quot;Typ&quot;,&quot;WoodDeckSF&quot;:0,&quot;BsmtFinType1&quot;:&quot;GLQ&quot;,&quot;OverallCond&quot;:5,&quot;BldgType&quot;:&quot;1Fam&quot;,&quot;TotalBsmtSF&quot;:920,&quot;Fireplaces&quot;:1,&quot;CentralAir&quot;:&quot;Y&quot;,&quot;MasVnrType&quot;:&quot;BrkFace&quot;,&quot;GarageCond&quot;:&quot;TA&quot;,&quot;ExterCond&quot;:&quot;TA&quot;,&quot;BsmtFullBath&quot;:1,&quot;GarageFinish&quot;:&quot;RFn&quot;,&quot;BsmtFinSF1&quot;:486,&quot;3SsnPorch&quot;:0,&quot;MiscFeature&quot;:&quot;NA&quot;}],&quot;genId&quot;:&quot;857073094&quot;}\" type=\"text/x-scoped-javascript\">/*<![CDATA[*/req(['../javascripts/notebook/playground','../javascripts/notebook/magic/tableChart'], \n      function(playground, _magictableChart) {\n        // data ==> data-this (in observable.js's scopedEval) ==> this in JS => { dataId, dataInit, ... }\n        // this ==> scope (in observable.js's scopedEval) ==> this.parentElement ==> div.container below (toHtml)\n\n        playground.call(data,\n                        this\n                        ,\n                        {\n    \"f\": _magictableChart,\n    \"o\": {\"headers\":[\"Id\",\"MSSubClass\",\"MSZoning\",\"LotFrontage\",\"LotArea\",\"Street\",\"Alley\",\"LotShape\",\"LandContour\",\"Utilities\",\"LotConfig\",\"LandSlope\",\"Neighborhood\",\"Condition1\",\"Condition2\",\"BldgType\",\"HouseStyle\",\"OverallQual\",\"OverallCond\",\"YearBuilt\",\"YearRemodAdd\",\"RoofStyle\",\"RoofMatl\",\"Exterior1st\",\"Exterior2nd\",\"MasVnrType\",\"MasVnrArea\",\"ExterQual\",\"ExterCond\",\"Foundation\",\"BsmtQual\",\"BsmtCond\",\"BsmtExposure\",\"BsmtFinType1\",\"BsmtFinSF1\",\"BsmtFinType2\",\"BsmtFinSF2\",\"BsmtUnfSF\",\"TotalBsmtSF\",\"Heating\",\"HeatingQC\",\"CentralAir\",\"Electrical\",\"1stFlrSF\",\"2ndFlrSF\",\"LowQualFinSF\",\"GrLivArea\",\"BsmtFullBath\",\"BsmtHalfBath\",\"FullBath\",\"HalfBath\",\"BedroomAbvGr\",\"KitchenAbvGr\",\"KitchenQual\",\"TotRmsAbvGrd\",\"Functional\",\"Fireplaces\",\"FireplaceQu\",\"GarageType\",\"GarageYrBlt\",\"GarageFinish\",\"GarageCars\",\"GarageArea\",\"GarageQual\",\"GarageCond\",\"PavedDrive\",\"WoodDeckSF\",\"OpenPorchSF\",\"EnclosedPorch\",\"3SsnPorch\",\"ScreenPorch\",\"PoolArea\",\"PoolQC\",\"Fence\",\"MiscFeature\",\"MiscVal\",\"MoSold\",\"YrSold\",\"SaleType\",\"SaleCondition\",\"SalePrice\"],\"width\":600,\"height\":400}\n  }\n  \n                        \n                        \n                      );\n      }\n    );/*]]>*/</script>\n    <div>\n      <span class=\"chart-total-item-count\"><p data-bind=\"text: value\"><script data-this=\"{&quot;valueId&quot;:&quot;anon10bc1d8408b1430de785b0126adca5dc&quot;,&quot;initialValue&quot;:&quot;3&quot;}\" type=\"text/x-scoped-javascript\">/*<![CDATA[*/\nreq(\n['observable', 'knockout'],\nfunction (O, ko) {\n  ko.applyBindings({\n      value: O.makeObservable(valueId, initialValue)\n    },\n    this\n  );\n});\n        /*]]>*/</script></p> entries total</span>\n      <span class=\"chart-sampling-warning\"><p data-bind=\"text: value\"><script data-this=\"{&quot;valueId&quot;:&quot;anon0929bd9b4d65efefba108666ecb968b9&quot;,&quot;initialValue&quot;:&quot;&quot;}\" type=\"text/x-scoped-javascript\">/*<![CDATA[*/\nreq(\n['observable', 'knockout'],\nfunction (O, ko) {\n  ko.applyBindings({\n      value: O.makeObservable(valueId, initialValue)\n    },\n    this\n  );\n});\n        /*]]>*/</script></p></span>\n      <div>\n      </div>\n    </div></div>\n            </div><div class=\"tab-pane\" id=\"tab7304893-1\">\n            <div>\n      <script data-this=\"{&quot;dataId&quot;:&quot;anonf52f4e7382b4eab649612425815d33cd&quot;,&quot;dataInit&quot;:[{&quot;PoolArea&quot;:0,&quot;Id&quot;:1,&quot;LotConfig&quot;:&quot;Inside&quot;,&quot;BsmtExposure&quot;:&quot;No&quot;,&quot;MoSold&quot;:2,&quot;EnclosedPorch&quot;:0,&quot;2ndFlrSF&quot;:854,&quot;LotShape&quot;:&quot;Reg&quot;,&quot;FullBath&quot;:2,&quot;BsmtQual&quot;:&quot;Gd&quot;,&quot;Exterior2nd&quot;:&quot;VinylSd&quot;,&quot;RoofStyle&quot;:&quot;Gable&quot;,&quot;LandContour&quot;:&quot;Lvl&quot;,&quot;Condition1&quot;:&quot;Norm&quot;,&quot;ExterQual&quot;:&quot;Gd&quot;,&quot;LowQualFinSF&quot;:0,&quot;HalfBath&quot;:1,&quot;FireplaceQu&quot;:&quot;NA&quot;,&quot;ScreenPorch&quot;:0,&quot;GarageArea&quot;:548,&quot;Fence&quot;:&quot;NA&quot;,&quot;KitchenQual&quot;:&quot;Gd&quot;,&quot;BsmtFinType2&quot;:&quot;Unf&quot;,&quot;MasVnrArea&quot;:&quot;196&quot;,&quot;Electrical&quot;:&quot;SBrkr&quot;,&quot;GarageQual&quot;:&quot;TA&quot;,&quot;YearRemodAdd&quot;:2003,&quot;BedroomAbvGr&quot;:3,&quot;GrLivArea&quot;:1710,&quot;BsmtCond&quot;:&quot;TA&quot;,&quot;MSZoning&quot;:&quot;RL&quot;,&quot;LotArea&quot;:8450,&quot;LotFrontage&quot;:&quot;65&quot;,&quot;PoolQC&quot;:&quot;NA&quot;,&quot;BsmtUnfSF&quot;:150,&quot;GarageCars&quot;:2,&quot;Exterior1st&quot;:&quot;VinylSd&quot;,&quot;OpenPorchSF&quot;:61,&quot;RoofMatl&quot;:&quot;CompShg&quot;,&quot;Condition2&quot;:&quot;Norm&quot;,&quot;Alley&quot;:&quot;NA&quot;,&quot;YearBuilt&quot;:2003,&quot;GarageType&quot;:&quot;Attchd&quot;,&quot;Heating&quot;:&quot;GasA&quot;,&quot;LandSlope&quot;:&quot;Gtl&quot;,&quot;SalePrice&quot;:208500,&quot;HouseStyle&quot;:&quot;2Story&quot;,&quot;HeatingQC&quot;:&quot;Ex&quot;,&quot;Street&quot;:&quot;Pave&quot;,&quot;PavedDrive&quot;:&quot;Y&quot;,&quot;GarageYrBlt&quot;:&quot;2003&quot;,&quot;YrSold&quot;:2008,&quot;KitchenAbvGr&quot;:1,&quot;1stFlrSF&quot;:856,&quot;SaleCondition&quot;:&quot;Normal&quot;,&quot;SaleType&quot;:&quot;WD&quot;,&quot;TotRmsAbvGrd&quot;:8,&quot;MiscVal&quot;:0,&quot;BsmtFinSF2&quot;:0,&quot;Utilities&quot;:&quot;AllPub&quot;,&quot;BsmtHalfBath&quot;:0,&quot;OverallQual&quot;:7,&quot;Foundation&quot;:&quot;PConc&quot;,&quot;MSSubClass&quot;:60,&quot;Neighborhood&quot;:&quot;CollgCr&quot;,&quot;Functional&quot;:&quot;Typ&quot;,&quot;WoodDeckSF&quot;:0,&quot;BsmtFinType1&quot;:&quot;GLQ&quot;,&quot;OverallCond&quot;:5,&quot;BldgType&quot;:&quot;1Fam&quot;,&quot;TotalBsmtSF&quot;:856,&quot;Fireplaces&quot;:0,&quot;CentralAir&quot;:&quot;Y&quot;,&quot;MasVnrType&quot;:&quot;BrkFace&quot;,&quot;GarageCond&quot;:&quot;TA&quot;,&quot;ExterCond&quot;:&quot;TA&quot;,&quot;BsmtFullBath&quot;:1,&quot;GarageFinish&quot;:&quot;RFn&quot;,&quot;BsmtFinSF1&quot;:706,&quot;3SsnPorch&quot;:0,&quot;MiscFeature&quot;:&quot;NA&quot;},{&quot;PoolArea&quot;:0,&quot;Id&quot;:2,&quot;LotConfig&quot;:&quot;FR2&quot;,&quot;BsmtExposure&quot;:&quot;Gd&quot;,&quot;MoSold&quot;:5,&quot;EnclosedPorch&quot;:0,&quot;2ndFlrSF&quot;:0,&quot;LotShape&quot;:&quot;Reg&quot;,&quot;FullBath&quot;:2,&quot;BsmtQual&quot;:&quot;Gd&quot;,&quot;Exterior2nd&quot;:&quot;MetalSd&quot;,&quot;RoofStyle&quot;:&quot;Gable&quot;,&quot;LandContour&quot;:&quot;Lvl&quot;,&quot;Condition1&quot;:&quot;Feedr&quot;,&quot;ExterQual&quot;:&quot;TA&quot;,&quot;LowQualFinSF&quot;:0,&quot;HalfBath&quot;:0,&quot;FireplaceQu&quot;:&quot;TA&quot;,&quot;ScreenPorch&quot;:0,&quot;GarageArea&quot;:460,&quot;Fence&quot;:&quot;NA&quot;,&quot;KitchenQual&quot;:&quot;TA&quot;,&quot;BsmtFinType2&quot;:&quot;Unf&quot;,&quot;MasVnrArea&quot;:&quot;0&quot;,&quot;Electrical&quot;:&quot;SBrkr&quot;,&quot;GarageQual&quot;:&quot;TA&quot;,&quot;YearRemodAdd&quot;:1976,&quot;BedroomAbvGr&quot;:3,&quot;GrLivArea&quot;:1262,&quot;BsmtCond&quot;:&quot;TA&quot;,&quot;MSZoning&quot;:&quot;RL&quot;,&quot;LotArea&quot;:9600,&quot;LotFrontage&quot;:&quot;80&quot;,&quot;PoolQC&quot;:&quot;NA&quot;,&quot;BsmtUnfSF&quot;:284,&quot;GarageCars&quot;:2,&quot;Exterior1st&quot;:&quot;MetalSd&quot;,&quot;OpenPorchSF&quot;:0,&quot;RoofMatl&quot;:&quot;CompShg&quot;,&quot;Condition2&quot;:&quot;Norm&quot;,&quot;Alley&quot;:&quot;NA&quot;,&quot;YearBuilt&quot;:1976,&quot;GarageType&quot;:&quot;Attchd&quot;,&quot;Heating&quot;:&quot;GasA&quot;,&quot;LandSlope&quot;:&quot;Gtl&quot;,&quot;SalePrice&quot;:181500,&quot;HouseStyle&quot;:&quot;1Story&quot;,&quot;HeatingQC&quot;:&quot;Ex&quot;,&quot;Street&quot;:&quot;Pave&quot;,&quot;PavedDrive&quot;:&quot;Y&quot;,&quot;GarageYrBlt&quot;:&quot;1976&quot;,&quot;YrSold&quot;:2007,&quot;KitchenAbvGr&quot;:1,&quot;1stFlrSF&quot;:1262,&quot;SaleCondition&quot;:&quot;Normal&quot;,&quot;SaleType&quot;:&quot;WD&quot;,&quot;TotRmsAbvGrd&quot;:6,&quot;MiscVal&quot;:0,&quot;BsmtFinSF2&quot;:0,&quot;Utilities&quot;:&quot;AllPub&quot;,&quot;BsmtHalfBath&quot;:1,&quot;OverallQual&quot;:6,&quot;Foundation&quot;:&quot;CBlock&quot;,&quot;MSSubClass&quot;:20,&quot;Neighborhood&quot;:&quot;Veenker&quot;,&quot;Functional&quot;:&quot;Typ&quot;,&quot;WoodDeckSF&quot;:298,&quot;BsmtFinType1&quot;:&quot;ALQ&quot;,&quot;OverallCond&quot;:8,&quot;BldgType&quot;:&quot;1Fam&quot;,&quot;TotalBsmtSF&quot;:1262,&quot;Fireplaces&quot;:1,&quot;CentralAir&quot;:&quot;Y&quot;,&quot;MasVnrType&quot;:&quot;None&quot;,&quot;GarageCond&quot;:&quot;TA&quot;,&quot;ExterCond&quot;:&quot;TA&quot;,&quot;BsmtFullBath&quot;:0,&quot;GarageFinish&quot;:&quot;RFn&quot;,&quot;BsmtFinSF1&quot;:978,&quot;3SsnPorch&quot;:0,&quot;MiscFeature&quot;:&quot;NA&quot;},{&quot;PoolArea&quot;:0,&quot;Id&quot;:3,&quot;LotConfig&quot;:&quot;Inside&quot;,&quot;BsmtExposure&quot;:&quot;Mn&quot;,&quot;MoSold&quot;:9,&quot;EnclosedPorch&quot;:0,&quot;2ndFlrSF&quot;:866,&quot;LotShape&quot;:&quot;IR1&quot;,&quot;FullBath&quot;:2,&quot;BsmtQual&quot;:&quot;Gd&quot;,&quot;Exterior2nd&quot;:&quot;VinylSd&quot;,&quot;RoofStyle&quot;:&quot;Gable&quot;,&quot;LandContour&quot;:&quot;Lvl&quot;,&quot;Condition1&quot;:&quot;Norm&quot;,&quot;ExterQual&quot;:&quot;Gd&quot;,&quot;LowQualFinSF&quot;:0,&quot;HalfBath&quot;:1,&quot;FireplaceQu&quot;:&quot;TA&quot;,&quot;ScreenPorch&quot;:0,&quot;GarageArea&quot;:608,&quot;Fence&quot;:&quot;NA&quot;,&quot;KitchenQual&quot;:&quot;Gd&quot;,&quot;BsmtFinType2&quot;:&quot;Unf&quot;,&quot;MasVnrArea&quot;:&quot;162&quot;,&quot;Electrical&quot;:&quot;SBrkr&quot;,&quot;GarageQual&quot;:&quot;TA&quot;,&quot;YearRemodAdd&quot;:2002,&quot;BedroomAbvGr&quot;:3,&quot;GrLivArea&quot;:1786,&quot;BsmtCond&quot;:&quot;TA&quot;,&quot;MSZoning&quot;:&quot;RL&quot;,&quot;LotArea&quot;:11250,&quot;LotFrontage&quot;:&quot;68&quot;,&quot;PoolQC&quot;:&quot;NA&quot;,&quot;BsmtUnfSF&quot;:434,&quot;GarageCars&quot;:2,&quot;Exterior1st&quot;:&quot;VinylSd&quot;,&quot;OpenPorchSF&quot;:42,&quot;RoofMatl&quot;:&quot;CompShg&quot;,&quot;Condition2&quot;:&quot;Norm&quot;,&quot;Alley&quot;:&quot;NA&quot;,&quot;YearBuilt&quot;:2001,&quot;GarageType&quot;:&quot;Attchd&quot;,&quot;Heating&quot;:&quot;GasA&quot;,&quot;LandSlope&quot;:&quot;Gtl&quot;,&quot;SalePrice&quot;:223500,&quot;HouseStyle&quot;:&quot;2Story&quot;,&quot;HeatingQC&quot;:&quot;Ex&quot;,&quot;Street&quot;:&quot;Pave&quot;,&quot;PavedDrive&quot;:&quot;Y&quot;,&quot;GarageYrBlt&quot;:&quot;2001&quot;,&quot;YrSold&quot;:2008,&quot;KitchenAbvGr&quot;:1,&quot;1stFlrSF&quot;:920,&quot;SaleCondition&quot;:&quot;Normal&quot;,&quot;SaleType&quot;:&quot;WD&quot;,&quot;TotRmsAbvGrd&quot;:6,&quot;MiscVal&quot;:0,&quot;BsmtFinSF2&quot;:0,&quot;Utilities&quot;:&quot;AllPub&quot;,&quot;BsmtHalfBath&quot;:0,&quot;OverallQual&quot;:7,&quot;Foundation&quot;:&quot;PConc&quot;,&quot;MSSubClass&quot;:60,&quot;Neighborhood&quot;:&quot;CollgCr&quot;,&quot;Functional&quot;:&quot;Typ&quot;,&quot;WoodDeckSF&quot;:0,&quot;BsmtFinType1&quot;:&quot;GLQ&quot;,&quot;OverallCond&quot;:5,&quot;BldgType&quot;:&quot;1Fam&quot;,&quot;TotalBsmtSF&quot;:920,&quot;Fireplaces&quot;:1,&quot;CentralAir&quot;:&quot;Y&quot;,&quot;MasVnrType&quot;:&quot;BrkFace&quot;,&quot;GarageCond&quot;:&quot;TA&quot;,&quot;ExterCond&quot;:&quot;TA&quot;,&quot;BsmtFullBath&quot;:1,&quot;GarageFinish&quot;:&quot;RFn&quot;,&quot;BsmtFinSF1&quot;:486,&quot;3SsnPorch&quot;:0,&quot;MiscFeature&quot;:&quot;NA&quot;}],&quot;genId&quot;:&quot;2063940861&quot;}\" type=\"text/x-scoped-javascript\">/*<![CDATA[*/req(['../javascripts/notebook/playground','../javascripts/notebook/magic/pivotChart'], \n      function(playground, _magicpivotChart) {\n        // data ==> data-this (in observable.js's scopedEval) ==> this in JS => { dataId, dataInit, ... }\n        // this ==> scope (in observable.js's scopedEval) ==> this.parentElement ==> div.container below (toHtml)\n\n        playground.call(data,\n                        this\n                        ,\n                        {\n    \"f\": _magicpivotChart,\n    \"o\": {\"width\":600,\"height\":400,\"derivedAttributes\":{},\"extraOptions\":{}}\n  }\n  \n                        \n                        \n                      );\n      }\n    );/*]]>*/</script>\n    <div>\n      <span class=\"chart-total-item-count\"><p data-bind=\"text: value\"><script data-this=\"{&quot;valueId&quot;:&quot;anon81535100102243a358486b80ccc90ed4&quot;,&quot;initialValue&quot;:&quot;3&quot;}\" type=\"text/x-scoped-javascript\">/*<![CDATA[*/\nreq(\n['observable', 'knockout'],\nfunction (O, ko) {\n  ko.applyBindings({\n      value: O.makeObservable(valueId, initialValue)\n    },\n    this\n  );\n});\n        /*]]>*/</script></p> entries total</span>\n      <span class=\"chart-sampling-warning\"><p data-bind=\"text: value\"><script data-this=\"{&quot;valueId&quot;:&quot;anon21df579b9e33d88987d4b5d21e36f916&quot;,&quot;initialValue&quot;:&quot;&quot;}\" type=\"text/x-scoped-javascript\">/*<![CDATA[*/\nreq(\n['observable', 'knockout'],\nfunction (O, ko) {\n  ko.applyBindings({\n      value: O.makeObservable(valueId, initialValue)\n    },\n    this\n  );\n});\n        /*]]>*/</script></p></span>\n      <div>\n      </div>\n    </div></div>\n            </div></div>\n      </div>\n    </div></div>"
      },
      "output_type" : "execute_result",
      "execution_count" : 2,
      "time" : "Took: 2.134s, at 2018-06-21 14:55"
    } ]
  }, {
    "metadata" : {
      "trusted" : true,
      "input_collapsed" : false,
      "collapsed" : false,
      "presentation" : {
        "tabs_state" : "{\n  \"tab_id\": \"#tab1155345646-0\"\n}",
        "pivot_chart_state" : "{\n  \"hiddenAttributes\": [],\n  \"menuLimit\": 200,\n  \"cols\": [],\n  \"rows\": [],\n  \"vals\": [],\n  \"exclusions\": {},\n  \"inclusions\": {},\n  \"unusedAttrsVertical\": 85,\n  \"autoSortUnusedAttrs\": false,\n  \"inclusionsInfo\": {},\n  \"aggregatorName\": \"Count\",\n  \"rendererName\": \"Table\"\n}"
      },
      "id" : "A62D3A5700504AD78495A9561484B74C"
    },
    "cell_type" : "code",
    "source" : [ "df.dtypes" ],
    "outputs" : [ {
      "name" : "stdout",
      "output_type" : "stream",
      "text" : "res68: Array[(String, String)] = Array((Id,IntegerType), (MSSubClass,IntegerType), (MSZoning,StringType), (LotFrontage,StringType), (LotArea,IntegerType), (Street,StringType), (Alley,StringType), (LotShape,StringType), (LandContour,StringType), (Utilities,StringType), (LotConfig,StringType), (LandSlope,StringType), (Neighborhood,StringType), (Condition1,StringType), (Condition2,StringType), (BldgType,StringType), (HouseStyle,StringType), (OverallQual,IntegerType), (OverallCond,IntegerType), (YearBuilt,IntegerType), (YearRemodAdd,IntegerType), (RoofStyle,StringType), (RoofMatl,StringType), (Exterior1st,StringType), (Exterior2nd,StringType), (MasVnrType,StringType), (MasVnrArea,StringType), (ExterQual,StringType), (ExterCond,StringType), (Foundation,StringType), (BsmtQual,StringType), (Bs..."
    }, {
      "metadata" : { },
      "data" : {
        "text/html" : "<div>\n      <script data-this=\"{&quot;dataId&quot;:&quot;anon4e93f35b9d3e691abcc3949aee859782&quot;,&quot;dataInit&quot;:[],&quot;genId&quot;:&quot;1155345646&quot;}\" type=\"text/x-scoped-javascript\">/*<![CDATA[*/req(['../javascripts/notebook/playground','../javascripts/notebook/magic/tabs'], \n      function(playground, _magictabs) {\n        // data ==> data-this (in observable.js's scopedEval) ==> this in JS => { dataId, dataInit, ... }\n        // this ==> scope (in observable.js's scopedEval) ==> this.parentElement ==> div.container below (toHtml)\n\n        playground.call(data,\n                        this\n                        ,\n                        {\n    \"f\": _magictabs,\n    \"o\": {}\n  }\n  \n                        \n                        \n                      );\n      }\n    );/*]]>*/</script>\n    <div>\n      <div>\n        <ul class=\"nav nav-tabs\" id=\"ul1155345646\"><li>\n              <a href=\"#tab1155345646-0\"><i class=\"fa fa-table\"/></a>\n            </li><li>\n              <a href=\"#tab1155345646-1\"><i class=\"fa fa-pie-chart\"/></a>\n            </li><li>\n              <a href=\"#tab1155345646-2\"><i class=\"fa fa-cubes\"/></a>\n            </li></ul>\n\n        <div class=\"tab-content\" id=\"tab1155345646\"><div class=\"tab-pane\" id=\"tab1155345646-0\">\n            <div>\n      <script data-this=\"{&quot;dataId&quot;:&quot;anoncecbac98ae3e425ad874aa98aba5d546&quot;,&quot;dataInit&quot;:[{&quot;_1&quot;:&quot;Id&quot;,&quot;_2&quot;:&quot;IntegerType&quot;},{&quot;_1&quot;:&quot;MSSubClass&quot;,&quot;_2&quot;:&quot;IntegerType&quot;},{&quot;_1&quot;:&quot;MSZoning&quot;,&quot;_2&quot;:&quot;StringType&quot;},{&quot;_1&quot;:&quot;LotFrontage&quot;,&quot;_2&quot;:&quot;StringType&quot;},{&quot;_1&quot;:&quot;LotArea&quot;,&quot;_2&quot;:&quot;IntegerType&quot;},{&quot;_1&quot;:&quot;Street&quot;,&quot;_2&quot;:&quot;StringType&quot;},{&quot;_1&quot;:&quot;Alley&quot;,&quot;_2&quot;:&quot;StringType&quot;},{&quot;_1&quot;:&quot;LotShape&quot;,&quot;_2&quot;:&quot;StringType&quot;},{&quot;_1&quot;:&quot;LandContour&quot;,&quot;_2&quot;:&quot;StringType&quot;},{&quot;_1&quot;:&quot;Utilities&quot;,&quot;_2&quot;:&quot;StringType&quot;},{&quot;_1&quot;:&quot;LotConfig&quot;,&quot;_2&quot;:&quot;StringType&quot;},{&quot;_1&quot;:&quot;LandSlope&quot;,&quot;_2&quot;:&quot;StringType&quot;},{&quot;_1&quot;:&quot;Neighborhood&quot;,&quot;_2&quot;:&quot;StringType&quot;},{&quot;_1&quot;:&quot;Condition1&quot;,&quot;_2&quot;:&quot;StringType&quot;},{&quot;_1&quot;:&quot;Condition2&quot;,&quot;_2&quot;:&quot;StringType&quot;},{&quot;_1&quot;:&quot;BldgType&quot;,&quot;_2&quot;:&quot;StringType&quot;},{&quot;_1&quot;:&quot;HouseStyle&quot;,&quot;_2&quot;:&quot;StringType&quot;},{&quot;_1&quot;:&quot;OverallQual&quot;,&quot;_2&quot;:&quot;IntegerType&quot;},{&quot;_1&quot;:&quot;OverallCond&quot;,&quot;_2&quot;:&quot;IntegerType&quot;},{&quot;_1&quot;:&quot;YearBuilt&quot;,&quot;_2&quot;:&quot;IntegerType&quot;},{&quot;_1&quot;:&quot;YearRemodAdd&quot;,&quot;_2&quot;:&quot;IntegerType&quot;},{&quot;_1&quot;:&quot;RoofStyle&quot;,&quot;_2&quot;:&quot;StringType&quot;},{&quot;_1&quot;:&quot;RoofMatl&quot;,&quot;_2&quot;:&quot;StringType&quot;},{&quot;_1&quot;:&quot;Exterior1st&quot;,&quot;_2&quot;:&quot;StringType&quot;},{&quot;_1&quot;:&quot;Exterior2nd&quot;,&quot;_2&quot;:&quot;StringType&quot;},{&quot;_1&quot;:&quot;MasVnrType&quot;,&quot;_2&quot;:&quot;StringType&quot;},{&quot;_1&quot;:&quot;MasVnrArea&quot;,&quot;_2&quot;:&quot;StringType&quot;},{&quot;_1&quot;:&quot;ExterQual&quot;,&quot;_2&quot;:&quot;StringType&quot;},{&quot;_1&quot;:&quot;ExterCond&quot;,&quot;_2&quot;:&quot;StringType&quot;},{&quot;_1&quot;:&quot;Foundation&quot;,&quot;_2&quot;:&quot;StringType&quot;},{&quot;_1&quot;:&quot;BsmtQual&quot;,&quot;_2&quot;:&quot;StringType&quot;},{&quot;_1&quot;:&quot;BsmtCond&quot;,&quot;_2&quot;:&quot;StringType&quot;},{&quot;_1&quot;:&quot;BsmtExposure&quot;,&quot;_2&quot;:&quot;StringType&quot;},{&quot;_1&quot;:&quot;BsmtFinType1&quot;,&quot;_2&quot;:&quot;StringType&quot;},{&quot;_1&quot;:&quot;BsmtFinSF1&quot;,&quot;_2&quot;:&quot;IntegerType&quot;},{&quot;_1&quot;:&quot;BsmtFinType2&quot;,&quot;_2&quot;:&quot;StringType&quot;},{&quot;_1&quot;:&quot;BsmtFinSF2&quot;,&quot;_2&quot;:&quot;IntegerType&quot;},{&quot;_1&quot;:&quot;BsmtUnfSF&quot;,&quot;_2&quot;:&quot;IntegerType&quot;},{&quot;_1&quot;:&quot;TotalBsmtSF&quot;,&quot;_2&quot;:&quot;IntegerType&quot;},{&quot;_1&quot;:&quot;Heating&quot;,&quot;_2&quot;:&quot;StringType&quot;},{&quot;_1&quot;:&quot;HeatingQC&quot;,&quot;_2&quot;:&quot;StringType&quot;},{&quot;_1&quot;:&quot;CentralAir&quot;,&quot;_2&quot;:&quot;StringType&quot;},{&quot;_1&quot;:&quot;Electrical&quot;,&quot;_2&quot;:&quot;StringType&quot;},{&quot;_1&quot;:&quot;1stFlrSF&quot;,&quot;_2&quot;:&quot;IntegerType&quot;},{&quot;_1&quot;:&quot;2ndFlrSF&quot;,&quot;_2&quot;:&quot;IntegerType&quot;},{&quot;_1&quot;:&quot;LowQualFinSF&quot;,&quot;_2&quot;:&quot;IntegerType&quot;},{&quot;_1&quot;:&quot;GrLivArea&quot;,&quot;_2&quot;:&quot;IntegerType&quot;},{&quot;_1&quot;:&quot;BsmtFullBath&quot;,&quot;_2&quot;:&quot;IntegerType&quot;},{&quot;_1&quot;:&quot;BsmtHalfBath&quot;,&quot;_2&quot;:&quot;IntegerType&quot;},{&quot;_1&quot;:&quot;FullBath&quot;,&quot;_2&quot;:&quot;IntegerType&quot;},{&quot;_1&quot;:&quot;HalfBath&quot;,&quot;_2&quot;:&quot;IntegerType&quot;},{&quot;_1&quot;:&quot;BedroomAbvGr&quot;,&quot;_2&quot;:&quot;IntegerType&quot;},{&quot;_1&quot;:&quot;KitchenAbvGr&quot;,&quot;_2&quot;:&quot;IntegerType&quot;},{&quot;_1&quot;:&quot;KitchenQual&quot;,&quot;_2&quot;:&quot;StringType&quot;},{&quot;_1&quot;:&quot;TotRmsAbvGrd&quot;,&quot;_2&quot;:&quot;IntegerType&quot;},{&quot;_1&quot;:&quot;Functional&quot;,&quot;_2&quot;:&quot;StringType&quot;},{&quot;_1&quot;:&quot;Fireplaces&quot;,&quot;_2&quot;:&quot;IntegerType&quot;},{&quot;_1&quot;:&quot;FireplaceQu&quot;,&quot;_2&quot;:&quot;StringType&quot;},{&quot;_1&quot;:&quot;GarageType&quot;,&quot;_2&quot;:&quot;StringType&quot;},{&quot;_1&quot;:&quot;GarageYrBlt&quot;,&quot;_2&quot;:&quot;StringType&quot;},{&quot;_1&quot;:&quot;GarageFinish&quot;,&quot;_2&quot;:&quot;StringType&quot;},{&quot;_1&quot;:&quot;GarageCars&quot;,&quot;_2&quot;:&quot;IntegerType&quot;},{&quot;_1&quot;:&quot;GarageArea&quot;,&quot;_2&quot;:&quot;IntegerType&quot;},{&quot;_1&quot;:&quot;GarageQual&quot;,&quot;_2&quot;:&quot;StringType&quot;},{&quot;_1&quot;:&quot;GarageCond&quot;,&quot;_2&quot;:&quot;StringType&quot;},{&quot;_1&quot;:&quot;PavedDrive&quot;,&quot;_2&quot;:&quot;StringType&quot;},{&quot;_1&quot;:&quot;WoodDeckSF&quot;,&quot;_2&quot;:&quot;IntegerType&quot;},{&quot;_1&quot;:&quot;OpenPorchSF&quot;,&quot;_2&quot;:&quot;IntegerType&quot;},{&quot;_1&quot;:&quot;EnclosedPorch&quot;,&quot;_2&quot;:&quot;IntegerType&quot;},{&quot;_1&quot;:&quot;3SsnPorch&quot;,&quot;_2&quot;:&quot;IntegerType&quot;},{&quot;_1&quot;:&quot;ScreenPorch&quot;,&quot;_2&quot;:&quot;IntegerType&quot;},{&quot;_1&quot;:&quot;PoolArea&quot;,&quot;_2&quot;:&quot;IntegerType&quot;},{&quot;_1&quot;:&quot;PoolQC&quot;,&quot;_2&quot;:&quot;StringType&quot;},{&quot;_1&quot;:&quot;Fence&quot;,&quot;_2&quot;:&quot;StringType&quot;},{&quot;_1&quot;:&quot;MiscFeature&quot;,&quot;_2&quot;:&quot;StringType&quot;},{&quot;_1&quot;:&quot;MiscVal&quot;,&quot;_2&quot;:&quot;IntegerType&quot;},{&quot;_1&quot;:&quot;MoSold&quot;,&quot;_2&quot;:&quot;IntegerType&quot;},{&quot;_1&quot;:&quot;YrSold&quot;,&quot;_2&quot;:&quot;IntegerType&quot;},{&quot;_1&quot;:&quot;SaleType&quot;,&quot;_2&quot;:&quot;StringType&quot;},{&quot;_1&quot;:&quot;SaleCondition&quot;,&quot;_2&quot;:&quot;StringType&quot;},{&quot;_1&quot;:&quot;SalePrice&quot;,&quot;_2&quot;:&quot;IntegerType&quot;}],&quot;genId&quot;:&quot;313449976&quot;}\" type=\"text/x-scoped-javascript\">/*<![CDATA[*/req(['../javascripts/notebook/playground','../javascripts/notebook/magic/tableChart'], \n      function(playground, _magictableChart) {\n        // data ==> data-this (in observable.js's scopedEval) ==> this in JS => { dataId, dataInit, ... }\n        // this ==> scope (in observable.js's scopedEval) ==> this.parentElement ==> div.container below (toHtml)\n\n        playground.call(data,\n                        this\n                        ,\n                        {\n    \"f\": _magictableChart,\n    \"o\": {\"headers\":[\"_1\",\"_2\"],\"width\":600,\"height\":400}\n  }\n  \n                        \n                        \n                      );\n      }\n    );/*]]>*/</script>\n    <div>\n      <span class=\"chart-total-item-count\"><p data-bind=\"text: value\"><script data-this=\"{&quot;valueId&quot;:&quot;anon8ad6cbedacc2f7ba0a17d3ebb7d41ec2&quot;,&quot;initialValue&quot;:&quot;81&quot;}\" type=\"text/x-scoped-javascript\">/*<![CDATA[*/\nreq(\n['observable', 'knockout'],\nfunction (O, ko) {\n  ko.applyBindings({\n      value: O.makeObservable(valueId, initialValue)\n    },\n    this\n  );\n});\n        /*]]>*/</script></p> entries total</span>\n      <span class=\"chart-sampling-warning\"><p data-bind=\"text: value\"><script data-this=\"{&quot;valueId&quot;:&quot;anonac9ba6f2407682d147276ab13ee46a26&quot;,&quot;initialValue&quot;:&quot;&quot;}\" type=\"text/x-scoped-javascript\">/*<![CDATA[*/\nreq(\n['observable', 'knockout'],\nfunction (O, ko) {\n  ko.applyBindings({\n      value: O.makeObservable(valueId, initialValue)\n    },\n    this\n  );\n});\n        /*]]>*/</script></p></span>\n      <div>\n      </div>\n    </div></div>\n            </div><div class=\"tab-pane\" id=\"tab1155345646-1\">\n            <div>\n      <script data-this=\"{&quot;dataId&quot;:&quot;anon2305f5a7481decd46c70f48ebbd93e35&quot;,&quot;dataInit&quot;:[{&quot;_1&quot;:&quot;Id&quot;,&quot;_2&quot;:&quot;IntegerType&quot;},{&quot;_1&quot;:&quot;MSSubClass&quot;,&quot;_2&quot;:&quot;IntegerType&quot;},{&quot;_1&quot;:&quot;MSZoning&quot;,&quot;_2&quot;:&quot;StringType&quot;},{&quot;_1&quot;:&quot;LotFrontage&quot;,&quot;_2&quot;:&quot;StringType&quot;},{&quot;_1&quot;:&quot;LotArea&quot;,&quot;_2&quot;:&quot;IntegerType&quot;},{&quot;_1&quot;:&quot;Street&quot;,&quot;_2&quot;:&quot;StringType&quot;},{&quot;_1&quot;:&quot;Alley&quot;,&quot;_2&quot;:&quot;StringType&quot;},{&quot;_1&quot;:&quot;LotShape&quot;,&quot;_2&quot;:&quot;StringType&quot;},{&quot;_1&quot;:&quot;LandContour&quot;,&quot;_2&quot;:&quot;StringType&quot;},{&quot;_1&quot;:&quot;Utilities&quot;,&quot;_2&quot;:&quot;StringType&quot;},{&quot;_1&quot;:&quot;LotConfig&quot;,&quot;_2&quot;:&quot;StringType&quot;},{&quot;_1&quot;:&quot;LandSlope&quot;,&quot;_2&quot;:&quot;StringType&quot;},{&quot;_1&quot;:&quot;Neighborhood&quot;,&quot;_2&quot;:&quot;StringType&quot;},{&quot;_1&quot;:&quot;Condition1&quot;,&quot;_2&quot;:&quot;StringType&quot;},{&quot;_1&quot;:&quot;Condition2&quot;,&quot;_2&quot;:&quot;StringType&quot;},{&quot;_1&quot;:&quot;BldgType&quot;,&quot;_2&quot;:&quot;StringType&quot;},{&quot;_1&quot;:&quot;HouseStyle&quot;,&quot;_2&quot;:&quot;StringType&quot;},{&quot;_1&quot;:&quot;OverallQual&quot;,&quot;_2&quot;:&quot;IntegerType&quot;},{&quot;_1&quot;:&quot;OverallCond&quot;,&quot;_2&quot;:&quot;IntegerType&quot;},{&quot;_1&quot;:&quot;YearBuilt&quot;,&quot;_2&quot;:&quot;IntegerType&quot;},{&quot;_1&quot;:&quot;YearRemodAdd&quot;,&quot;_2&quot;:&quot;IntegerType&quot;},{&quot;_1&quot;:&quot;RoofStyle&quot;,&quot;_2&quot;:&quot;StringType&quot;},{&quot;_1&quot;:&quot;RoofMatl&quot;,&quot;_2&quot;:&quot;StringType&quot;},{&quot;_1&quot;:&quot;Exterior1st&quot;,&quot;_2&quot;:&quot;StringType&quot;},{&quot;_1&quot;:&quot;Exterior2nd&quot;,&quot;_2&quot;:&quot;StringType&quot;},{&quot;_1&quot;:&quot;MasVnrType&quot;,&quot;_2&quot;:&quot;StringType&quot;},{&quot;_1&quot;:&quot;MasVnrArea&quot;,&quot;_2&quot;:&quot;StringType&quot;},{&quot;_1&quot;:&quot;ExterQual&quot;,&quot;_2&quot;:&quot;StringType&quot;},{&quot;_1&quot;:&quot;ExterCond&quot;,&quot;_2&quot;:&quot;StringType&quot;},{&quot;_1&quot;:&quot;Foundation&quot;,&quot;_2&quot;:&quot;StringType&quot;},{&quot;_1&quot;:&quot;BsmtQual&quot;,&quot;_2&quot;:&quot;StringType&quot;},{&quot;_1&quot;:&quot;BsmtCond&quot;,&quot;_2&quot;:&quot;StringType&quot;},{&quot;_1&quot;:&quot;BsmtExposure&quot;,&quot;_2&quot;:&quot;StringType&quot;},{&quot;_1&quot;:&quot;BsmtFinType1&quot;,&quot;_2&quot;:&quot;StringType&quot;},{&quot;_1&quot;:&quot;BsmtFinSF1&quot;,&quot;_2&quot;:&quot;IntegerType&quot;},{&quot;_1&quot;:&quot;BsmtFinType2&quot;,&quot;_2&quot;:&quot;StringType&quot;},{&quot;_1&quot;:&quot;BsmtFinSF2&quot;,&quot;_2&quot;:&quot;IntegerType&quot;},{&quot;_1&quot;:&quot;BsmtUnfSF&quot;,&quot;_2&quot;:&quot;IntegerType&quot;},{&quot;_1&quot;:&quot;TotalBsmtSF&quot;,&quot;_2&quot;:&quot;IntegerType&quot;},{&quot;_1&quot;:&quot;Heating&quot;,&quot;_2&quot;:&quot;StringType&quot;},{&quot;_1&quot;:&quot;HeatingQC&quot;,&quot;_2&quot;:&quot;StringType&quot;},{&quot;_1&quot;:&quot;CentralAir&quot;,&quot;_2&quot;:&quot;StringType&quot;},{&quot;_1&quot;:&quot;Electrical&quot;,&quot;_2&quot;:&quot;StringType&quot;},{&quot;_1&quot;:&quot;1stFlrSF&quot;,&quot;_2&quot;:&quot;IntegerType&quot;},{&quot;_1&quot;:&quot;2ndFlrSF&quot;,&quot;_2&quot;:&quot;IntegerType&quot;},{&quot;_1&quot;:&quot;LowQualFinSF&quot;,&quot;_2&quot;:&quot;IntegerType&quot;},{&quot;_1&quot;:&quot;GrLivArea&quot;,&quot;_2&quot;:&quot;IntegerType&quot;},{&quot;_1&quot;:&quot;BsmtFullBath&quot;,&quot;_2&quot;:&quot;IntegerType&quot;},{&quot;_1&quot;:&quot;BsmtHalfBath&quot;,&quot;_2&quot;:&quot;IntegerType&quot;},{&quot;_1&quot;:&quot;FullBath&quot;,&quot;_2&quot;:&quot;IntegerType&quot;},{&quot;_1&quot;:&quot;HalfBath&quot;,&quot;_2&quot;:&quot;IntegerType&quot;},{&quot;_1&quot;:&quot;BedroomAbvGr&quot;,&quot;_2&quot;:&quot;IntegerType&quot;},{&quot;_1&quot;:&quot;KitchenAbvGr&quot;,&quot;_2&quot;:&quot;IntegerType&quot;},{&quot;_1&quot;:&quot;KitchenQual&quot;,&quot;_2&quot;:&quot;StringType&quot;},{&quot;_1&quot;:&quot;TotRmsAbvGrd&quot;,&quot;_2&quot;:&quot;IntegerType&quot;},{&quot;_1&quot;:&quot;Functional&quot;,&quot;_2&quot;:&quot;StringType&quot;},{&quot;_1&quot;:&quot;Fireplaces&quot;,&quot;_2&quot;:&quot;IntegerType&quot;},{&quot;_1&quot;:&quot;FireplaceQu&quot;,&quot;_2&quot;:&quot;StringType&quot;},{&quot;_1&quot;:&quot;GarageType&quot;,&quot;_2&quot;:&quot;StringType&quot;},{&quot;_1&quot;:&quot;GarageYrBlt&quot;,&quot;_2&quot;:&quot;StringType&quot;},{&quot;_1&quot;:&quot;GarageFinish&quot;,&quot;_2&quot;:&quot;StringType&quot;},{&quot;_1&quot;:&quot;GarageCars&quot;,&quot;_2&quot;:&quot;IntegerType&quot;},{&quot;_1&quot;:&quot;GarageArea&quot;,&quot;_2&quot;:&quot;IntegerType&quot;},{&quot;_1&quot;:&quot;GarageQual&quot;,&quot;_2&quot;:&quot;StringType&quot;},{&quot;_1&quot;:&quot;GarageCond&quot;,&quot;_2&quot;:&quot;StringType&quot;},{&quot;_1&quot;:&quot;PavedDrive&quot;,&quot;_2&quot;:&quot;StringType&quot;},{&quot;_1&quot;:&quot;WoodDeckSF&quot;,&quot;_2&quot;:&quot;IntegerType&quot;},{&quot;_1&quot;:&quot;OpenPorchSF&quot;,&quot;_2&quot;:&quot;IntegerType&quot;},{&quot;_1&quot;:&quot;EnclosedPorch&quot;,&quot;_2&quot;:&quot;IntegerType&quot;},{&quot;_1&quot;:&quot;3SsnPorch&quot;,&quot;_2&quot;:&quot;IntegerType&quot;},{&quot;_1&quot;:&quot;ScreenPorch&quot;,&quot;_2&quot;:&quot;IntegerType&quot;},{&quot;_1&quot;:&quot;PoolArea&quot;,&quot;_2&quot;:&quot;IntegerType&quot;},{&quot;_1&quot;:&quot;PoolQC&quot;,&quot;_2&quot;:&quot;StringType&quot;},{&quot;_1&quot;:&quot;Fence&quot;,&quot;_2&quot;:&quot;StringType&quot;},{&quot;_1&quot;:&quot;MiscFeature&quot;,&quot;_2&quot;:&quot;StringType&quot;},{&quot;_1&quot;:&quot;MiscVal&quot;,&quot;_2&quot;:&quot;IntegerType&quot;},{&quot;_1&quot;:&quot;MoSold&quot;,&quot;_2&quot;:&quot;IntegerType&quot;},{&quot;_1&quot;:&quot;YrSold&quot;,&quot;_2&quot;:&quot;IntegerType&quot;},{&quot;_1&quot;:&quot;SaleType&quot;,&quot;_2&quot;:&quot;StringType&quot;},{&quot;_1&quot;:&quot;SaleCondition&quot;,&quot;_2&quot;:&quot;StringType&quot;},{&quot;_1&quot;:&quot;SalePrice&quot;,&quot;_2&quot;:&quot;IntegerType&quot;}],&quot;genId&quot;:&quot;1555036561&quot;}\" type=\"text/x-scoped-javascript\">/*<![CDATA[*/req(['../javascripts/notebook/playground','../javascripts/notebook/magic/pieChart'], \n      function(playground, _magicpieChart) {\n        // data ==> data-this (in observable.js's scopedEval) ==> this in JS => { dataId, dataInit, ... }\n        // this ==> scope (in observable.js's scopedEval) ==> this.parentElement ==> div.container below (toHtml)\n\n        playground.call(data,\n                        this\n                        ,\n                        {\n    \"f\": _magicpieChart,\n    \"o\": {\"series\":\"_1\",\"p\":\"_2\",\"width\":600,\"height\":400}\n  }\n  \n                        \n                        \n                      );\n      }\n    );/*]]>*/</script>\n    <div>\n      <span class=\"chart-total-item-count\"><p data-bind=\"text: value\"><script data-this=\"{&quot;valueId&quot;:&quot;anon319e2db20446fecbb2b90da8e5930016&quot;,&quot;initialValue&quot;:&quot;81&quot;}\" type=\"text/x-scoped-javascript\">/*<![CDATA[*/\nreq(\n['observable', 'knockout'],\nfunction (O, ko) {\n  ko.applyBindings({\n      value: O.makeObservable(valueId, initialValue)\n    },\n    this\n  );\n});\n        /*]]>*/</script></p> entries total</span>\n      <span class=\"chart-sampling-warning\"><p data-bind=\"text: value\"><script data-this=\"{&quot;valueId&quot;:&quot;anonc8ed2a3bc1f1d3a7a23e7e4171ba6fe9&quot;,&quot;initialValue&quot;:&quot;&quot;}\" type=\"text/x-scoped-javascript\">/*<![CDATA[*/\nreq(\n['observable', 'knockout'],\nfunction (O, ko) {\n  ko.applyBindings({\n      value: O.makeObservable(valueId, initialValue)\n    },\n    this\n  );\n});\n        /*]]>*/</script></p></span>\n      <div>\n      </div>\n    </div></div>\n            </div><div class=\"tab-pane\" id=\"tab1155345646-2\">\n            <div>\n      <script data-this=\"{&quot;dataId&quot;:&quot;anona3e354baa0331a7e3e5aa94601504df4&quot;,&quot;dataInit&quot;:[{&quot;_1&quot;:&quot;Id&quot;,&quot;_2&quot;:&quot;IntegerType&quot;},{&quot;_1&quot;:&quot;MSSubClass&quot;,&quot;_2&quot;:&quot;IntegerType&quot;},{&quot;_1&quot;:&quot;MSZoning&quot;,&quot;_2&quot;:&quot;StringType&quot;},{&quot;_1&quot;:&quot;LotFrontage&quot;,&quot;_2&quot;:&quot;StringType&quot;},{&quot;_1&quot;:&quot;LotArea&quot;,&quot;_2&quot;:&quot;IntegerType&quot;},{&quot;_1&quot;:&quot;Street&quot;,&quot;_2&quot;:&quot;StringType&quot;},{&quot;_1&quot;:&quot;Alley&quot;,&quot;_2&quot;:&quot;StringType&quot;},{&quot;_1&quot;:&quot;LotShape&quot;,&quot;_2&quot;:&quot;StringType&quot;},{&quot;_1&quot;:&quot;LandContour&quot;,&quot;_2&quot;:&quot;StringType&quot;},{&quot;_1&quot;:&quot;Utilities&quot;,&quot;_2&quot;:&quot;StringType&quot;},{&quot;_1&quot;:&quot;LotConfig&quot;,&quot;_2&quot;:&quot;StringType&quot;},{&quot;_1&quot;:&quot;LandSlope&quot;,&quot;_2&quot;:&quot;StringType&quot;},{&quot;_1&quot;:&quot;Neighborhood&quot;,&quot;_2&quot;:&quot;StringType&quot;},{&quot;_1&quot;:&quot;Condition1&quot;,&quot;_2&quot;:&quot;StringType&quot;},{&quot;_1&quot;:&quot;Condition2&quot;,&quot;_2&quot;:&quot;StringType&quot;},{&quot;_1&quot;:&quot;BldgType&quot;,&quot;_2&quot;:&quot;StringType&quot;},{&quot;_1&quot;:&quot;HouseStyle&quot;,&quot;_2&quot;:&quot;StringType&quot;},{&quot;_1&quot;:&quot;OverallQual&quot;,&quot;_2&quot;:&quot;IntegerType&quot;},{&quot;_1&quot;:&quot;OverallCond&quot;,&quot;_2&quot;:&quot;IntegerType&quot;},{&quot;_1&quot;:&quot;YearBuilt&quot;,&quot;_2&quot;:&quot;IntegerType&quot;},{&quot;_1&quot;:&quot;YearRemodAdd&quot;,&quot;_2&quot;:&quot;IntegerType&quot;},{&quot;_1&quot;:&quot;RoofStyle&quot;,&quot;_2&quot;:&quot;StringType&quot;},{&quot;_1&quot;:&quot;RoofMatl&quot;,&quot;_2&quot;:&quot;StringType&quot;},{&quot;_1&quot;:&quot;Exterior1st&quot;,&quot;_2&quot;:&quot;StringType&quot;},{&quot;_1&quot;:&quot;Exterior2nd&quot;,&quot;_2&quot;:&quot;StringType&quot;},{&quot;_1&quot;:&quot;MasVnrType&quot;,&quot;_2&quot;:&quot;StringType&quot;},{&quot;_1&quot;:&quot;MasVnrArea&quot;,&quot;_2&quot;:&quot;StringType&quot;},{&quot;_1&quot;:&quot;ExterQual&quot;,&quot;_2&quot;:&quot;StringType&quot;},{&quot;_1&quot;:&quot;ExterCond&quot;,&quot;_2&quot;:&quot;StringType&quot;},{&quot;_1&quot;:&quot;Foundation&quot;,&quot;_2&quot;:&quot;StringType&quot;},{&quot;_1&quot;:&quot;BsmtQual&quot;,&quot;_2&quot;:&quot;StringType&quot;},{&quot;_1&quot;:&quot;BsmtCond&quot;,&quot;_2&quot;:&quot;StringType&quot;},{&quot;_1&quot;:&quot;BsmtExposure&quot;,&quot;_2&quot;:&quot;StringType&quot;},{&quot;_1&quot;:&quot;BsmtFinType1&quot;,&quot;_2&quot;:&quot;StringType&quot;},{&quot;_1&quot;:&quot;BsmtFinSF1&quot;,&quot;_2&quot;:&quot;IntegerType&quot;},{&quot;_1&quot;:&quot;BsmtFinType2&quot;,&quot;_2&quot;:&quot;StringType&quot;},{&quot;_1&quot;:&quot;BsmtFinSF2&quot;,&quot;_2&quot;:&quot;IntegerType&quot;},{&quot;_1&quot;:&quot;BsmtUnfSF&quot;,&quot;_2&quot;:&quot;IntegerType&quot;},{&quot;_1&quot;:&quot;TotalBsmtSF&quot;,&quot;_2&quot;:&quot;IntegerType&quot;},{&quot;_1&quot;:&quot;Heating&quot;,&quot;_2&quot;:&quot;StringType&quot;},{&quot;_1&quot;:&quot;HeatingQC&quot;,&quot;_2&quot;:&quot;StringType&quot;},{&quot;_1&quot;:&quot;CentralAir&quot;,&quot;_2&quot;:&quot;StringType&quot;},{&quot;_1&quot;:&quot;Electrical&quot;,&quot;_2&quot;:&quot;StringType&quot;},{&quot;_1&quot;:&quot;1stFlrSF&quot;,&quot;_2&quot;:&quot;IntegerType&quot;},{&quot;_1&quot;:&quot;2ndFlrSF&quot;,&quot;_2&quot;:&quot;IntegerType&quot;},{&quot;_1&quot;:&quot;LowQualFinSF&quot;,&quot;_2&quot;:&quot;IntegerType&quot;},{&quot;_1&quot;:&quot;GrLivArea&quot;,&quot;_2&quot;:&quot;IntegerType&quot;},{&quot;_1&quot;:&quot;BsmtFullBath&quot;,&quot;_2&quot;:&quot;IntegerType&quot;},{&quot;_1&quot;:&quot;BsmtHalfBath&quot;,&quot;_2&quot;:&quot;IntegerType&quot;},{&quot;_1&quot;:&quot;FullBath&quot;,&quot;_2&quot;:&quot;IntegerType&quot;},{&quot;_1&quot;:&quot;HalfBath&quot;,&quot;_2&quot;:&quot;IntegerType&quot;},{&quot;_1&quot;:&quot;BedroomAbvGr&quot;,&quot;_2&quot;:&quot;IntegerType&quot;},{&quot;_1&quot;:&quot;KitchenAbvGr&quot;,&quot;_2&quot;:&quot;IntegerType&quot;},{&quot;_1&quot;:&quot;KitchenQual&quot;,&quot;_2&quot;:&quot;StringType&quot;},{&quot;_1&quot;:&quot;TotRmsAbvGrd&quot;,&quot;_2&quot;:&quot;IntegerType&quot;},{&quot;_1&quot;:&quot;Functional&quot;,&quot;_2&quot;:&quot;StringType&quot;},{&quot;_1&quot;:&quot;Fireplaces&quot;,&quot;_2&quot;:&quot;IntegerType&quot;},{&quot;_1&quot;:&quot;FireplaceQu&quot;,&quot;_2&quot;:&quot;StringType&quot;},{&quot;_1&quot;:&quot;GarageType&quot;,&quot;_2&quot;:&quot;StringType&quot;},{&quot;_1&quot;:&quot;GarageYrBlt&quot;,&quot;_2&quot;:&quot;StringType&quot;},{&quot;_1&quot;:&quot;GarageFinish&quot;,&quot;_2&quot;:&quot;StringType&quot;},{&quot;_1&quot;:&quot;GarageCars&quot;,&quot;_2&quot;:&quot;IntegerType&quot;},{&quot;_1&quot;:&quot;GarageArea&quot;,&quot;_2&quot;:&quot;IntegerType&quot;},{&quot;_1&quot;:&quot;GarageQual&quot;,&quot;_2&quot;:&quot;StringType&quot;},{&quot;_1&quot;:&quot;GarageCond&quot;,&quot;_2&quot;:&quot;StringType&quot;},{&quot;_1&quot;:&quot;PavedDrive&quot;,&quot;_2&quot;:&quot;StringType&quot;},{&quot;_1&quot;:&quot;WoodDeckSF&quot;,&quot;_2&quot;:&quot;IntegerType&quot;},{&quot;_1&quot;:&quot;OpenPorchSF&quot;,&quot;_2&quot;:&quot;IntegerType&quot;},{&quot;_1&quot;:&quot;EnclosedPorch&quot;,&quot;_2&quot;:&quot;IntegerType&quot;},{&quot;_1&quot;:&quot;3SsnPorch&quot;,&quot;_2&quot;:&quot;IntegerType&quot;},{&quot;_1&quot;:&quot;ScreenPorch&quot;,&quot;_2&quot;:&quot;IntegerType&quot;},{&quot;_1&quot;:&quot;PoolArea&quot;,&quot;_2&quot;:&quot;IntegerType&quot;},{&quot;_1&quot;:&quot;PoolQC&quot;,&quot;_2&quot;:&quot;StringType&quot;},{&quot;_1&quot;:&quot;Fence&quot;,&quot;_2&quot;:&quot;StringType&quot;},{&quot;_1&quot;:&quot;MiscFeature&quot;,&quot;_2&quot;:&quot;StringType&quot;},{&quot;_1&quot;:&quot;MiscVal&quot;,&quot;_2&quot;:&quot;IntegerType&quot;},{&quot;_1&quot;:&quot;MoSold&quot;,&quot;_2&quot;:&quot;IntegerType&quot;},{&quot;_1&quot;:&quot;YrSold&quot;,&quot;_2&quot;:&quot;IntegerType&quot;},{&quot;_1&quot;:&quot;SaleType&quot;,&quot;_2&quot;:&quot;StringType&quot;},{&quot;_1&quot;:&quot;SaleCondition&quot;,&quot;_2&quot;:&quot;StringType&quot;},{&quot;_1&quot;:&quot;SalePrice&quot;,&quot;_2&quot;:&quot;IntegerType&quot;}],&quot;genId&quot;:&quot;899031791&quot;}\" type=\"text/x-scoped-javascript\">/*<![CDATA[*/req(['../javascripts/notebook/playground','../javascripts/notebook/magic/pivotChart'], \n      function(playground, _magicpivotChart) {\n        // data ==> data-this (in observable.js's scopedEval) ==> this in JS => { dataId, dataInit, ... }\n        // this ==> scope (in observable.js's scopedEval) ==> this.parentElement ==> div.container below (toHtml)\n\n        playground.call(data,\n                        this\n                        ,\n                        {\n    \"f\": _magicpivotChart,\n    \"o\": {\"width\":600,\"height\":400,\"derivedAttributes\":{},\"extraOptions\":{}}\n  }\n  \n                        \n                        \n                      );\n      }\n    );/*]]>*/</script>\n    <div>\n      <span class=\"chart-total-item-count\"><p data-bind=\"text: value\"><script data-this=\"{&quot;valueId&quot;:&quot;anoncb123023a2b4d040cadfd222aa78a9c6&quot;,&quot;initialValue&quot;:&quot;81&quot;}\" type=\"text/x-scoped-javascript\">/*<![CDATA[*/\nreq(\n['observable', 'knockout'],\nfunction (O, ko) {\n  ko.applyBindings({\n      value: O.makeObservable(valueId, initialValue)\n    },\n    this\n  );\n});\n        /*]]>*/</script></p> entries total</span>\n      <span class=\"chart-sampling-warning\"><p data-bind=\"text: value\"><script data-this=\"{&quot;valueId&quot;:&quot;anonf87ea62e86c004cd48ae1fe96833f1d7&quot;,&quot;initialValue&quot;:&quot;&quot;}\" type=\"text/x-scoped-javascript\">/*<![CDATA[*/\nreq(\n['observable', 'knockout'],\nfunction (O, ko) {\n  ko.applyBindings({\n      value: O.makeObservable(valueId, initialValue)\n    },\n    this\n  );\n});\n        /*]]>*/</script></p></span>\n      <div>\n      </div>\n    </div></div>\n            </div></div>\n      </div>\n    </div></div>"
      },
      "output_type" : "execute_result",
      "execution_count" : 4,
      "time" : "Took: 2.274s, at 2018-06-21 14:53"
    } ]
  }, {
    "metadata" : {
      "trusted" : true,
      "input_collapsed" : false,
      "collapsed" : false,
      "id" : "22F76D499F5B45E09E59212AF248E55C"
    },
    "cell_type" : "code",
    "source" : [ "df.select(\"id\",\"SalePrice\").limit(3)" ],
    "outputs" : [ {
      "name" : "stdout",
      "output_type" : "stream",
      "text" : "res62: org.apache.spark.sql.Dataset[org.apache.spark.sql.Row] = [id: int, SalePrice: int]\n"
    }, {
      "metadata" : { },
      "data" : {
        "text/html" : "<div class=\"df-canvas\">\n      <script data-this=\"{&quot;dataId&quot;:&quot;anonbed999dbc59c266a0d073e189d9601bf&quot;,&quot;partitionIndexId&quot;:&quot;anon4e0441aa474a2133da48af67032eb400&quot;,&quot;numPartitions&quot;:1,&quot;dfSchema&quot;:{&quot;type&quot;:&quot;struct&quot;,&quot;fields&quot;:[{&quot;name&quot;:&quot;id&quot;,&quot;type&quot;:&quot;integer&quot;,&quot;nullable&quot;:true,&quot;metadata&quot;:{}},{&quot;name&quot;:&quot;SalePrice&quot;,&quot;type&quot;:&quot;integer&quot;,&quot;nullable&quot;:true,&quot;metadata&quot;:{}}]}}\" type=\"text/x-scoped-javascript\">/*<![CDATA[*/req(['../javascripts/notebook/dataframe','../javascripts/notebook/consoleDir'], \n      function(dataframe, extension) {\n        dataframe.call(data, this, extension);\n      }\n    );/*]]>*/</script>\n      <link rel=\"stylesheet\" href=\"/assets/stylesheets/ipython/css/dataframe.css\" type=\"text/css\"/>\n    </div>"
      },
      "output_type" : "execute_result",
      "execution_count" : 1,
      "time" : "Took: 2.516s, at 2018-06-21 14:52"
    } ]
  }, {
    "metadata" : {
      "trusted" : true,
      "input_collapsed" : false,
      "collapsed" : false,
      "id" : "CB9E11EEB391477E9DA63FC13D55D85F"
    },
    "cell_type" : "code",
    "source" : [ "df.filter(df(\"SalePrice\") > 200000).select(\"id\", \"SalePrice\").limit(2)" ],
    "outputs" : [ {
      "name" : "stdout",
      "output_type" : "stream",
      "text" : "res64: org.apache.spark.sql.Dataset[org.apache.spark.sql.Row] = [id: int, SalePrice: int]\n"
    }, {
      "metadata" : { },
      "data" : {
        "text/html" : "<div class=\"df-canvas\">\n      <script data-this=\"{&quot;dataId&quot;:&quot;anon7768e4b11195c2f6bce6ffccceeb986d&quot;,&quot;partitionIndexId&quot;:&quot;anona95c735d7db032366363763212b1d1a9&quot;,&quot;numPartitions&quot;:1,&quot;dfSchema&quot;:{&quot;type&quot;:&quot;struct&quot;,&quot;fields&quot;:[{&quot;name&quot;:&quot;id&quot;,&quot;type&quot;:&quot;integer&quot;,&quot;nullable&quot;:true,&quot;metadata&quot;:{}},{&quot;name&quot;:&quot;SalePrice&quot;,&quot;type&quot;:&quot;integer&quot;,&quot;nullable&quot;:true,&quot;metadata&quot;:{}}]}}\" type=\"text/x-scoped-javascript\">/*<![CDATA[*/req(['../javascripts/notebook/dataframe','../javascripts/notebook/consoleDir'], \n      function(dataframe, extension) {\n        dataframe.call(data, this, extension);\n      }\n    );/*]]>*/</script>\n      <link rel=\"stylesheet\" href=\"/assets/stylesheets/ipython/css/dataframe.css\" type=\"text/css\"/>\n    </div>"
      },
      "output_type" : "execute_result",
      "execution_count" : 2,
      "time" : "Took: 2.141s, at 2018-06-21 14:52"
    } ]
  }, {
    "metadata" : {
      "trusted" : true,
      "input_collapsed" : false,
      "collapsed" : false,
      "id" : "52EF6290848D4F038150CD7F04F15002"
    },
    "cell_type" : "code",
    "source" : [ "// Widgets/Visualization Tools Section" ],
    "outputs" : [ {
      "metadata" : { },
      "data" : {
        "text/html" : ""
      },
      "output_type" : "execute_result",
      "execution_count" : 2,
      "time" : "Took: 1.736s, at 2018-06-21 14:33"
    } ]
  }, {
    "metadata" : {
      "trusted" : true,
      "input_collapsed" : false,
      "collapsed" : false,
      "id" : "753A40E049A64894B508675D9AD96298"
    },
    "cell_type" : "code",
    "source" : [ "val avgs = df.groupBy(\"YearBuilt\").agg(avg(\"SalePrice\"))" ],
    "outputs" : [ {
      "name" : "stdout",
      "output_type" : "stream",
      "text" : "avgs: org.apache.spark.sql.DataFrame = [YearBuilt: int, avg(SalePrice): double]\n"
    }, {
      "metadata" : { },
      "data" : {
        "text/html" : ""
      },
      "output_type" : "execute_result",
      "execution_count" : 4,
      "time" : "Took: 1.495s, at 2018-06-21 14:39"
    } ]
  }, {
    "metadata" : {
      "trusted" : true,
      "input_collapsed" : false,
      "collapsed" : false,
      "id" : "BE1EB2C8710443FE86408BEB858B201A"
    },
    "cell_type" : "code",
    "source" : [ "LineChart(avgs.sort(\"YearBuilt\"))" ],
    "outputs" : [ {
      "name" : "stdout",
      "output_type" : "stream",
      "text" : "res43: notebook.front.widgets.charts.LineChart[org.apache.spark.sql.Dataset[org.apache.spark.sql.Row]] = <LineChart widget>\n"
    }, {
      "metadata" : { },
      "data" : {
        "text/html" : "<div>\n      <script data-this=\"{&quot;dataId&quot;:&quot;anon3da20b2fe699a6188bb8f7227b1a91ef&quot;,&quot;dataInit&quot;:[{&quot;YearBuilt&quot;:1872,&quot;avg(SalePrice)&quot;:122000},{&quot;YearBuilt&quot;:1875,&quot;avg(SalePrice)&quot;:94000},{&quot;YearBuilt&quot;:1880,&quot;avg(SalePrice)&quot;:200619.75},{&quot;YearBuilt&quot;:1882,&quot;avg(SalePrice)&quot;:168000},{&quot;YearBuilt&quot;:1885,&quot;avg(SalePrice)&quot;:111250},{&quot;YearBuilt&quot;:1890,&quot;avg(SalePrice)&quot;:142200},{&quot;YearBuilt&quot;:1892,&quot;avg(SalePrice)&quot;:291250},{&quot;YearBuilt&quot;:1893,&quot;avg(SalePrice)&quot;:325000},{&quot;YearBuilt&quot;:1898,&quot;avg(SalePrice)&quot;:106000},{&quot;YearBuilt&quot;:1900,&quot;avg(SalePrice)&quot;:112492.6},{&quot;YearBuilt&quot;:1904,&quot;avg(SalePrice)&quot;:157500},{&quot;YearBuilt&quot;:1905,&quot;avg(SalePrice)&quot;:163000},{&quot;YearBuilt&quot;:1906,&quot;avg(SalePrice)&quot;:135000},{&quot;YearBuilt&quot;:1908,&quot;avg(SalePrice)&quot;:183500},{&quot;YearBuilt&quot;:1910,&quot;avg(SalePrice)&quot;:111959.05882352941},{&quot;YearBuilt&quot;:1911,&quot;avg(SalePrice)&quot;:130000},{&quot;YearBuilt&quot;:1912,&quot;avg(SalePrice)&quot;:119466.66666666667},{&quot;YearBuilt&quot;:1913,&quot;avg(SalePrice)&quot;:90350},{&quot;YearBuilt&quot;:1914,&quot;avg(SalePrice)&quot;:126055.28571428571},{&quot;YearBuilt&quot;:1915,&quot;avg(SalePrice)&quot;:134387.5},{&quot;YearBuilt&quot;:1916,&quot;avg(SalePrice)&quot;:139800},{&quot;YearBuilt&quot;:1917,&quot;avg(SalePrice)&quot;:129500},{&quot;YearBuilt&quot;:1918,&quot;avg(SalePrice)&quot;:172421.42857142858},{&quot;YearBuilt&quot;:1919,&quot;avg(SalePrice)&quot;:154833.33333333334},{&quot;YearBuilt&quot;:1920,&quot;avg(SalePrice)&quot;:112903.33333333333},{&quot;YearBuilt&quot;:1921,&quot;avg(SalePrice)&quot;:140813.33333333334},{&quot;YearBuilt&quot;:1922,&quot;avg(SalePrice)&quot;:109237.5},{&quot;YearBuilt&quot;:1923,&quot;avg(SalePrice)&quot;:159428.57142857142},{&quot;YearBuilt&quot;:1924,&quot;avg(SalePrice)&quot;:105985.71428571429},{&quot;YearBuilt&quot;:1925,&quot;avg(SalePrice)&quot;:129190.625},{&quot;YearBuilt&quot;:1926,&quot;avg(SalePrice)&quot;:124144.44444444444},{&quot;YearBuilt&quot;:1927,&quot;avg(SalePrice)&quot;:82666.66666666667},{&quot;YearBuilt&quot;:1928,&quot;avg(SalePrice)&quot;:135557.14285714287},{&quot;YearBuilt&quot;:1929,&quot;avg(SalePrice)&quot;:153000},{&quot;YearBuilt&quot;:1930,&quot;avg(SalePrice)&quot;:103588.88888888889},{&quot;YearBuilt&quot;:1931,&quot;avg(SalePrice)&quot;:126650},{&quot;YearBuilt&quot;:1932,&quot;avg(SalePrice)&quot;:233358.5},{&quot;YearBuilt&quot;:1934,&quot;avg(SalePrice)&quot;:220766.66666666666},{&quot;YearBuilt&quot;:1935,&quot;avg(SalePrice)&quot;:161083.33333333334},{&quot;YearBuilt&quot;:1936,&quot;avg(SalePrice)&quot;:137888.88888888888},{&quot;YearBuilt&quot;:1937,&quot;avg(SalePrice)&quot;:131974.2},{&quot;YearBuilt&quot;:1938,&quot;avg(SalePrice)&quot;:109137.5},{&quot;YearBuilt&quot;:1939,&quot;avg(SalePrice)&quot;:150825},{&quot;YearBuilt&quot;:1940,&quot;avg(SalePrice)&quot;:131994.44444444444},{&quot;YearBuilt&quot;:1941,&quot;avg(SalePrice)&quot;:120900},{&quot;YearBuilt&quot;:1942,&quot;avg(SalePrice)&quot;:162000},{&quot;YearBuilt&quot;:1945,&quot;avg(SalePrice)&quot;:133500},{&quot;YearBuilt&quot;:1946,&quot;avg(SalePrice)&quot;:122400},{&quot;YearBuilt&quot;:1947,&quot;avg(SalePrice)&quot;:117200},{&quot;YearBuilt&quot;:1948,&quot;avg(SalePrice)&quot;:137764.2857142857},{&quot;YearBuilt&quot;:1949,&quot;avg(SalePrice)&quot;:111517.58333333333},{&quot;YearBuilt&quot;:1950,&quot;avg(SalePrice)&quot;:128036.25},{&quot;YearBuilt&quot;:1951,&quot;avg(SalePrice)&quot;:136600},{&quot;YearBuilt&quot;:1952,&quot;avg(SalePrice)&quot;:110398.6},{&quot;YearBuilt&quot;:1953,&quot;avg(SalePrice)&quot;:146333.33333333334},{&quot;YearBuilt&quot;:1954,&quot;avg(SalePrice)&quot;:139650},{&quot;YearBuilt&quot;:1955,&quot;avg(SalePrice)&quot;:134517.1875},{&quot;YearBuilt&quot;:1956,&quot;avg(SalePrice)&quot;:135810.7142857143},{&quot;YearBuilt&quot;:1957,&quot;avg(SalePrice)&quot;:149959.1},{&quot;YearBuilt&quot;:1958,&quot;avg(SalePrice)&quot;:143179.16666666666},{&quot;YearBuilt&quot;:1959,&quot;avg(SalePrice)&quot;:154124.3076923077},{&quot;YearBuilt&quot;:1960,&quot;avg(SalePrice)&quot;:161550},{&quot;YearBuilt&quot;:1961,&quot;avg(SalePrice)&quot;:139846.42857142858},{&quot;YearBuilt&quot;:1962,&quot;avg(SalePrice)&quot;:145742.1052631579},{&quot;YearBuilt&quot;:1963,&quot;avg(SalePrice)&quot;:143403.125},{&quot;YearBuilt&quot;:1964,&quot;avg(SalePrice)&quot;:161893.33333333334},{&quot;YearBuilt&quot;:1965,&quot;avg(SalePrice)&quot;:153115.95833333334},{&quot;YearBuilt&quot;:1966,&quot;avg(SalePrice)&quot;:159559.44444444444},{&quot;YearBuilt&quot;:1967,&quot;avg(SalePrice)&quot;:142337.5},{&quot;YearBuilt&quot;:1968,&quot;avg(SalePrice)&quot;:166075},{&quot;YearBuilt&quot;:1969,&quot;avg(SalePrice)&quot;:160725.64285714287},{&quot;YearBuilt&quot;:1970,&quot;avg(SalePrice)&quot;:134647.91666666666},{&quot;YearBuilt&quot;:1971,&quot;avg(SalePrice)&quot;:131820.45454545456},{&quot;YearBuilt&quot;:1972,&quot;avg(SalePrice)&quot;:140569.5652173913},{&quot;YearBuilt&quot;:1973,&quot;avg(SalePrice)&quot;:139400},{&quot;YearBuilt&quot;:1974,&quot;avg(SalePrice)&quot;:183050},{&quot;YearBuilt&quot;:1975,&quot;avg(SalePrice)&quot;:159268.75},{&quot;YearBuilt&quot;:1976,&quot;avg(SalePrice)&quot;:163831.9696969697},{&quot;YearBuilt&quot;:1977,&quot;avg(SalePrice)&quot;:166860.9375},{&quot;YearBuilt&quot;:1978,&quot;avg(SalePrice)&quot;:160962.5},{&quot;YearBuilt&quot;:1979,&quot;avg(SalePrice)&quot;:156396.88888888888},{&quot;YearBuilt&quot;:1980,&quot;avg(SalePrice)&quot;:164800},{&quot;YearBuilt&quot;:1981,&quot;avg(SalePrice)&quot;:249880},{&quot;YearBuilt&quot;:1982,&quot;avg(SalePrice)&quot;:132400},{&quot;YearBuilt&quot;:1983,&quot;avg(SalePrice)&quot;:181400},{&quot;YearBuilt&quot;:1984,&quot;avg(SalePrice)&quot;:164111.11111111112},{&quot;YearBuilt&quot;:1985,&quot;avg(SalePrice)&quot;:191400},{&quot;YearBuilt&quot;:1986,&quot;avg(SalePrice)&quot;:212000},{&quot;YearBuilt&quot;:1987,&quot;avg(SalePrice)&quot;:198000},{&quot;YearBuilt&quot;:1988,&quot;avg(SalePrice)&quot;:204636.36363636365},{&quot;YearBuilt&quot;:1989,&quot;avg(SalePrice)&quot;:279500},{&quot;YearBuilt&quot;:1990,&quot;avg(SalePrice)&quot;:220881.66666666666},{&quot;YearBuilt&quot;:1991,&quot;avg(SalePrice)&quot;:186140},{&quot;YearBuilt&quot;:1992,&quot;avg(SalePrice)&quot;:218384.61538461538},{&quot;YearBuilt&quot;:1993,&quot;avg(SalePrice)&quot;:218058.82352941178},{&quot;YearBuilt&quot;:1994,&quot;avg(SalePrice)&quot;:247900},{&quot;YearBuilt&quot;:1995,&quot;avg(SalePrice)&quot;:262194.44444444444},{&quot;YearBuilt&quot;:1996,&quot;avg(SalePrice)&quot;:259162.66666666666},{&quot;YearBuilt&quot;:1997,&quot;avg(SalePrice)&quot;:214925},{&quot;YearBuilt&quot;:1998,&quot;avg(SalePrice)&quot;:220450},{&quot;YearBuilt&quot;:1999,&quot;avg(SalePrice)&quot;:210614.72},{&quot;YearBuilt&quot;:2000,&quot;avg(SalePrice)&quot;:210766.66666666666},{&quot;YearBuilt&quot;:2001,&quot;avg(SalePrice)&quot;:242630},{&quot;YearBuilt&quot;:2002,&quot;avg(SalePrice)&quot;:226869.5652173913},{&quot;YearBuilt&quot;:2003,&quot;avg(SalePrice)&quot;:227408.57777777777},{&quot;YearBuilt&quot;:2004,&quot;avg(SalePrice)&quot;:210347.72222222222},{&quot;YearBuilt&quot;:2005,&quot;avg(SalePrice)&quot;:229680.953125},{&quot;YearBuilt&quot;:2006,&quot;avg(SalePrice)&quot;:251775.44776119402},{&quot;YearBuilt&quot;:2007,&quot;avg(SalePrice)&quot;:255362.73469387754},{&quot;YearBuilt&quot;:2008,&quot;avg(SalePrice)&quot;:348849.1304347826},{&quot;YearBuilt&quot;:2009,&quot;avg(SalePrice)&quot;:269220},{&quot;YearBuilt&quot;:2010,&quot;avg(SalePrice)&quot;:394432}],&quot;genId&quot;:&quot;1452552341&quot;}\" type=\"text/x-scoped-javascript\">/*<![CDATA[*/req(['../javascripts/notebook/playground','../javascripts/notebook/magic/lineChart'], \n      function(playground, _magiclineChart) {\n        // data ==> data-this (in observable.js's scopedEval) ==> this in JS => { dataId, dataInit, ... }\n        // this ==> scope (in observable.js's scopedEval) ==> this.parentElement ==> div.container below (toHtml)\n\n        playground.call(data,\n                        this\n                        ,\n                        {\n    \"f\": _magiclineChart,\n    \"o\": {\"x\":\"YearBuilt\",\"y\":\"avg(SalePrice)\",\"width\":600,\"height\":400}\n  }\n  \n                        \n                        \n                      );\n      }\n    );/*]]>*/</script>\n    <div>\n      <span class=\"chart-total-item-count\"><p data-bind=\"text: value\"><script data-this=\"{&quot;valueId&quot;:&quot;anonc44221feebfa4ec92045c31c787887c9&quot;,&quot;initialValue&quot;:&quot;112&quot;}\" type=\"text/x-scoped-javascript\">/*<![CDATA[*/\nreq(\n['observable', 'knockout'],\nfunction (O, ko) {\n  ko.applyBindings({\n      value: O.makeObservable(valueId, initialValue)\n    },\n    this\n  );\n});\n        /*]]>*/</script></p> entries total</span>\n      <span class=\"chart-sampling-warning\"><p data-bind=\"text: value\"><script data-this=\"{&quot;valueId&quot;:&quot;anon5636cead7da0762ee1dea745d31e2e3c&quot;,&quot;initialValue&quot;:&quot;&quot;}\" type=\"text/x-scoped-javascript\">/*<![CDATA[*/\nreq(\n['observable', 'knockout'],\nfunction (O, ko) {\n  ko.applyBindings({\n      value: O.makeObservable(valueId, initialValue)\n    },\n    this\n  );\n});\n        /*]]>*/</script></p></span>\n      <div>\n      </div>\n    </div></div>"
      },
      "output_type" : "execute_result",
      "execution_count" : 5,
      "time" : "Took: 4.747s, at 2018-06-21 14:40"
    } ]
  }, {
    "metadata" : {
      "trusted" : true,
      "input_collapsed" : false,
      "collapsed" : false,
      "id" : "C32B2E18E98B44DE8F4971EA21497985"
    },
    "cell_type" : "code",
    "source" : [ "PieChart(avgs.sort(\"YearBuilt\"))" ],
    "outputs" : [ {
      "name" : "stdout",
      "output_type" : "stream",
      "text" : "res47: notebook.front.widgets.charts.PieChart[org.apache.spark.sql.Dataset[org.apache.spark.sql.Row]] = <PieChart widget>\n"
    }, {
      "metadata" : { },
      "data" : {
        "text/html" : "<div>\n      <script data-this=\"{&quot;dataId&quot;:&quot;anon6acf2274781d3f394f87291515fbdecf&quot;,&quot;dataInit&quot;:[{&quot;YearBuilt&quot;:1872,&quot;avg(SalePrice)&quot;:122000},{&quot;YearBuilt&quot;:1875,&quot;avg(SalePrice)&quot;:94000},{&quot;YearBuilt&quot;:1880,&quot;avg(SalePrice)&quot;:200619.75},{&quot;YearBuilt&quot;:1882,&quot;avg(SalePrice)&quot;:168000},{&quot;YearBuilt&quot;:1885,&quot;avg(SalePrice)&quot;:111250},{&quot;YearBuilt&quot;:1890,&quot;avg(SalePrice)&quot;:142200},{&quot;YearBuilt&quot;:1892,&quot;avg(SalePrice)&quot;:291250},{&quot;YearBuilt&quot;:1893,&quot;avg(SalePrice)&quot;:325000},{&quot;YearBuilt&quot;:1898,&quot;avg(SalePrice)&quot;:106000},{&quot;YearBuilt&quot;:1900,&quot;avg(SalePrice)&quot;:112492.6},{&quot;YearBuilt&quot;:1904,&quot;avg(SalePrice)&quot;:157500},{&quot;YearBuilt&quot;:1905,&quot;avg(SalePrice)&quot;:163000},{&quot;YearBuilt&quot;:1906,&quot;avg(SalePrice)&quot;:135000},{&quot;YearBuilt&quot;:1908,&quot;avg(SalePrice)&quot;:183500},{&quot;YearBuilt&quot;:1910,&quot;avg(SalePrice)&quot;:111959.05882352941},{&quot;YearBuilt&quot;:1911,&quot;avg(SalePrice)&quot;:130000},{&quot;YearBuilt&quot;:1912,&quot;avg(SalePrice)&quot;:119466.66666666667},{&quot;YearBuilt&quot;:1913,&quot;avg(SalePrice)&quot;:90350},{&quot;YearBuilt&quot;:1914,&quot;avg(SalePrice)&quot;:126055.28571428571},{&quot;YearBuilt&quot;:1915,&quot;avg(SalePrice)&quot;:134387.5},{&quot;YearBuilt&quot;:1916,&quot;avg(SalePrice)&quot;:139800},{&quot;YearBuilt&quot;:1917,&quot;avg(SalePrice)&quot;:129500},{&quot;YearBuilt&quot;:1918,&quot;avg(SalePrice)&quot;:172421.42857142858},{&quot;YearBuilt&quot;:1919,&quot;avg(SalePrice)&quot;:154833.33333333334},{&quot;YearBuilt&quot;:1920,&quot;avg(SalePrice)&quot;:112903.33333333333},{&quot;YearBuilt&quot;:1921,&quot;avg(SalePrice)&quot;:140813.33333333334},{&quot;YearBuilt&quot;:1922,&quot;avg(SalePrice)&quot;:109237.5},{&quot;YearBuilt&quot;:1923,&quot;avg(SalePrice)&quot;:159428.57142857142},{&quot;YearBuilt&quot;:1924,&quot;avg(SalePrice)&quot;:105985.71428571429},{&quot;YearBuilt&quot;:1925,&quot;avg(SalePrice)&quot;:129190.625},{&quot;YearBuilt&quot;:1926,&quot;avg(SalePrice)&quot;:124144.44444444444},{&quot;YearBuilt&quot;:1927,&quot;avg(SalePrice)&quot;:82666.66666666667},{&quot;YearBuilt&quot;:1928,&quot;avg(SalePrice)&quot;:135557.14285714287},{&quot;YearBuilt&quot;:1929,&quot;avg(SalePrice)&quot;:153000},{&quot;YearBuilt&quot;:1930,&quot;avg(SalePrice)&quot;:103588.88888888889},{&quot;YearBuilt&quot;:1931,&quot;avg(SalePrice)&quot;:126650},{&quot;YearBuilt&quot;:1932,&quot;avg(SalePrice)&quot;:233358.5},{&quot;YearBuilt&quot;:1934,&quot;avg(SalePrice)&quot;:220766.66666666666},{&quot;YearBuilt&quot;:1935,&quot;avg(SalePrice)&quot;:161083.33333333334},{&quot;YearBuilt&quot;:1936,&quot;avg(SalePrice)&quot;:137888.88888888888},{&quot;YearBuilt&quot;:1937,&quot;avg(SalePrice)&quot;:131974.2},{&quot;YearBuilt&quot;:1938,&quot;avg(SalePrice)&quot;:109137.5},{&quot;YearBuilt&quot;:1939,&quot;avg(SalePrice)&quot;:150825},{&quot;YearBuilt&quot;:1940,&quot;avg(SalePrice)&quot;:131994.44444444444},{&quot;YearBuilt&quot;:1941,&quot;avg(SalePrice)&quot;:120900},{&quot;YearBuilt&quot;:1942,&quot;avg(SalePrice)&quot;:162000},{&quot;YearBuilt&quot;:1945,&quot;avg(SalePrice)&quot;:133500},{&quot;YearBuilt&quot;:1946,&quot;avg(SalePrice)&quot;:122400},{&quot;YearBuilt&quot;:1947,&quot;avg(SalePrice)&quot;:117200},{&quot;YearBuilt&quot;:1948,&quot;avg(SalePrice)&quot;:137764.2857142857},{&quot;YearBuilt&quot;:1949,&quot;avg(SalePrice)&quot;:111517.58333333333},{&quot;YearBuilt&quot;:1950,&quot;avg(SalePrice)&quot;:128036.25},{&quot;YearBuilt&quot;:1951,&quot;avg(SalePrice)&quot;:136600},{&quot;YearBuilt&quot;:1952,&quot;avg(SalePrice)&quot;:110398.6},{&quot;YearBuilt&quot;:1953,&quot;avg(SalePrice)&quot;:146333.33333333334},{&quot;YearBuilt&quot;:1954,&quot;avg(SalePrice)&quot;:139650},{&quot;YearBuilt&quot;:1955,&quot;avg(SalePrice)&quot;:134517.1875},{&quot;YearBuilt&quot;:1956,&quot;avg(SalePrice)&quot;:135810.7142857143},{&quot;YearBuilt&quot;:1957,&quot;avg(SalePrice)&quot;:149959.1},{&quot;YearBuilt&quot;:1958,&quot;avg(SalePrice)&quot;:143179.16666666666},{&quot;YearBuilt&quot;:1959,&quot;avg(SalePrice)&quot;:154124.3076923077},{&quot;YearBuilt&quot;:1960,&quot;avg(SalePrice)&quot;:161550},{&quot;YearBuilt&quot;:1961,&quot;avg(SalePrice)&quot;:139846.42857142858},{&quot;YearBuilt&quot;:1962,&quot;avg(SalePrice)&quot;:145742.1052631579},{&quot;YearBuilt&quot;:1963,&quot;avg(SalePrice)&quot;:143403.125},{&quot;YearBuilt&quot;:1964,&quot;avg(SalePrice)&quot;:161893.33333333334},{&quot;YearBuilt&quot;:1965,&quot;avg(SalePrice)&quot;:153115.95833333334},{&quot;YearBuilt&quot;:1966,&quot;avg(SalePrice)&quot;:159559.44444444444},{&quot;YearBuilt&quot;:1967,&quot;avg(SalePrice)&quot;:142337.5},{&quot;YearBuilt&quot;:1968,&quot;avg(SalePrice)&quot;:166075},{&quot;YearBuilt&quot;:1969,&quot;avg(SalePrice)&quot;:160725.64285714287},{&quot;YearBuilt&quot;:1970,&quot;avg(SalePrice)&quot;:134647.91666666666},{&quot;YearBuilt&quot;:1971,&quot;avg(SalePrice)&quot;:131820.45454545456},{&quot;YearBuilt&quot;:1972,&quot;avg(SalePrice)&quot;:140569.5652173913},{&quot;YearBuilt&quot;:1973,&quot;avg(SalePrice)&quot;:139400},{&quot;YearBuilt&quot;:1974,&quot;avg(SalePrice)&quot;:183050},{&quot;YearBuilt&quot;:1975,&quot;avg(SalePrice)&quot;:159268.75},{&quot;YearBuilt&quot;:1976,&quot;avg(SalePrice)&quot;:163831.9696969697},{&quot;YearBuilt&quot;:1977,&quot;avg(SalePrice)&quot;:166860.9375},{&quot;YearBuilt&quot;:1978,&quot;avg(SalePrice)&quot;:160962.5},{&quot;YearBuilt&quot;:1979,&quot;avg(SalePrice)&quot;:156396.88888888888},{&quot;YearBuilt&quot;:1980,&quot;avg(SalePrice)&quot;:164800},{&quot;YearBuilt&quot;:1981,&quot;avg(SalePrice)&quot;:249880},{&quot;YearBuilt&quot;:1982,&quot;avg(SalePrice)&quot;:132400},{&quot;YearBuilt&quot;:1983,&quot;avg(SalePrice)&quot;:181400},{&quot;YearBuilt&quot;:1984,&quot;avg(SalePrice)&quot;:164111.11111111112},{&quot;YearBuilt&quot;:1985,&quot;avg(SalePrice)&quot;:191400},{&quot;YearBuilt&quot;:1986,&quot;avg(SalePrice)&quot;:212000},{&quot;YearBuilt&quot;:1987,&quot;avg(SalePrice)&quot;:198000},{&quot;YearBuilt&quot;:1988,&quot;avg(SalePrice)&quot;:204636.36363636365},{&quot;YearBuilt&quot;:1989,&quot;avg(SalePrice)&quot;:279500},{&quot;YearBuilt&quot;:1990,&quot;avg(SalePrice)&quot;:220881.66666666666},{&quot;YearBuilt&quot;:1991,&quot;avg(SalePrice)&quot;:186140},{&quot;YearBuilt&quot;:1992,&quot;avg(SalePrice)&quot;:218384.61538461538},{&quot;YearBuilt&quot;:1993,&quot;avg(SalePrice)&quot;:218058.82352941178},{&quot;YearBuilt&quot;:1994,&quot;avg(SalePrice)&quot;:247900},{&quot;YearBuilt&quot;:1995,&quot;avg(SalePrice)&quot;:262194.44444444444},{&quot;YearBuilt&quot;:1996,&quot;avg(SalePrice)&quot;:259162.66666666666},{&quot;YearBuilt&quot;:1997,&quot;avg(SalePrice)&quot;:214925},{&quot;YearBuilt&quot;:1998,&quot;avg(SalePrice)&quot;:220450},{&quot;YearBuilt&quot;:1999,&quot;avg(SalePrice)&quot;:210614.72},{&quot;YearBuilt&quot;:2000,&quot;avg(SalePrice)&quot;:210766.66666666666},{&quot;YearBuilt&quot;:2001,&quot;avg(SalePrice)&quot;:242630},{&quot;YearBuilt&quot;:2002,&quot;avg(SalePrice)&quot;:226869.5652173913},{&quot;YearBuilt&quot;:2003,&quot;avg(SalePrice)&quot;:227408.57777777777},{&quot;YearBuilt&quot;:2004,&quot;avg(SalePrice)&quot;:210347.72222222222},{&quot;YearBuilt&quot;:2005,&quot;avg(SalePrice)&quot;:229680.953125},{&quot;YearBuilt&quot;:2006,&quot;avg(SalePrice)&quot;:251775.44776119402},{&quot;YearBuilt&quot;:2007,&quot;avg(SalePrice)&quot;:255362.73469387754},{&quot;YearBuilt&quot;:2008,&quot;avg(SalePrice)&quot;:348849.1304347826},{&quot;YearBuilt&quot;:2009,&quot;avg(SalePrice)&quot;:269220},{&quot;YearBuilt&quot;:2010,&quot;avg(SalePrice)&quot;:394432}],&quot;genId&quot;:&quot;1748915549&quot;}\" type=\"text/x-scoped-javascript\">/*<![CDATA[*/req(['../javascripts/notebook/playground','../javascripts/notebook/magic/pieChart'], \n      function(playground, _magicpieChart) {\n        // data ==> data-this (in observable.js's scopedEval) ==> this in JS => { dataId, dataInit, ... }\n        // this ==> scope (in observable.js's scopedEval) ==> this.parentElement ==> div.container below (toHtml)\n\n        playground.call(data,\n                        this\n                        ,\n                        {\n    \"f\": _magicpieChart,\n    \"o\": {\"series\":\"YearBuilt\",\"p\":\"avg(SalePrice)\",\"width\":600,\"height\":400}\n  }\n  \n                        \n                        \n                      );\n      }\n    );/*]]>*/</script>\n    <div>\n      <span class=\"chart-total-item-count\"><p data-bind=\"text: value\"><script data-this=\"{&quot;valueId&quot;:&quot;anonb3c1d8a726e9eb479d8876bf8d8b77b3&quot;,&quot;initialValue&quot;:&quot;112&quot;}\" type=\"text/x-scoped-javascript\">/*<![CDATA[*/\nreq(\n['observable', 'knockout'],\nfunction (O, ko) {\n  ko.applyBindings({\n      value: O.makeObservable(valueId, initialValue)\n    },\n    this\n  );\n});\n        /*]]>*/</script></p> entries total</span>\n      <span class=\"chart-sampling-warning\"><p data-bind=\"text: value\"><script data-this=\"{&quot;valueId&quot;:&quot;anon72c62d8aa9f5b8e354c52b8c9537654c&quot;,&quot;initialValue&quot;:&quot;&quot;}\" type=\"text/x-scoped-javascript\">/*<![CDATA[*/\nreq(\n['observable', 'knockout'],\nfunction (O, ko) {\n  ko.applyBindings({\n      value: O.makeObservable(valueId, initialValue)\n    },\n    this\n  );\n});\n        /*]]>*/</script></p></span>\n      <div>\n      </div>\n    </div></div>"
      },
      "output_type" : "execute_result",
      "execution_count" : 7,
      "time" : "Took: 3.493s, at 2018-06-21 14:42"
    } ]
  }, {
    "metadata" : {
      "trusted" : true,
      "input_collapsed" : false,
      "collapsed" : false,
      "id" : "30612A0EB97B4FD480D8C5151B544CE5"
    },
    "cell_type" : "code",
    "source" : [ "val richestNeighborhood = df.groupBy(\"Neighborhood\").agg(sum(\"SalePrice\"))" ],
    "outputs" : [ {
      "name" : "stdout",
      "output_type" : "stream",
      "text" : "richestNeighborhood: org.apache.spark.sql.DataFrame = [Neighborhood: string, sum(SalePrice): bigint]\n"
    }, {
      "metadata" : { },
      "data" : {
        "text/html" : ""
      },
      "output_type" : "execute_result",
      "execution_count" : 2,
      "time" : "Took: 1.994s, at 2018-06-21 14:43"
    } ]
  }, {
    "metadata" : {
      "trusted" : true,
      "input_collapsed" : false,
      "collapsed" : false,
      "id" : "E4643F91AE4C4F1591FD2BE1A27BE42B"
    },
    "cell_type" : "code",
    "source" : [ "PieChart(richestNeighborhood)" ],
    "outputs" : [ {
      "name" : "stdout",
      "output_type" : "stream",
      "text" : "res51: notebook.front.widgets.charts.PieChart[org.apache.spark.sql.DataFrame] = <PieChart widget>\n"
    }, {
      "metadata" : { },
      "data" : {
        "text/html" : "<div>\n      <script data-this=\"{&quot;dataId&quot;:&quot;anon189855b8f7d5c12bf06b1f2f15b415bf&quot;,&quot;dataInit&quot;:[{&quot;Neighborhood&quot;:&quot;Veenker&quot;,&quot;sum(SalePrice)&quot;:2626500},{&quot;Neighborhood&quot;:&quot;BrkSide&quot;,&quot;sum(SalePrice)&quot;:7240375},{&quot;Neighborhood&quot;:&quot;NPkVill&quot;,&quot;sum(SalePrice)&quot;:1284250},{&quot;Neighborhood&quot;:&quot;NridgHt&quot;,&quot;sum(SalePrice)&quot;:24352838},{&quot;Neighborhood&quot;:&quot;NoRidge&quot;,&quot;sum(SalePrice)&quot;:13747108},{&quot;Neighborhood&quot;:&quot;NWAmes&quot;,&quot;sum(SalePrice)&quot;:13800655},{&quot;Neighborhood&quot;:&quot;OldTown&quot;,&quot;sum(SalePrice)&quot;:14489459},{&quot;Neighborhood&quot;:&quot;Gilbert&quot;,&quot;sum(SalePrice)&quot;:15235506},{&quot;Neighborhood&quot;:&quot;Somerst&quot;,&quot;sum(SalePrice)&quot;:19382666},{&quot;Neighborhood&quot;:&quot;Crawfor&quot;,&quot;sum(SalePrice)&quot;:10741861},{&quot;Neighborhood&quot;:&quot;NAmes&quot;,&quot;sum(SalePrice)&quot;:32815593},{&quot;Neighborhood&quot;:&quot;IDOTRR&quot;,&quot;sum(SalePrice)&quot;:3704580},{&quot;Neighborhood&quot;:&quot;Edwards&quot;,&quot;sum(SalePrice)&quot;:12821970},{&quot;Neighborhood&quot;:&quot;Sawyer&quot;,&quot;sum(SalePrice)&quot;:10122692},{&quot;Neighborhood&quot;:&quot;StoneBr&quot;,&quot;sum(SalePrice)&quot;:7762475},{&quot;Neighborhood&quot;:&quot;CollgCr&quot;,&quot;sum(SalePrice)&quot;:29694866},{&quot;Neighborhood&quot;:&quot;SWISU&quot;,&quot;sum(SalePrice)&quot;:3564784},{&quot;Neighborhood&quot;:&quot;MeadowV&quot;,&quot;sum(SalePrice)&quot;:1675800},{&quot;Neighborhood&quot;:&quot;Timber&quot;,&quot;sum(SalePrice)&quot;:9205403},{&quot;Neighborhood&quot;:&quot;Blmngtn&quot;,&quot;sum(SalePrice)&quot;:3312805},{&quot;Neighborhood&quot;:&quot;Mitchel&quot;,&quot;sum(SalePrice)&quot;:7657236},{&quot;Neighborhood&quot;:&quot;SawyerW&quot;,&quot;sum(SalePrice)&quot;:11006792},{&quot;Neighborhood&quot;:&quot;Blueste&quot;,&quot;sum(SalePrice)&quot;:275000},{&quot;Neighborhood&quot;:&quot;BrDale&quot;,&quot;sum(SalePrice)&quot;:1671900},{&quot;Neighborhood&quot;:&quot;ClearCr&quot;,&quot;sum(SalePrice)&quot;:5951832}],&quot;genId&quot;:&quot;87688892&quot;}\" type=\"text/x-scoped-javascript\">/*<![CDATA[*/req(['../javascripts/notebook/playground','../javascripts/notebook/magic/pieChart'], \n      function(playground, _magicpieChart) {\n        // data ==> data-this (in observable.js's scopedEval) ==> this in JS => { dataId, dataInit, ... }\n        // this ==> scope (in observable.js's scopedEval) ==> this.parentElement ==> div.container below (toHtml)\n\n        playground.call(data,\n                        this\n                        ,\n                        {\n    \"f\": _magicpieChart,\n    \"o\": {\"series\":\"Neighborhood\",\"p\":\"sum(SalePrice)\",\"width\":600,\"height\":400}\n  }\n  \n                        \n                        \n                      );\n      }\n    );/*]]>*/</script>\n    <div>\n      <span class=\"chart-total-item-count\"><p data-bind=\"text: value\"><script data-this=\"{&quot;valueId&quot;:&quot;anon8b822e6aface0282d459f9d130587852&quot;,&quot;initialValue&quot;:&quot;25&quot;}\" type=\"text/x-scoped-javascript\">/*<![CDATA[*/\nreq(\n['observable', 'knockout'],\nfunction (O, ko) {\n  ko.applyBindings({\n      value: O.makeObservable(valueId, initialValue)\n    },\n    this\n  );\n});\n        /*]]>*/</script></p> entries total</span>\n      <span class=\"chart-sampling-warning\"><p data-bind=\"text: value\"><script data-this=\"{&quot;valueId&quot;:&quot;anonf3cec9952b92efe2a998cd841e5ce30e&quot;,&quot;initialValue&quot;:&quot;&quot;}\" type=\"text/x-scoped-javascript\">/*<![CDATA[*/\nreq(\n['observable', 'knockout'],\nfunction (O, ko) {\n  ko.applyBindings({\n      value: O.makeObservable(valueId, initialValue)\n    },\n    this\n  );\n});\n        /*]]>*/</script></p></span>\n      <div>\n      </div>\n    </div></div>"
      },
      "output_type" : "execute_result",
      "execution_count" : 3,
      "time" : "Took: 3.617s, at 2018-06-21 14:44"
    } ]
  }, {
    "metadata" : {
      "trusted" : true,
      "input_collapsed" : false,
      "collapsed" : false,
      "id" : "676AFD62C28441DEB1AB8B65F5AA994A"
    },
    "cell_type" : "code",
    "source" : [ "val radarData = df.select(\"Id\", \"BsmtFullBath\", \"BsmtHalfBath\", \"FullBath\", \"HalfBath\")\n", "RadarChart(radarData.take(4), labelField=Some(\"Id\"))" ],
    "outputs" : [ {
      "name" : "stdout",
      "output_type" : "stream",
      "text" : "radarData: org.apache.spark.sql.DataFrame = [Id: int, BsmtFullBath: int ... 3 more fields]\nres58: notebook.front.widgets.charts.RadarChart[Array[org.apache.spark.sql.Row]] = <RadarChart widget>\n"
    }, {
      "metadata" : { },
      "data" : {
        "text/html" : "<div>\n      <script data-this=\"{&quot;dataId&quot;:&quot;anon041c4a51a222dc92796d86f20cccef41&quot;,&quot;dataInit&quot;:[{&quot;Id&quot;:1,&quot;FullBath&quot;:2,&quot;HalfBath&quot;:1,&quot;BsmtHalfBath&quot;:0,&quot;BsmtFullBath&quot;:1},{&quot;Id&quot;:2,&quot;FullBath&quot;:2,&quot;HalfBath&quot;:0,&quot;BsmtHalfBath&quot;:1,&quot;BsmtFullBath&quot;:0},{&quot;Id&quot;:3,&quot;FullBath&quot;:2,&quot;HalfBath&quot;:1,&quot;BsmtHalfBath&quot;:0,&quot;BsmtFullBath&quot;:1},{&quot;Id&quot;:4,&quot;FullBath&quot;:1,&quot;HalfBath&quot;:0,&quot;BsmtHalfBath&quot;:0,&quot;BsmtFullBath&quot;:1}],&quot;genId&quot;:&quot;1529362552&quot;}\" type=\"text/x-scoped-javascript\">/*<![CDATA[*/req(['../javascripts/notebook/playground','../javascripts/notebook/magic/radarChart'], \n      function(playground, _magicradarChart) {\n        // data ==> data-this (in observable.js's scopedEval) ==> this in JS => { dataId, dataInit, ... }\n        // this ==> scope (in observable.js's scopedEval) ==> this.parentElement ==> div.container below (toHtml)\n\n        playground.call(data,\n                        this\n                        ,\n                        {\n    \"f\": _magicradarChart,\n    \"o\": {\"classCol\":\"Id\",\"axisCols\":[\"BsmtFullBath\",\"BsmtHalfBath\",\"FullBath\",\"HalfBath\"],\"width\":600,\"height\":400}\n  }\n  \n                        \n                        \n                      );\n      }\n    );/*]]>*/</script>\n    <div>\n      <span class=\"chart-total-item-count\"><p data-bind=\"text: value\"><script data-this=\"{&quot;valueId&quot;:&quot;anon86dfae3a5373aaac3d331a53c4fb1060&quot;,&quot;initialValue&quot;:&quot;4&quot;}\" type=\"text/x-scoped-javascript\">/*<![CDATA[*/\nreq(\n['observable', 'knockout'],\nfunction (O, ko) {\n  ko.applyBindings({\n      value: O.makeObservable(valueId, initialValue)\n    },\n    this\n  );\n});\n        /*]]>*/</script></p> entries total</span>\n      <span class=\"chart-sampling-warning\"><p data-bind=\"text: value\"><script data-this=\"{&quot;valueId&quot;:&quot;anonf2bc47433123520bd71785f31b00bfb8&quot;,&quot;initialValue&quot;:&quot;&quot;}\" type=\"text/x-scoped-javascript\">/*<![CDATA[*/\nreq(\n['observable', 'knockout'],\nfunction (O, ko) {\n  ko.applyBindings({\n      value: O.makeObservable(valueId, initialValue)\n    },\n    this\n  );\n});\n        /*]]>*/</script></p></span>\n      <div>\n      </div>\n    </div></div>"
      },
      "output_type" : "execute_result",
      "execution_count" : 4,
      "time" : "Took: 2.224s, at 2018-06-21 14:47"
    } ]
  }, {
    "metadata" : {
      "trusted" : true,
      "input_collapsed" : false,
      "collapsed" : false,
      "id" : "B53A818B5BC94DE49AED7482B14C7F7C"
    },
    "cell_type" : "code",
    "source" : [ "// Statistical Functions in Spark Section - Aggregate and Non-Aggregate Functions" ],
    "outputs" : [ {
      "metadata" : { },
      "data" : {
        "text/html" : ""
      },
      "output_type" : "execute_result",
      "execution_count" : 1,
      "time" : "Took: 1.636s, at 2018-06-21 14:49"
    } ]
  }, {
    "metadata" : {
      "trusted" : true,
      "input_collapsed" : false,
      "collapsed" : false,
      "id" : "67FA863961F94FFEB35C811567779FA9"
    },
    "cell_type" : "code",
    "source" : [ "" ],
    "outputs" : [ {
      "name" : "stdout",
      "output_type" : "stream",
      "text" : "import spark.implicits._\n"
    }, {
      "metadata" : { },
      "data" : {
        "text/html" : ""
      },
      "output_type" : "execute_result",
      "execution_count" : 1,
      "time" : "Took: 2.429s, at 2018-06-21 14:55"
    } ]
  }, {
    "metadata" : {
      "trusted" : true,
      "input_collapsed" : false,
      "collapsed" : false,
      "id" : "D97253B9ADB4485D8F07395B4C5217D9"
    },
    "cell_type" : "code",
    "source" : [ "df.select(\"Id\", \"SalePrice\").limit(2)" ],
    "outputs" : [ {
      "name" : "stdout",
      "output_type" : "stream",
      "text" : "res74: org.apache.spark.sql.Dataset[org.apache.spark.sql.Row] = [Id: int, SalePrice: int]\n"
    }, {
      "metadata" : { },
      "data" : {
        "text/html" : "<div class=\"df-canvas\">\n      <script data-this=\"{&quot;dataId&quot;:&quot;anoneef8a04a2ab70cf0956ee0221cfc659d&quot;,&quot;partitionIndexId&quot;:&quot;anonf2dd87e07261b8334ac0ad58d3f102e1&quot;,&quot;numPartitions&quot;:1,&quot;dfSchema&quot;:{&quot;type&quot;:&quot;struct&quot;,&quot;fields&quot;:[{&quot;name&quot;:&quot;Id&quot;,&quot;type&quot;:&quot;integer&quot;,&quot;nullable&quot;:true,&quot;metadata&quot;:{}},{&quot;name&quot;:&quot;SalePrice&quot;,&quot;type&quot;:&quot;integer&quot;,&quot;nullable&quot;:true,&quot;metadata&quot;:{}}]}}\" type=\"text/x-scoped-javascript\">/*<![CDATA[*/req(['../javascripts/notebook/dataframe','../javascripts/notebook/consoleDir'], \n      function(dataframe, extension) {\n        dataframe.call(data, this, extension);\n      }\n    );/*]]>*/</script>\n      <link rel=\"stylesheet\" href=\"/assets/stylesheets/ipython/css/dataframe.css\" type=\"text/css\"/>\n    </div>"
      },
      "output_type" : "execute_result",
      "execution_count" : 4,
      "time" : "Took: 2.327s, at 2018-06-21 14:56"
    } ]
  }, {
    "metadata" : {
      "trusted" : true,
      "input_collapsed" : false,
      "collapsed" : false,
      "id" : "CB240FC1B0B44EB6841F2C94B613B989"
    },
    "cell_type" : "code",
    "source" : [ "df.select($\"Id\", $\"SalePrice\").limit(3) //S is for interpolation" ],
    "outputs" : [ {
      "name" : "stdout",
      "output_type" : "stream",
      "text" : "res78: org.apache.spark.sql.Dataset[org.apache.spark.sql.Row] = [Id: int, SalePrice: int]\n"
    }, {
      "metadata" : { },
      "data" : {
        "text/html" : "<div class=\"df-canvas\">\n      <script data-this=\"{&quot;dataId&quot;:&quot;anonafd52b33dd7d0f915f2a3e8b7b3a2ba0&quot;,&quot;partitionIndexId&quot;:&quot;anon24539f5aea025082d83a7e33d6d3875d&quot;,&quot;numPartitions&quot;:1,&quot;dfSchema&quot;:{&quot;type&quot;:&quot;struct&quot;,&quot;fields&quot;:[{&quot;name&quot;:&quot;Id&quot;,&quot;type&quot;:&quot;integer&quot;,&quot;nullable&quot;:true,&quot;metadata&quot;:{}},{&quot;name&quot;:&quot;SalePrice&quot;,&quot;type&quot;:&quot;integer&quot;,&quot;nullable&quot;:true,&quot;metadata&quot;:{}}]}}\" type=\"text/x-scoped-javascript\">/*<![CDATA[*/req(['../javascripts/notebook/dataframe','../javascripts/notebook/consoleDir'], \n      function(dataframe, extension) {\n        dataframe.call(data, this, extension);\n      }\n    );/*]]>*/</script>\n      <link rel=\"stylesheet\" href=\"/assets/stylesheets/ipython/css/dataframe.css\" type=\"text/css\"/>\n    </div>"
      },
      "output_type" : "execute_result",
      "execution_count" : 6,
      "time" : "Took: 2.066s, at 2018-06-21 14:57"
    } ]
  }, {
    "metadata" : {
      "trusted" : true,
      "input_collapsed" : false,
      "collapsed" : false,
      "id" : "EEF8A3BFC00B463C886FB860A191C7C3"
    },
    "cell_type" : "code",
    "source" : [ "df.select($\"Id\", $\"SalePrice\" as \"Sale Price in Dollars\", $\"SalePrice\" * 0.9 as \"Sale Price in Euros\").limit(2)" ],
    "outputs" : [ {
      "name" : "stdout",
      "output_type" : "stream",
      "text" : "res84: org.apache.spark.sql.Dataset[org.apache.spark.sql.Row] = [Id: int, Sale Price in Dollars: int ... 1 more field]\n"
    }, {
      "metadata" : { },
      "data" : {
        "text/html" : "<div class=\"df-canvas\">\n      <script data-this=\"{&quot;dataId&quot;:&quot;anon789cf39ef4e12998fd2f64de3167dd6f&quot;,&quot;partitionIndexId&quot;:&quot;anonceb48ce5beb2f8407027d734b5996e3e&quot;,&quot;numPartitions&quot;:1,&quot;dfSchema&quot;:{&quot;type&quot;:&quot;struct&quot;,&quot;fields&quot;:[{&quot;name&quot;:&quot;Id&quot;,&quot;type&quot;:&quot;integer&quot;,&quot;nullable&quot;:true,&quot;metadata&quot;:{}},{&quot;name&quot;:&quot;Sale Price in Dollars&quot;,&quot;type&quot;:&quot;integer&quot;,&quot;nullable&quot;:true,&quot;metadata&quot;:{}},{&quot;name&quot;:&quot;Sale Price in Euros&quot;,&quot;type&quot;:&quot;double&quot;,&quot;nullable&quot;:true,&quot;metadata&quot;:{}}]}}\" type=\"text/x-scoped-javascript\">/*<![CDATA[*/req(['../javascripts/notebook/dataframe','../javascripts/notebook/consoleDir'], \n      function(dataframe, extension) {\n        dataframe.call(data, this, extension);\n      }\n    );/*]]>*/</script>\n      <link rel=\"stylesheet\" href=\"/assets/stylesheets/ipython/css/dataframe.css\" type=\"text/css\"/>\n    </div>"
      },
      "output_type" : "execute_result",
      "execution_count" : 3,
      "time" : "Took: 2.428s, at 2018-06-21 15:01"
    } ]
  }, {
    "metadata" : {
      "trusted" : true,
      "input_collapsed" : false,
      "collapsed" : false,
      "id" : "9319BB912DC241F39558B8B2DDD7A897"
    },
    "cell_type" : "code",
    "source" : [ "def dollarsToEuros(c: Column): Column = c * 0.9\n", "df.select($\"Id\", $\"SalePrice\" as  \"Sale Price in Dollars\", dollarsToEuros($\"SalePrice\") as \"Sale Price in Euros\").limit(2)" ],
    "outputs" : [ {
      "name" : "stdout",
      "output_type" : "stream",
      "text" : "dollarsToEuros: (c: org.apache.spark.sql.Column)org.apache.spark.sql.Column\nres88: org.apache.spark.sql.Dataset[org.apache.spark.sql.Row] = [Id: int, Sale Price in Dollars: int ... 1 more field]\n"
    }, {
      "metadata" : { },
      "data" : {
        "text/html" : "<div class=\"df-canvas\">\n      <script data-this=\"{&quot;dataId&quot;:&quot;anon4a3007bf531fe05cfa89957c0800a556&quot;,&quot;partitionIndexId&quot;:&quot;anon25a6eb45127a3a3dd25612211cae0a29&quot;,&quot;numPartitions&quot;:1,&quot;dfSchema&quot;:{&quot;type&quot;:&quot;struct&quot;,&quot;fields&quot;:[{&quot;name&quot;:&quot;Id&quot;,&quot;type&quot;:&quot;integer&quot;,&quot;nullable&quot;:true,&quot;metadata&quot;:{}},{&quot;name&quot;:&quot;Sale Price in Dollars&quot;,&quot;type&quot;:&quot;integer&quot;,&quot;nullable&quot;:true,&quot;metadata&quot;:{}},{&quot;name&quot;:&quot;Sale Price in Euros&quot;,&quot;type&quot;:&quot;double&quot;,&quot;nullable&quot;:true,&quot;metadata&quot;:{}}]}}\" type=\"text/x-scoped-javascript\">/*<![CDATA[*/req(['../javascripts/notebook/dataframe','../javascripts/notebook/consoleDir'], \n      function(dataframe, extension) {\n        dataframe.call(data, this, extension);\n      }\n    );/*]]>*/</script>\n      <link rel=\"stylesheet\" href=\"/assets/stylesheets/ipython/css/dataframe.css\" type=\"text/css\"/>\n    </div>"
      },
      "output_type" : "execute_result",
      "execution_count" : 2,
      "time" : "Took: 2.270s, at 2018-06-21 15:04"
    } ]
  }, {
    "metadata" : {
      "trusted" : true,
      "input_collapsed" : false,
      "collapsed" : true,
      "id" : "E71DC095075C4C2284567EC70BE02DB7"
    },
    "cell_type" : "code",
    "source" : [ "df.withColumn(\"Random\", rand(42) > 0.5).filter(\"Random\").select(\"Id\", \"SalePrice\").limit(3)" ],
    "outputs" : [ ]
  }, {
    "metadata" : {
      "trusted" : true,
      "input_collapsed" : false,
      "collapsed" : false,
      "id" : "FECD0C97A56E40F296E23D82E38C604C"
    },
    "cell_type" : "code",
    "source" : [ "// Stats\n", "df.select(\n", "  variance(\"SalePrice\") as \"Variance\"\n", "  ,mean(\"SalePrice\") as \"Mean\"\n", "  ,stddev(\"SalePrice\") as \"Standard Deviation\")" ],
    "outputs" : [ {
      "name" : "stdout",
      "output_type" : "stream",
      "text" : "res92: org.apache.spark.sql.DataFrame = [Variance: double, Mean: double ... 1 more field]\n"
    }, {
      "metadata" : { },
      "data" : {
        "text/html" : "<div class=\"df-canvas\">\n      <script data-this=\"{&quot;dataId&quot;:&quot;anon903afa37b14837f1478db712e426d1bd&quot;,&quot;partitionIndexId&quot;:&quot;anon0e50d38107ec1808fee07d5f2904ee41&quot;,&quot;numPartitions&quot;:1,&quot;dfSchema&quot;:{&quot;type&quot;:&quot;struct&quot;,&quot;fields&quot;:[{&quot;name&quot;:&quot;Variance&quot;,&quot;type&quot;:&quot;double&quot;,&quot;nullable&quot;:true,&quot;metadata&quot;:{}},{&quot;name&quot;:&quot;Mean&quot;,&quot;type&quot;:&quot;double&quot;,&quot;nullable&quot;:true,&quot;metadata&quot;:{}},{&quot;name&quot;:&quot;Standard Deviation&quot;,&quot;type&quot;:&quot;double&quot;,&quot;nullable&quot;:true,&quot;metadata&quot;:{}}]}}\" type=\"text/x-scoped-javascript\">/*<![CDATA[*/req(['../javascripts/notebook/dataframe','../javascripts/notebook/consoleDir'], \n      function(dataframe, extension) {\n        dataframe.call(data, this, extension);\n      }\n    );/*]]>*/</script>\n      <link rel=\"stylesheet\" href=\"/assets/stylesheets/ipython/css/dataframe.css\" type=\"text/css\"/>\n    </div>"
      },
      "output_type" : "execute_result",
      "execution_count" : 2,
      "time" : "Took: 2.785s, at 2018-06-21 15:14"
    } ]
  }, {
    "metadata" : {
      "trusted" : true,
      "input_collapsed" : false,
      "collapsed" : false,
      "id" : "2C633A03F8924BE4896499BD7B5942E7"
    },
    "cell_type" : "code",
    "source" : [ "df.describe(\"SalePrice\", \"LotArea\")" ],
    "outputs" : [ {
      "name" : "stdout",
      "output_type" : "stream",
      "text" : "res94: org.apache.spark.sql.DataFrame = [summary: string, SalePrice: string ... 1 more field]\n"
    }, {
      "metadata" : { },
      "data" : {
        "text/html" : "<div class=\"df-canvas\">\n      <script data-this=\"{&quot;dataId&quot;:&quot;anone4921d4ec299981ae42d9aee8a7e987f&quot;,&quot;partitionIndexId&quot;:&quot;anon088f7614774ff7b507935f1b1b56b800&quot;,&quot;numPartitions&quot;:1,&quot;dfSchema&quot;:{&quot;type&quot;:&quot;struct&quot;,&quot;fields&quot;:[{&quot;name&quot;:&quot;summary&quot;,&quot;type&quot;:&quot;string&quot;,&quot;nullable&quot;:true,&quot;metadata&quot;:{}},{&quot;name&quot;:&quot;SalePrice&quot;,&quot;type&quot;:&quot;string&quot;,&quot;nullable&quot;:true,&quot;metadata&quot;:{}},{&quot;name&quot;:&quot;LotArea&quot;,&quot;type&quot;:&quot;string&quot;,&quot;nullable&quot;:true,&quot;metadata&quot;:{}}]}}\" type=\"text/x-scoped-javascript\">/*<![CDATA[*/req(['../javascripts/notebook/dataframe','../javascripts/notebook/consoleDir'], \n      function(dataframe, extension) {\n        dataframe.call(data, this, extension);\n      }\n    );/*]]>*/</script>\n      <link rel=\"stylesheet\" href=\"/assets/stylesheets/ipython/css/dataframe.css\" type=\"text/css\"/>\n    </div>"
      },
      "output_type" : "execute_result",
      "execution_count" : 3,
      "time" : "Took: 2.635s, at 2018-06-21 15:14"
    } ]
  }, {
    "metadata" : {
      "trusted" : true,
      "input_collapsed" : false,
      "collapsed" : false,
      "id" : "F672FAB09D6B43468A7B38C879F92B8C"
    },
    "cell_type" : "code",
    "source" : [ "df.select(corr(\"OverallQual\", \"SalePrice\"))" ],
    "outputs" : [ {
      "name" : "stdout",
      "output_type" : "stream",
      "text" : "res96: org.apache.spark.sql.DataFrame = [corr(OverallQual, SalePrice): double]\n"
    }, {
      "metadata" : { },
      "data" : {
        "text/html" : "<div class=\"df-canvas\">\n      <script data-this=\"{&quot;dataId&quot;:&quot;anonba94f7112aa5f6246c8618469c94a4e5&quot;,&quot;partitionIndexId&quot;:&quot;anon169cf13bfc598c0e47dd3c3cbb478229&quot;,&quot;numPartitions&quot;:1,&quot;dfSchema&quot;:{&quot;type&quot;:&quot;struct&quot;,&quot;fields&quot;:[{&quot;name&quot;:&quot;corr(OverallQual, SalePrice)&quot;,&quot;type&quot;:&quot;double&quot;,&quot;nullable&quot;:true,&quot;metadata&quot;:{}}]}}\" type=\"text/x-scoped-javascript\">/*<![CDATA[*/req(['../javascripts/notebook/dataframe','../javascripts/notebook/consoleDir'], \n      function(dataframe, extension) {\n        dataframe.call(data, this, extension);\n      }\n    );/*]]>*/</script>\n      <link rel=\"stylesheet\" href=\"/assets/stylesheets/ipython/css/dataframe.css\" type=\"text/css\"/>\n    </div>"
      },
      "output_type" : "execute_result",
      "execution_count" : 4,
      "time" : "Took: 2.051s, at 2018-06-21 15:16"
    } ]
  }, {
    "metadata" : {
      "trusted" : true,
      "input_collapsed" : false,
      "collapsed" : true,
      "id" : "FE6F3DD47F504282998E1DA44F3C3CB9"
    },
    "cell_type" : "code",
    "source" : [ "" ],
    "outputs" : [ ]
  } ],
  "nbformat" : 4
}